{
 "cells": [
  {
   "cell_type": "code",
   "execution_count": 1,
   "id": "9986bbd7",
   "metadata": {},
   "outputs": [],
   "source": [
    "import pandas as pd\n",
    "import numpy as np\n",
    "import math\n",
    "from sklearn import linear_model\n"
   ]
  },
  {
   "cell_type": "code",
   "execution_count": 2,
   "id": "c205dfd5",
   "metadata": {},
   "outputs": [],
   "source": [
    "#define file\n",
    "file = pd.read_csv('marketing_customer_analysis.csv')"
   ]
  },
  {
   "cell_type": "code",
   "execution_count": 26,
   "id": "e396bc3e",
   "metadata": {},
   "outputs": [],
   "source": [
    "#changed date into a better format\n",
    "file['Effective To Date'] = pd.to_datetime(file['Effective To Date'])\n",
    "#display(file.shape)\n",
    "#file.head()"
   ]
  },
  {
   "cell_type": "code",
   "execution_count": 5,
   "id": "47a17c6b",
   "metadata": {},
   "outputs": [],
   "source": [
    "#separate the features from the labels\n",
    "y = file['Total Claim Amount']\n",
    "X = file.drop(['Total Claim Amount'], axis=1)"
   ]
  },
  {
   "cell_type": "code",
   "execution_count": 27,
   "id": "d56b330e",
   "metadata": {},
   "outputs": [],
   "source": [
    "#X.head()"
   ]
  },
  {
   "cell_type": "code",
   "execution_count": 7,
   "id": "c2ee02d7",
   "metadata": {},
   "outputs": [],
   "source": [
    "#categorical features and numerical ones are going to be treated differently\n",
    "X_num = X.select_dtypes(include = np.number)\n",
    "X_cat = X.select_dtypes(include = object)"
   ]
  },
  {
   "cell_type": "code",
   "execution_count": 28,
   "id": "3c389aae",
   "metadata": {},
   "outputs": [],
   "source": [
    "#X_cat.head()"
   ]
  },
  {
   "cell_type": "code",
   "execution_count": 29,
   "id": "30ec8f1e",
   "metadata": {},
   "outputs": [],
   "source": [
    "#X_num"
   ]
  },
  {
   "cell_type": "code",
   "execution_count": 30,
   "id": "de46eb13",
   "metadata": {},
   "outputs": [],
   "source": [
    "from sklearn.preprocessing import MinMaxScaler\n",
    "MinMaxtransformer = MinMaxScaler().fit(X_num)\n",
    "x_normalized = MinMaxtransformer.transform(X_num)\n",
    "#print(x_normalized.shape)\n",
    "x_normalized = pd.DataFrame(x_normalized,columns=X_num.columns)\n",
    "#x_normalized.head()"
   ]
  },
  {
   "cell_type": "code",
   "execution_count": 31,
   "id": "fdb090d6",
   "metadata": {},
   "outputs": [],
   "source": [
    "#categorical values\n",
    "X_cat = file.select_dtypes(include = object)\n",
    "#X_cat.head()"
   ]
  },
  {
   "cell_type": "code",
   "execution_count": 32,
   "id": "2e7b420a",
   "metadata": {},
   "outputs": [],
   "source": [
    "#Unique detection before drop\n",
    "#for col in X_cat.columns:\n",
    "#    print(col + \":\" + str(X_cat[col].nunique()))"
   ]
  },
  {
   "cell_type": "code",
   "execution_count": 14,
   "id": "cc68acd4",
   "metadata": {},
   "outputs": [],
   "source": [
    "X_cat_new = X_cat.drop('Customer',axis=1)"
   ]
  },
  {
   "cell_type": "code",
   "execution_count": 34,
   "id": "0004d182",
   "metadata": {},
   "outputs": [],
   "source": [
    "#Unique detection after drop\n",
    "#display(X_cat_new.shape)\n",
    "#X_cat_new.head()"
   ]
  },
  {
   "cell_type": "code",
   "execution_count": 35,
   "id": "e95ccd8a",
   "metadata": {},
   "outputs": [],
   "source": [
    "#for col in X_cat_new.columns:\n",
    "#    print(col + \":\" + str(X_cat_new[col].nunique()))\n"
   ]
  },
  {
   "cell_type": "code",
   "execution_count": 84,
   "id": "e5385447",
   "metadata": {},
   "outputs": [
    {
     "data": {
      "text/html": [
       "<div>\n",
       "<style scoped>\n",
       "    .dataframe tbody tr th:only-of-type {\n",
       "        vertical-align: middle;\n",
       "    }\n",
       "\n",
       "    .dataframe tbody tr th {\n",
       "        vertical-align: top;\n",
       "    }\n",
       "\n",
       "    .dataframe thead tr th {\n",
       "        text-align: left;\n",
       "    }\n",
       "</style>\n",
       "<table border=\"1\" class=\"dataframe\">\n",
       "  <thead>\n",
       "    <tr>\n",
       "      <th></th>\n",
       "      <th>Arizona</th>\n",
       "      <th>California</th>\n",
       "      <th>Nevada</th>\n",
       "      <th>Oregon</th>\n",
       "      <th>Washington</th>\n",
       "      <th>No</th>\n",
       "      <th>Yes</th>\n",
       "      <th>Basic</th>\n",
       "      <th>Extended</th>\n",
       "      <th>Premium</th>\n",
       "      <th>...</th>\n",
       "      <th>Web</th>\n",
       "      <th>Four-Door Car</th>\n",
       "      <th>Luxury Car</th>\n",
       "      <th>Luxury SUV</th>\n",
       "      <th>SUV</th>\n",
       "      <th>Sports Car</th>\n",
       "      <th>Two-Door Car</th>\n",
       "      <th>Large</th>\n",
       "      <th>Medsize</th>\n",
       "      <th>Small</th>\n",
       "    </tr>\n",
       "  </thead>\n",
       "  <tbody>\n",
       "    <tr>\n",
       "      <th>0</th>\n",
       "      <td>0.0</td>\n",
       "      <td>0.0</td>\n",
       "      <td>0.0</td>\n",
       "      <td>0.0</td>\n",
       "      <td>1.0</td>\n",
       "      <td>1.0</td>\n",
       "      <td>0.0</td>\n",
       "      <td>1.0</td>\n",
       "      <td>0.0</td>\n",
       "      <td>0.0</td>\n",
       "      <td>...</td>\n",
       "      <td>0.0</td>\n",
       "      <td>0.0</td>\n",
       "      <td>0.0</td>\n",
       "      <td>0.0</td>\n",
       "      <td>0.0</td>\n",
       "      <td>0.0</td>\n",
       "      <td>1.0</td>\n",
       "      <td>0.0</td>\n",
       "      <td>1.0</td>\n",
       "      <td>0.0</td>\n",
       "    </tr>\n",
       "    <tr>\n",
       "      <th>1</th>\n",
       "      <td>1.0</td>\n",
       "      <td>0.0</td>\n",
       "      <td>0.0</td>\n",
       "      <td>0.0</td>\n",
       "      <td>0.0</td>\n",
       "      <td>1.0</td>\n",
       "      <td>0.0</td>\n",
       "      <td>0.0</td>\n",
       "      <td>1.0</td>\n",
       "      <td>0.0</td>\n",
       "      <td>...</td>\n",
       "      <td>0.0</td>\n",
       "      <td>1.0</td>\n",
       "      <td>0.0</td>\n",
       "      <td>0.0</td>\n",
       "      <td>0.0</td>\n",
       "      <td>0.0</td>\n",
       "      <td>0.0</td>\n",
       "      <td>0.0</td>\n",
       "      <td>1.0</td>\n",
       "      <td>0.0</td>\n",
       "    </tr>\n",
       "    <tr>\n",
       "      <th>2</th>\n",
       "      <td>0.0</td>\n",
       "      <td>0.0</td>\n",
       "      <td>1.0</td>\n",
       "      <td>0.0</td>\n",
       "      <td>0.0</td>\n",
       "      <td>1.0</td>\n",
       "      <td>0.0</td>\n",
       "      <td>0.0</td>\n",
       "      <td>0.0</td>\n",
       "      <td>1.0</td>\n",
       "      <td>...</td>\n",
       "      <td>0.0</td>\n",
       "      <td>0.0</td>\n",
       "      <td>0.0</td>\n",
       "      <td>0.0</td>\n",
       "      <td>0.0</td>\n",
       "      <td>0.0</td>\n",
       "      <td>1.0</td>\n",
       "      <td>0.0</td>\n",
       "      <td>1.0</td>\n",
       "      <td>0.0</td>\n",
       "    </tr>\n",
       "    <tr>\n",
       "      <th>3</th>\n",
       "      <td>0.0</td>\n",
       "      <td>1.0</td>\n",
       "      <td>0.0</td>\n",
       "      <td>0.0</td>\n",
       "      <td>0.0</td>\n",
       "      <td>1.0</td>\n",
       "      <td>0.0</td>\n",
       "      <td>1.0</td>\n",
       "      <td>0.0</td>\n",
       "      <td>0.0</td>\n",
       "      <td>...</td>\n",
       "      <td>0.0</td>\n",
       "      <td>0.0</td>\n",
       "      <td>0.0</td>\n",
       "      <td>0.0</td>\n",
       "      <td>1.0</td>\n",
       "      <td>0.0</td>\n",
       "      <td>0.0</td>\n",
       "      <td>0.0</td>\n",
       "      <td>1.0</td>\n",
       "      <td>0.0</td>\n",
       "    </tr>\n",
       "    <tr>\n",
       "      <th>4</th>\n",
       "      <td>0.0</td>\n",
       "      <td>0.0</td>\n",
       "      <td>0.0</td>\n",
       "      <td>0.0</td>\n",
       "      <td>1.0</td>\n",
       "      <td>1.0</td>\n",
       "      <td>0.0</td>\n",
       "      <td>1.0</td>\n",
       "      <td>0.0</td>\n",
       "      <td>0.0</td>\n",
       "      <td>...</td>\n",
       "      <td>0.0</td>\n",
       "      <td>1.0</td>\n",
       "      <td>0.0</td>\n",
       "      <td>0.0</td>\n",
       "      <td>0.0</td>\n",
       "      <td>0.0</td>\n",
       "      <td>0.0</td>\n",
       "      <td>0.0</td>\n",
       "      <td>1.0</td>\n",
       "      <td>0.0</td>\n",
       "    </tr>\n",
       "  </tbody>\n",
       "</table>\n",
       "<p>5 rows × 57 columns</p>\n",
       "</div>"
      ],
      "text/plain": [
       "  Arizona California Nevada Oregon Washington   No  Yes Basic Extended  \\\n",
       "0     0.0        0.0    0.0    0.0        1.0  1.0  0.0   1.0      0.0   \n",
       "1     1.0        0.0    0.0    0.0        0.0  1.0  0.0   0.0      1.0   \n",
       "2     0.0        0.0    1.0    0.0        0.0  1.0  0.0   0.0      0.0   \n",
       "3     0.0        1.0    0.0    0.0        0.0  1.0  0.0   1.0      0.0   \n",
       "4     0.0        0.0    0.0    0.0        1.0  1.0  0.0   1.0      0.0   \n",
       "\n",
       "  Premium  ...  Web Four-Door Car Luxury Car Luxury SUV  SUV Sports Car  \\\n",
       "0     0.0  ...  0.0           0.0        0.0        0.0  0.0        0.0   \n",
       "1     0.0  ...  0.0           1.0        0.0        0.0  0.0        0.0   \n",
       "2     1.0  ...  0.0           0.0        0.0        0.0  0.0        0.0   \n",
       "3     0.0  ...  0.0           0.0        0.0        0.0  1.0        0.0   \n",
       "4     0.0  ...  0.0           1.0        0.0        0.0  0.0        0.0   \n",
       "\n",
       "  Two-Door Car Large Medsize Small  \n",
       "0          1.0   0.0     1.0   0.0  \n",
       "1          0.0   0.0     1.0   0.0  \n",
       "2          1.0   0.0     1.0   0.0  \n",
       "3          0.0   0.0     1.0   0.0  \n",
       "4          0.0   0.0     1.0   0.0  \n",
       "\n",
       "[5 rows x 57 columns]"
      ]
     },
     "execution_count": 84,
     "metadata": {},
     "output_type": "execute_result"
    }
   ],
   "source": [
    "#one hot encoder without a loop------------------\n",
    "#from sklearn.preprocessing import OneHotEncoder\n",
    "#encoder = OneHotEncoder(drop='first').fit(X_cat_new)   #dropped first column\n",
    "#print(encoder.categories_)\n",
    "#encoded = encoder.transform(X_cat_new).toarray()\n",
    "#print(encoded)\n",
    "#onehot_encoded = pd.DataFrame(encoded)\n",
    "#onehot_encoded.head()\n",
    "\n",
    "from sklearn.preprocessing import OneHotEncoder\n",
    "df = pd.DataFrame()\n",
    "for col in X_cat_new.columns:\n",
    "    encoder = OneHotEncoder().fit(X_cat_new[[col]])\n",
    "    #print(encoder.categories_)\n",
    "    encoded = encoder.transform(X_cat_new[[col]]).toarray()\n",
    "    #print(encoded)\n",
    "    onehot_encoded = pd.DataFrame(encoded,columns=encoder.categories_)\n",
    "    #onehot_encoded.head()\n",
    "    df=pd.concat([df,onehot_encoded], axis=1)\n",
    "df.head()\n"
   ]
  },
  {
   "cell_type": "code",
   "execution_count": 85,
   "id": "ef0c8369",
   "metadata": {},
   "outputs": [
    {
     "data": {
      "text/html": [
       "<div>\n",
       "<style scoped>\n",
       "    .dataframe tbody tr th:only-of-type {\n",
       "        vertical-align: middle;\n",
       "    }\n",
       "\n",
       "    .dataframe tbody tr th {\n",
       "        vertical-align: top;\n",
       "    }\n",
       "\n",
       "    .dataframe thead th {\n",
       "        text-align: right;\n",
       "    }\n",
       "</style>\n",
       "<table border=\"1\" class=\"dataframe\">\n",
       "  <thead>\n",
       "    <tr style=\"text-align: right;\">\n",
       "      <th></th>\n",
       "      <th>State</th>\n",
       "      <th>Response</th>\n",
       "      <th>Coverage</th>\n",
       "      <th>Education</th>\n",
       "      <th>EmploymentStatus</th>\n",
       "      <th>Gender</th>\n",
       "      <th>Location Code</th>\n",
       "      <th>Marital Status</th>\n",
       "      <th>Policy Type</th>\n",
       "      <th>Policy</th>\n",
       "      <th>Renew Offer Type</th>\n",
       "      <th>Sales Channel</th>\n",
       "      <th>Vehicle Class</th>\n",
       "      <th>Vehicle Size</th>\n",
       "    </tr>\n",
       "  </thead>\n",
       "  <tbody>\n",
       "    <tr>\n",
       "      <th>0</th>\n",
       "      <td>4</td>\n",
       "      <td>0</td>\n",
       "      <td>0</td>\n",
       "      <td>0</td>\n",
       "      <td>1</td>\n",
       "      <td>0</td>\n",
       "      <td>1</td>\n",
       "      <td>1</td>\n",
       "      <td>0</td>\n",
       "      <td>2</td>\n",
       "      <td>0</td>\n",
       "      <td>0</td>\n",
       "      <td>5</td>\n",
       "      <td>1</td>\n",
       "    </tr>\n",
       "    <tr>\n",
       "      <th>1</th>\n",
       "      <td>0</td>\n",
       "      <td>0</td>\n",
       "      <td>1</td>\n",
       "      <td>0</td>\n",
       "      <td>4</td>\n",
       "      <td>0</td>\n",
       "      <td>1</td>\n",
       "      <td>2</td>\n",
       "      <td>1</td>\n",
       "      <td>5</td>\n",
       "      <td>2</td>\n",
       "      <td>0</td>\n",
       "      <td>0</td>\n",
       "      <td>1</td>\n",
       "    </tr>\n",
       "    <tr>\n",
       "      <th>2</th>\n",
       "      <td>2</td>\n",
       "      <td>0</td>\n",
       "      <td>2</td>\n",
       "      <td>0</td>\n",
       "      <td>1</td>\n",
       "      <td>0</td>\n",
       "      <td>1</td>\n",
       "      <td>1</td>\n",
       "      <td>1</td>\n",
       "      <td>5</td>\n",
       "      <td>0</td>\n",
       "      <td>0</td>\n",
       "      <td>5</td>\n",
       "      <td>1</td>\n",
       "    </tr>\n",
       "    <tr>\n",
       "      <th>3</th>\n",
       "      <td>1</td>\n",
       "      <td>0</td>\n",
       "      <td>0</td>\n",
       "      <td>0</td>\n",
       "      <td>4</td>\n",
       "      <td>1</td>\n",
       "      <td>1</td>\n",
       "      <td>1</td>\n",
       "      <td>0</td>\n",
       "      <td>1</td>\n",
       "      <td>0</td>\n",
       "      <td>2</td>\n",
       "      <td>3</td>\n",
       "      <td>1</td>\n",
       "    </tr>\n",
       "    <tr>\n",
       "      <th>4</th>\n",
       "      <td>4</td>\n",
       "      <td>0</td>\n",
       "      <td>0</td>\n",
       "      <td>0</td>\n",
       "      <td>1</td>\n",
       "      <td>1</td>\n",
       "      <td>0</td>\n",
       "      <td>2</td>\n",
       "      <td>1</td>\n",
       "      <td>3</td>\n",
       "      <td>0</td>\n",
       "      <td>0</td>\n",
       "      <td>0</td>\n",
       "      <td>1</td>\n",
       "    </tr>\n",
       "  </tbody>\n",
       "</table>\n",
       "</div>"
      ],
      "text/plain": [
       "   State  Response  Coverage  Education  EmploymentStatus  Gender  \\\n",
       "0      4         0         0          0                 1       0   \n",
       "1      0         0         1          0                 4       0   \n",
       "2      2         0         2          0                 1       0   \n",
       "3      1         0         0          0                 4       1   \n",
       "4      4         0         0          0                 1       1   \n",
       "\n",
       "   Location Code  Marital Status  Policy Type  Policy  Renew Offer Type  \\\n",
       "0              1               1            0       2                 0   \n",
       "1              1               2            1       5                 2   \n",
       "2              1               1            1       5                 0   \n",
       "3              1               1            0       1                 0   \n",
       "4              0               2            1       3                 0   \n",
       "\n",
       "   Sales Channel  Vehicle Class  Vehicle Size  \n",
       "0              0              5             1  \n",
       "1              0              0             1  \n",
       "2              0              5             1  \n",
       "3              2              3             1  \n",
       "4              0              0             1  "
      ]
     },
     "metadata": {},
     "output_type": "display_data"
    }
   ],
   "source": [
    "#label encoding \n",
    "from sklearn.preprocessing import LabelEncoder\n",
    "label_encoded = pd.DataFrame(data=None, columns=X_cat_new.columns)\n",
    "for col in X_cat_new:\n",
    "    label_encoded[col] = LabelEncoder().fit(X_cat_new[col]).transform(X_cat_new[col]) \n",
    "display(label_encoded.head())"
   ]
  },
  {
   "cell_type": "code",
   "execution_count": 45,
   "id": "e6ec97c9",
   "metadata": {},
   "outputs": [],
   "source": [
    "X = pd.concat([x_normalized, onehot_encoded], axis=1)\n",
    "#y  is already defined"
   ]
  },
  {
   "cell_type": "code",
   "execution_count": 46,
   "id": "c251a3df",
   "metadata": {},
   "outputs": [
    {
     "data": {
      "text/plain": [
       "(9134, 50)"
      ]
     },
     "execution_count": 46,
     "metadata": {},
     "output_type": "execute_result"
    }
   ],
   "source": [
    "X.shape"
   ]
  },
  {
   "cell_type": "code",
   "execution_count": 50,
   "id": "6ba85d92",
   "metadata": {},
   "outputs": [],
   "source": [
    "#train-test split\n",
    "from sklearn.model_selection import train_test_split\n",
    "X_train, X_test, y_train, y_test = train_test_split(X, y, test_size=0.2, random_state=33)"
   ]
  },
  {
   "cell_type": "code",
   "execution_count": 51,
   "id": "cbe54eb3",
   "metadata": {},
   "outputs": [
    {
     "name": "stdout",
     "output_type": "stream",
     "text": [
      "(7307, 50)\n",
      "(1827, 50)\n",
      "(7307,)\n",
      "(1827,)\n"
     ]
    }
   ],
   "source": [
    "print(X_train.shape)\n",
    "print(X_test.shape)\n",
    "print(y_train.shape)\n",
    "print(y_test.shape)"
   ]
  },
  {
   "cell_type": "code",
   "execution_count": 61,
   "id": "25c9d220",
   "metadata": {},
   "outputs": [],
   "source": [
    "#X_train.head()"
   ]
  },
  {
   "cell_type": "code",
   "execution_count": 62,
   "id": "8f0724df",
   "metadata": {},
   "outputs": [],
   "source": [
    "#y_train.head()"
   ]
  },
  {
   "cell_type": "code",
   "execution_count": 86,
   "id": "a6cdac1e",
   "metadata": {},
   "outputs": [],
   "source": [
    "#train/fit model \n",
    "lm = linear_model.LinearRegression()\n",
    "model = lm.fit(X_train,y_train)"
   ]
  },
  {
   "cell_type": "code",
   "execution_count": 87,
   "id": "273121bf",
   "metadata": {},
   "outputs": [
    {
     "data": {
      "text/plain": [
       "0.7791817833865978"
      ]
     },
     "execution_count": 87,
     "metadata": {},
     "output_type": "execute_result"
    }
   ],
   "source": [
    "from sklearn.metrics import r2_score\n",
    "predictions = lm.predict(X_train)\n",
    "r2_score(y_train, predictions)"
   ]
  },
  {
   "cell_type": "code",
   "execution_count": 88,
   "id": "56898b72",
   "metadata": {},
   "outputs": [
    {
     "data": {
      "text/plain": [
       "0.7476579101411098"
      ]
     },
     "execution_count": 88,
     "metadata": {},
     "output_type": "execute_result"
    }
   ],
   "source": [
    "#evaluate test data\n",
    "predictions = lm.predict(X_test)\n",
    "r2_score(y_test, predictions)"
   ]
  },
  {
   "cell_type": "code",
   "execution_count": 89,
   "id": "7e74dfc9",
   "metadata": {},
   "outputs": [],
   "source": [
    "#y_test"
   ]
  },
  {
   "cell_type": "code",
   "execution_count": 73,
   "id": "64ce7515",
   "metadata": {},
   "outputs": [
    {
     "data": {
      "text/plain": [
       "array([ 445.49861591,  410.95187025,  470.82353292, ..., 1097.96599736,\n",
       "        755.09512839,   94.70529522])"
      ]
     },
     "execution_count": 73,
     "metadata": {},
     "output_type": "execute_result"
    }
   ],
   "source": [
    "predictions"
   ]
  },
  {
   "cell_type": "code",
   "execution_count": 66,
   "id": "13f43e6b",
   "metadata": {},
   "outputs": [
    {
     "data": {
      "text/plain": [
       "156.32820708183144"
      ]
     },
     "execution_count": 66,
     "metadata": {},
     "output_type": "execute_result"
    }
   ],
   "source": [
    "from sklearn.metrics import mean_squared_error       #show the mean squared error\n",
    "np.sqrt(mean_squared_error(y_test,predictions))"
   ]
  },
  {
   "cell_type": "code",
   "execution_count": 67,
   "id": "3dfd4308",
   "metadata": {},
   "outputs": [],
   "source": [
    "#metrics\n",
    "from sklearn.metrics import mean_absolute_error, mean_squared_error, r2_score"
   ]
  },
  {
   "cell_type": "code",
   "execution_count": 68,
   "id": "abc6756e",
   "metadata": {},
   "outputs": [
    {
     "name": "stdout",
     "output_type": "stream",
     "text": [
      "100.77835320884411\n"
     ]
    }
   ],
   "source": [
    "mae = mean_absolute_error(y_test, predictions)\n",
    "print(mae)"
   ]
  },
  {
   "cell_type": "code",
   "execution_count": 71,
   "id": "c45a7bd0",
   "metadata": {},
   "outputs": [
    {
     "name": "stdout",
     "output_type": "stream",
     "text": [
      "24438.508329419976\n"
     ]
    }
   ],
   "source": [
    "mse = mean_squared_error(y_test,predictions)\n",
    "print(mse)"
   ]
  },
  {
   "cell_type": "code",
   "execution_count": 72,
   "id": "3e225fe5",
   "metadata": {},
   "outputs": [
    {
     "name": "stdout",
     "output_type": "stream",
     "text": [
      "156.32820708183144\n"
     ]
    }
   ],
   "source": [
    "rmse = np.sqrt(mse)\n",
    "print(rmse)"
   ]
  },
  {
   "cell_type": "code",
   "execution_count": 70,
   "id": "06377f18",
   "metadata": {},
   "outputs": [
    {
     "data": {
      "text/plain": [
       "0.7476579101411098"
      ]
     },
     "execution_count": 70,
     "metadata": {},
     "output_type": "execute_result"
    }
   ],
   "source": [
    "r2 = r2_score(y_test, predictions)\n",
    "r2"
   ]
  }
 ],
 "metadata": {
  "kernelspec": {
   "display_name": "Python 3",
   "language": "python",
   "name": "python3"
  },
  "language_info": {
   "codemirror_mode": {
    "name": "ipython",
    "version": 3
   },
   "file_extension": ".py",
   "mimetype": "text/x-python",
   "name": "python",
   "nbconvert_exporter": "python",
   "pygments_lexer": "ipython3",
   "version": "3.8.8"
  }
 },
 "nbformat": 4,
 "nbformat_minor": 5
}
