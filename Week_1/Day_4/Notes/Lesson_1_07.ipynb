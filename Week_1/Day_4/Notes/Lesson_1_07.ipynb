{
 "cells": [
  {
   "cell_type": "code",
   "execution_count": 1,
   "metadata": {
    "id": "ON__8MOB8trA"
   },
   "outputs": [],
   "source": [
    "import pandas as pd\n",
    "import numpy as np\n",
    "import matplotlib.pyplot as plt\n",
    "import seaborn as sns\n",
    "%matplotlib inline\n"
   ]
  },
  {
   "cell_type": "code",
   "execution_count": 2,
   "metadata": {
    "id": "Vjheiwjs8trG"
   },
   "outputs": [],
   "source": [
    "data = pd.read_csv('regression_data1.csv')"
   ]
  },
  {
   "cell_type": "code",
   "execution_count": 3,
   "metadata": {
    "id": "c6jYbmjk8trH"
   },
   "outputs": [
    {
     "data": {
      "text/html": [
       "<div>\n",
       "<style scoped>\n",
       "    .dataframe tbody tr th:only-of-type {\n",
       "        vertical-align: middle;\n",
       "    }\n",
       "\n",
       "    .dataframe tbody tr th {\n",
       "        vertical-align: top;\n",
       "    }\n",
       "\n",
       "    .dataframe thead th {\n",
       "        text-align: right;\n",
       "    }\n",
       "</style>\n",
       "<table border=\"1\" class=\"dataframe\">\n",
       "  <thead>\n",
       "    <tr style=\"text-align: right;\">\n",
       "      <th></th>\n",
       "      <th>HV1</th>\n",
       "      <th>IC1</th>\n",
       "      <th>IC2</th>\n",
       "      <th>IC3</th>\n",
       "      <th>IC4</th>\n",
       "      <th>IC5</th>\n",
       "      <th>AVGGIFT</th>\n",
       "      <th>TARGET_D</th>\n",
       "    </tr>\n",
       "  </thead>\n",
       "  <tbody>\n",
       "    <tr>\n",
       "      <th>0</th>\n",
       "      <td>2346</td>\n",
       "      <td>420</td>\n",
       "      <td>446</td>\n",
       "      <td>468</td>\n",
       "      <td>503</td>\n",
       "      <td>14552</td>\n",
       "      <td>15.500000</td>\n",
       "      <td>21.0</td>\n",
       "    </tr>\n",
       "    <tr>\n",
       "      <th>1</th>\n",
       "      <td>497</td>\n",
       "      <td>350</td>\n",
       "      <td>364</td>\n",
       "      <td>357</td>\n",
       "      <td>384</td>\n",
       "      <td>11696</td>\n",
       "      <td>3.080000</td>\n",
       "      <td>3.0</td>\n",
       "    </tr>\n",
       "    <tr>\n",
       "      <th>2</th>\n",
       "      <td>1229</td>\n",
       "      <td>469</td>\n",
       "      <td>502</td>\n",
       "      <td>507</td>\n",
       "      <td>544</td>\n",
       "      <td>17313</td>\n",
       "      <td>7.500000</td>\n",
       "      <td>20.0</td>\n",
       "    </tr>\n",
       "    <tr>\n",
       "      <th>3</th>\n",
       "      <td>325</td>\n",
       "      <td>148</td>\n",
       "      <td>181</td>\n",
       "      <td>171</td>\n",
       "      <td>209</td>\n",
       "      <td>6334</td>\n",
       "      <td>6.700000</td>\n",
       "      <td>5.0</td>\n",
       "    </tr>\n",
       "    <tr>\n",
       "      <th>4</th>\n",
       "      <td>768</td>\n",
       "      <td>174</td>\n",
       "      <td>201</td>\n",
       "      <td>220</td>\n",
       "      <td>249</td>\n",
       "      <td>7802</td>\n",
       "      <td>8.785714</td>\n",
       "      <td>10.0</td>\n",
       "    </tr>\n",
       "  </tbody>\n",
       "</table>\n",
       "</div>"
      ],
      "text/plain": [
       "    HV1  IC1  IC2  IC3  IC4    IC5    AVGGIFT  TARGET_D\n",
       "0  2346  420  446  468  503  14552  15.500000      21.0\n",
       "1   497  350  364  357  384  11696   3.080000       3.0\n",
       "2  1229  469  502  507  544  17313   7.500000      20.0\n",
       "3   325  148  181  171  209   6334   6.700000       5.0\n",
       "4   768  174  201  220  249   7802   8.785714      10.0"
      ]
     },
     "execution_count": 3,
     "metadata": {},
     "output_type": "execute_result"
    }
   ],
   "source": [
    "data.head()"
   ]
  },
  {
   "cell_type": "code",
   "execution_count": 4,
   "metadata": {
    "id": "wZlFCIpe8trI"
   },
   "outputs": [
    {
     "data": {
      "image/png": "[encoded data removed]",
      "text/plain": [
       "<Figure size 432x288 with 1 Axes>"
      ]
     },
     "metadata": {
      "needs_background": "light"
     },
     "output_type": "display_data"
    }
   ],
   "source": [
    "data['HV1'].hist()\n",
    "plt.show()\n"
   ]
  },
  {
   "cell_type": "code",
   "execution_count": 5,
   "metadata": {
    "id": "HfFrAX4f8trI"
   },
   "outputs": [
    {
     "data": {
      "image/png": "[encoded data removed]",
      "text/plain": [
       "<Figure size 360x360 with 1 Axes>"
      ]
     },
     "metadata": {
      "needs_background": "light"
     },
     "output_type": "display_data"
    }
   ],
   "source": [
    "sns.displot(data['HV1'])\n",
    "plt.show()\n"
   ]
  },
  {
   "cell_type": "code",
   "execution_count": 6,
   "metadata": {
    "id": "wPZFRiX98trJ"
   },
   "outputs": [
    {
     "data": {
      "image/png": "[encoded data removed]",
      "text/plain": [
       "<Figure size 360x360 with 1 Axes>"
      ]
     },
     "metadata": {
      "needs_background": "light"
     },
     "output_type": "display_data"
    }
   ],
   "source": [
    "sns.displot(data['IC1'])\n",
    "plt.show()\n"
   ]
  },
  {
   "cell_type": "code",
   "execution_count": 7,
   "metadata": {
    "id": "RnnPGN0Q8trJ"
   },
   "outputs": [
    {
     "data": {
      "image/png": "[encoded data removed]",
      "text/plain": [
       "<Figure size 432x288 with 1 Axes>"
      ]
     },
     "metadata": {
      "needs_background": "light"
     },
     "output_type": "display_data"
    }
   ],
   "source": [
    "sns.boxplot(x=data['IC1'])\n",
    "plt.show()\n"
   ]
  },
  {
   "cell_type": "code",
   "execution_count": 8,
   "metadata": {
    "id": "9yKKesCq8trJ"
   },
   "outputs": [],
   "source": [
    "# removing the outliers from IC1 - we don't always do it, only for good reasons\n",
    "# but if we want to do it, this is how:\n",
    "iqr = np.percentile(data['IC1'],75) - np.percentile(data['IC1'],25)\n",
    "upper_limit = np.percentile(data['IC1'],75) + 1.5*iqr\n",
    "lower_limit = np.percentile(data['IC1'],25) - 1.5*iqr\n"
   ]
  },
  {
   "cell_type": "code",
   "execution_count": 9,
   "metadata": {
    "colab": {
     "base_uri": "https://localhost:8080/",
     "height": 164
    },
    "id": "JBoT03xW8trK",
    "outputId": "1376d567-0892-4f5d-8cce-a72dc69b13e7"
   },
   "outputs": [
    {
     "data": {
      "text/plain": [
       "-43.0"
      ]
     },
     "execution_count": 9,
     "metadata": {},
     "output_type": "execute_result"
    }
   ],
   "source": [
    "lower_limit"
   ]
  },
  {
   "cell_type": "code",
   "execution_count": 10,
   "metadata": {
    "id": "v6vp-C-N8trK"
   },
   "outputs": [
    {
     "data": {
      "image/png": "[encoded data removed]",
      "text/plain": [
       "<Figure size 360x360 with 1 Axes>"
      ]
     },
     "metadata": {
      "needs_background": "light"
     },
     "output_type": "display_data"
    }
   ],
   "source": [
    "data = data[(data['IC1']>lower_limit) & (data['IC1']<upper_limit)]\n",
    "sns.displot(data['IC1'])\n",
    "plt.show()\n",
    "\n",
    "\n"
   ]
  },
  {
   "cell_type": "code",
   "execution_count": 11,
   "metadata": {
    "id": "qoECSKvd8trK"
   },
   "outputs": [],
   "source": [
    "#Activity 1\n",
    "# Draw a box plot for the IC2.\n",
    "# Print the descriptive statistics for IC2.\n",
    "# Remove the outliers from the column IC2."
   ]
  },
  {
   "cell_type": "code",
   "execution_count": 12,
   "metadata": {
    "id": "0aa_vh_D8trK"
   },
   "outputs": [
    {
     "data": {
      "image/png": "[encoded data removed]",
      "text/plain": [
       "<Figure size 432x288 with 1 Axes>"
      ]
     },
     "metadata": {
      "needs_background": "light"
     },
     "output_type": "display_data"
    }
   ],
   "source": [
    "sns.boxplot(x=data['IC2'])\n",
    "plt.show()"
   ]
  },
  {
   "cell_type": "code",
   "execution_count": 13,
   "metadata": {},
   "outputs": [
    {
     "data": {
      "text/plain": [
       "count    4670.000000\n",
       "mean      380.943255\n",
       "std       141.325353\n",
       "min         0.000000\n",
       "25%       280.000000\n",
       "50%       361.000000\n",
       "75%       465.000000\n",
       "max      1177.000000\n",
       "Name: IC2, dtype: float64"
      ]
     },
     "execution_count": 13,
     "metadata": {},
     "output_type": "execute_result"
    }
   ],
   "source": [
    "data['IC2'].describe()"
   ]
  },
  {
   "cell_type": "code",
   "execution_count": 14,
   "metadata": {},
   "outputs": [
    {
     "data": {
      "image/png": "[encoded data removed]",
      "text/plain": [
       "<Figure size 360x360 with 1 Axes>"
      ]
     },
     "metadata": {
      "needs_background": "light"
     },
     "output_type": "display_data"
    }
   ],
   "source": [
    "iqr = np.percentile(data['IC2'],75) - np.percentile(data['IC2'],25)\n",
    "upper_limit = np.percentile(data['IC2'],75) + 1.5*iqr\n",
    "lower_limit = np.percentile(data['IC2'],25) - 1.5*iqr\n",
    "data = data[(data['IC2']>lower_limit) & (data['IC2']<upper_limit)]\n",
    "sns.displot(data['IC2'])\n",
    "plt.show()"
   ]
  },
  {
   "cell_type": "code",
   "execution_count": 15,
   "metadata": {
    "id": "-gxZoPKc8trL"
   },
   "outputs": [
    {
     "data": {
      "text/plain": [
       "(4574, 8)"
      ]
     },
     "execution_count": 15,
     "metadata": {},
     "output_type": "execute_result"
    }
   ],
   "source": [
    "data.shape\n"
   ]
  },
  {
   "cell_type": "code",
   "execution_count": null,
   "metadata": {},
   "outputs": [],
   "source": []
  },
  {
   "cell_type": "code",
   "execution_count": null,
   "metadata": {},
   "outputs": [],
   "source": []
  },
  {
   "cell_type": "code",
   "execution_count": 16,
   "metadata": {
    "id": "4iT7TnF98trL"
   },
   "outputs": [],
   "source": [
    "\n",
    "#End Acivity1"
   ]
  },
  {
   "cell_type": "code",
   "execution_count": 17,
   "metadata": {
    "id": "qbU9Sez28trL"
   },
   "outputs": [
    {
     "data": {
      "image/png": "[encoded data removed]",
      "text/plain": [
       "<Figure size 360x360 with 1 Axes>"
      ]
     },
     "metadata": {
      "needs_background": "light"
     },
     "output_type": "display_data"
    }
   ],
   "source": [
    "\n",
    "sns.displot(data['HV1'])\n",
    "plt.show()"
   ]
  },
  {
   "cell_type": "code",
   "execution_count": 18,
   "metadata": {},
   "outputs": [],
   "source": [
    "#np.log10(0)"
   ]
  },
  {
   "cell_type": "code",
   "execution_count": 19,
   "metadata": {
    "id": "EiHNfXfb8trM"
   },
   "outputs": [
    {
     "data": {
      "image/png": "[encoded data removed]",
      "text/plain": [
       "<Figure size 360x360 with 1 Axes>"
      ]
     },
     "metadata": {
      "needs_background": "light"
     },
     "output_type": "display_data"
    }
   ],
   "source": [
    "# Log tranformation: reduce range of 0 - 100000 to a range of 0-5\n",
    "\n",
    "# Code to test how the transformation will look like.\n",
    "# Here we are trying two different codes. Notice that in the first function\n",
    "# we are replacing the -inf values after we take logarithm by 0 while in\n",
    "# the second case we will replace them with np.NaN. The idea is that\n",
    "# we will then replace those NaN values in the column with the mean or\n",
    "# median of the column\n",
    "\n",
    "def log_transfom_clean1(x):\n",
    "    x = np.log10(x)\n",
    "    if np.isfinite(x):\n",
    "        return x\n",
    "    else:\n",
    "        return 0\n",
    "HV1_log = data['HV1'].apply(lambda x :log_transfom_clean1(x))\n",
    "sns.displot(HV1_log)\n",
    "plt.show()"
   ]
  },
  {
   "cell_type": "code",
   "execution_count": null,
   "metadata": {},
   "outputs": [],
   "source": []
  },
  {
   "cell_type": "code",
   "execution_count": 20,
   "metadata": {
    "id": "M2stNgZy8trM"
   },
   "outputs": [
    {
     "name": "stderr",
     "output_type": "stream",
     "text": [
      "<ipython-input-20-fd27406b9ee6>:2: RuntimeWarning: divide by zero encountered in log10\n",
      "  x = np.log10(x)\n"
     ]
    },
    {
     "data": {
      "image/png": "[encoded data removed]",
      "text/plain": [
       "<Figure size 360x360 with 1 Axes>"
      ]
     },
     "metadata": {
      "needs_background": "light"
     },
     "output_type": "display_data"
    }
   ],
   "source": [
    "def log_transfom_clean2(x):\n",
    "    x = np.log10(x)\n",
    "    if np.isfinite(x):\n",
    "        return x\n",
    "    else:\n",
    "        return np.NAN # We are returning NaNs so that we can replace them with the mean later\n",
    "data['HV1_log'] = list(map(log_transfom_clean2, data['HV1']))\n",
    "# Now we replace the NAN by the mean\n",
    "data['HV1_log'] = data['HV1_log'].fillna(np.mean(data['HV1_log']))\n",
    "sns.displot(data['HV1_log'])\n",
    "plt.show()"
   ]
  },
  {
   "cell_type": "code",
   "execution_count": 21,
   "metadata": {
    "id": "ArQOppE18trM"
   },
   "outputs": [],
   "source": [
    "#data = data.drop(['HV1'], axis=1)\n",
    "#data.head()"
   ]
  },
  {
   "cell_type": "code",
   "execution_count": 22,
   "metadata": {
    "id": "fXTVEY7z8trM"
   },
   "outputs": [],
   "source": [
    "# Activity 2\n",
    "# Repeat the process(log transformation) for the column IC3. Define the function again yourself.\n",
    "# Remove the tails of the transformed column to make it closer to the normal distribution.\n",
    "# This time change the factor from 1.5 to 3 when calculating the upper limit and the lower limit. Check the distribution plot. Does it remove the tails effectively? If not change the factor back to 1.5 and see the results."
   ]
  },
  {
   "cell_type": "code",
   "execution_count": 40,
   "metadata": {
    "id": "pmdOWH0M8trN"
   },
   "outputs": [
    {
     "data": {
      "image/png": "[encoded data removed]",
      "text/plain": [
       "<Figure size 360x360 with 1 Axes>"
      ]
     },
     "metadata": {
      "needs_background": "light"
     },
     "output_type": "display_data"
    }
   ],
   "source": [
    "# 1\n",
    "def log_transfom_clean3(x):\n",
    "    x = np.log10(x)\n",
    "    if np.isfinite(x):\n",
    "        return x\n",
    "    else:\n",
    "        return 0\n",
    "\n",
    "IC3_log = data['IC3'].apply(lambda x :log_transfom_clean3(x))\n",
    "sns.displot(IC3_log)\n",
    "plt.show()\n"
   ]
  },
  {
   "cell_type": "code",
   "execution_count": 42,
   "metadata": {
    "id": "ePLxNq1H8trN"
   },
   "outputs": [
    {
     "data": {
      "image/png": "[encoded data removed]",
      "text/plain": [
       "<Figure size 360x360 with 1 Axes>"
      ]
     },
     "metadata": {
      "needs_background": "light"
     },
     "output_type": "display_data"
    }
   ],
   "source": [
    "# 2\n",
    "#def log_transfom_clean4(x):\n",
    "#    x = np.log10(x)\n",
    "#    if np.isfinite(x):\n",
    "#        return x\n",
    "#    else:\n",
    "#        return np.NAN \n",
    "#data['IC3_log'] = list(map(log_transfom_clean4, data['IC3']))\n",
    "#data['IC3_log'] = data['IC3_log'].fillna(np.mean(data['IC3_log']))\n",
    "\n",
    "iqr = np.percentile(data['IC3'],75) - np.percentile(data['IC3'],25)\n",
    "upper_limit = np.percentile(data['IC3'],75) + 1.5*iqr\n",
    "lower_limit = np.percentile(data['IC3'],25) - 1.5*iqr\n",
    "data = data[(data['IC3']>lower_limit) & (data['IC3']<upper_limit)]\n",
    "sns.displot(data['IC3_log'])\n",
    "plt.show()\n"
   ]
  },
  {
   "cell_type": "code",
   "execution_count": 25,
   "metadata": {
    "id": "olxMz87i8trN"
   },
   "outputs": [],
   "source": [
    "#End Activity 2"
   ]
  },
  {
   "cell_type": "code",
   "execution_count": 26,
   "metadata": {
    "id": "v_YBFqNK8trN"
   },
   "outputs": [
    {
     "data": {
      "image/png": "[encoded data removed]",
      "text/plain": [
       "<Figure size 360x360 with 1 Axes>"
      ]
     },
     "metadata": {
      "needs_background": "light"
     },
     "output_type": "display_data"
    }
   ],
   "source": [
    "# BoxCox transformation - another one of many transforms, to get the data more like normal\n",
    "\n",
    "# BoxCox does not like nagative values\n",
    "#Since this is median household income, we can filter out negative values:\n",
    "len(data[data['IC5']<=0])  # number of such observations.\n",
    "# if you do not want to lose this data, replace it with the mean of the column\n",
    "data['IC1_'] = np.where(data['IC1']<=0,0,data['IC1'])\n",
    "\n",
    "# now calculate mean of the new column , excluding zeros in the count\n",
    "mean = np.sum(data['IC1_'])/len(data[data['IC1_']>0])\n",
    "\n",
    "data['IC1_'] = data['IC1_'].replace(0,mean)\n",
    "# data = data.drop(['IC1'], axis=1)\n",
    "sns.displot(data['IC1_'])\n",
    "plt.show()"
   ]
  },
  {
   "cell_type": "code",
   "execution_count": 27,
   "metadata": {
    "id": "HaJoWs0K8trO"
   },
   "outputs": [
    {
     "data": {
      "image/png": "[encoded data removed]",
      "text/plain": [
       "<Figure size 360x360 with 1 Axes>"
      ]
     },
     "metadata": {
      "needs_background": "light"
     },
     "output_type": "display_data"
    }
   ],
   "source": [
    "from scipy import stats\n",
    "xt, lmbda = stats.boxcox(data['IC1_'])\n",
    "sns.displot(xt)\n",
    "plt.show()"
   ]
  },
  {
   "cell_type": "code",
   "execution_count": null,
   "metadata": {
    "id": "IFqZz1nq8trO"
   },
   "outputs": [],
   "source": []
  },
  {
   "cell_type": "code",
   "execution_count": 28,
   "metadata": {
    "id": "jeEhUBRk8trO"
   },
   "outputs": [],
   "source": [
    "#Activity 3\n",
    "# Repeat the same steps for column IC5 for box-cox transformation."
   ]
  },
  {
   "cell_type": "code",
   "execution_count": 29,
   "metadata": {
    "id": "lMYEpa9o8trO"
   },
   "outputs": [],
   "source": [
    "# Repeat the same steps for column 'IC5'\n",
    "# for box cox transformation, we can also use sklearn's preprocessing module. It will be introduced later\n",
    "\n"
   ]
  },
  {
   "cell_type": "code",
   "execution_count": null,
   "metadata": {
    "id": "kC-jDnV78trP"
   },
   "outputs": [],
   "source": [
    "\n"
   ]
  },
  {
   "cell_type": "code",
   "execution_count": 30,
   "metadata": {
    "id": "7AoY2Av8GnWG"
   },
   "outputs": [],
   "source": [
    "#NOTE: the transformations that we did before, aim to make the distributions more like a normal distribution\n",
    "# While there are numeric modelling methods that require this, Linear Regression is not one of them.\n",
    "# LR only requires the error terms to be normally ditributed.\n",
    "# we still wanted to show these transformations as they might come in handy."
   ]
  },
  {
   "cell_type": "code",
   "execution_count": 44,
   "metadata": {
    "id": "0sUiMkTo8trP"
   },
   "outputs": [
    {
     "data": {
      "text/html": [
       "<div>\n",
       "<style scoped>\n",
       "    .dataframe tbody tr th:only-of-type {\n",
       "        vertical-align: middle;\n",
       "    }\n",
       "\n",
       "    .dataframe tbody tr th {\n",
       "        vertical-align: top;\n",
       "    }\n",
       "\n",
       "    .dataframe thead th {\n",
       "        text-align: right;\n",
       "    }\n",
       "</style>\n",
       "<table border=\"1\" class=\"dataframe\">\n",
       "  <thead>\n",
       "    <tr style=\"text-align: right;\">\n",
       "      <th></th>\n",
       "      <th>HV1</th>\n",
       "      <th>IC1</th>\n",
       "      <th>IC2</th>\n",
       "      <th>IC3</th>\n",
       "      <th>IC4</th>\n",
       "      <th>IC5</th>\n",
       "      <th>AVGGIFT</th>\n",
       "      <th>TARGET_D</th>\n",
       "    </tr>\n",
       "  </thead>\n",
       "  <tbody>\n",
       "    <tr>\n",
       "      <th>0</th>\n",
       "      <td>2346</td>\n",
       "      <td>420</td>\n",
       "      <td>446</td>\n",
       "      <td>468</td>\n",
       "      <td>503</td>\n",
       "      <td>14552</td>\n",
       "      <td>15.500000</td>\n",
       "      <td>21.0</td>\n",
       "    </tr>\n",
       "    <tr>\n",
       "      <th>1</th>\n",
       "      <td>497</td>\n",
       "      <td>350</td>\n",
       "      <td>364</td>\n",
       "      <td>357</td>\n",
       "      <td>384</td>\n",
       "      <td>11696</td>\n",
       "      <td>3.080000</td>\n",
       "      <td>3.0</td>\n",
       "    </tr>\n",
       "    <tr>\n",
       "      <th>2</th>\n",
       "      <td>1229</td>\n",
       "      <td>469</td>\n",
       "      <td>502</td>\n",
       "      <td>507</td>\n",
       "      <td>544</td>\n",
       "      <td>17313</td>\n",
       "      <td>7.500000</td>\n",
       "      <td>20.0</td>\n",
       "    </tr>\n",
       "    <tr>\n",
       "      <th>3</th>\n",
       "      <td>325</td>\n",
       "      <td>148</td>\n",
       "      <td>181</td>\n",
       "      <td>171</td>\n",
       "      <td>209</td>\n",
       "      <td>6334</td>\n",
       "      <td>6.700000</td>\n",
       "      <td>5.0</td>\n",
       "    </tr>\n",
       "    <tr>\n",
       "      <th>4</th>\n",
       "      <td>768</td>\n",
       "      <td>174</td>\n",
       "      <td>201</td>\n",
       "      <td>220</td>\n",
       "      <td>249</td>\n",
       "      <td>7802</td>\n",
       "      <td>8.785714</td>\n",
       "      <td>10.0</td>\n",
       "    </tr>\n",
       "  </tbody>\n",
       "</table>\n",
       "</div>"
      ],
      "text/plain": [
       "    HV1  IC1  IC2  IC3  IC4    IC5    AVGGIFT  TARGET_D\n",
       "0  2346  420  446  468  503  14552  15.500000      21.0\n",
       "1   497  350  364  357  384  11696   3.080000       3.0\n",
       "2  1229  469  502  507  544  17313   7.500000      20.0\n",
       "3   325  148  181  171  209   6334   6.700000       5.0\n",
       "4   768  174  201  220  249   7802   8.785714      10.0"
      ]
     },
     "metadata": {},
     "output_type": "display_data"
    },
    {
     "data": {
      "text/plain": [
       "(4843, 8)"
      ]
     },
     "execution_count": 44,
     "metadata": {},
     "output_type": "execute_result"
    }
   ],
   "source": [
    "# Normalizing ( ) and scaling ()\n",
    "data = pd.read_csv('regression_data1.csv') \n",
    "display(data.head())\n",
    "data.shape"
   ]
  },
  {
   "cell_type": "code",
   "execution_count": 32,
   "metadata": {
    "id": "GTLdksfK8trP"
   },
   "outputs": [
    {
     "data": {
      "image/png": "[encoded data removed]",
      "text/plain": [
       "<Figure size 432x288 with 1 Axes>"
      ]
     },
     "metadata": {
      "needs_background": "light"
     },
     "output_type": "display_data"
    }
   ],
   "source": [
    "sns.scatterplot(x=data['HV1'], y=data['TARGET_D'])\n",
    "plt.show()"
   ]
  },
  {
   "cell_type": "code",
   "execution_count": 52,
   "metadata": {
    "id": "h1MPHPZI8trQ"
   },
   "outputs": [],
   "source": [
    "from sklearn.preprocessing import MinMaxScaler\n",
    "from sklearn.preprocessing import StandardScaler\n",
    "\n",
    "y = data['TARGET_D']\n",
    "X = data.drop(['TARGET_D'], axis=1)\n",
    "X_num = X.select_dtypes(include = np.number)\n",
    "X_cat = X.select_dtypes(include = object)"
   ]
  },
  {
   "cell_type": "code",
   "execution_count": 46,
   "metadata": {
    "id": "zhBYmzjY8trQ"
   },
   "outputs": [
    {
     "data": {
      "text/html": [
       "<div>\n",
       "<style scoped>\n",
       "    .dataframe tbody tr th:only-of-type {\n",
       "        vertical-align: middle;\n",
       "    }\n",
       "\n",
       "    .dataframe tbody tr th {\n",
       "        vertical-align: top;\n",
       "    }\n",
       "\n",
       "    .dataframe thead th {\n",
       "        text-align: right;\n",
       "    }\n",
       "</style>\n",
       "<table border=\"1\" class=\"dataframe\">\n",
       "  <thead>\n",
       "    <tr style=\"text-align: right;\">\n",
       "      <th></th>\n",
       "      <th>HV1</th>\n",
       "      <th>IC1</th>\n",
       "      <th>IC2</th>\n",
       "      <th>IC3</th>\n",
       "      <th>IC4</th>\n",
       "      <th>IC5</th>\n",
       "      <th>AVGGIFT</th>\n",
       "    </tr>\n",
       "  </thead>\n",
       "  <tbody>\n",
       "    <tr>\n",
       "      <th>0</th>\n",
       "      <td>2346</td>\n",
       "      <td>420</td>\n",
       "      <td>446</td>\n",
       "      <td>468</td>\n",
       "      <td>503</td>\n",
       "      <td>14552</td>\n",
       "      <td>15.500000</td>\n",
       "    </tr>\n",
       "    <tr>\n",
       "      <th>1</th>\n",
       "      <td>497</td>\n",
       "      <td>350</td>\n",
       "      <td>364</td>\n",
       "      <td>357</td>\n",
       "      <td>384</td>\n",
       "      <td>11696</td>\n",
       "      <td>3.080000</td>\n",
       "    </tr>\n",
       "    <tr>\n",
       "      <th>2</th>\n",
       "      <td>1229</td>\n",
       "      <td>469</td>\n",
       "      <td>502</td>\n",
       "      <td>507</td>\n",
       "      <td>544</td>\n",
       "      <td>17313</td>\n",
       "      <td>7.500000</td>\n",
       "    </tr>\n",
       "    <tr>\n",
       "      <th>3</th>\n",
       "      <td>325</td>\n",
       "      <td>148</td>\n",
       "      <td>181</td>\n",
       "      <td>171</td>\n",
       "      <td>209</td>\n",
       "      <td>6334</td>\n",
       "      <td>6.700000</td>\n",
       "    </tr>\n",
       "    <tr>\n",
       "      <th>4</th>\n",
       "      <td>768</td>\n",
       "      <td>174</td>\n",
       "      <td>201</td>\n",
       "      <td>220</td>\n",
       "      <td>249</td>\n",
       "      <td>7802</td>\n",
       "      <td>8.785714</td>\n",
       "    </tr>\n",
       "    <tr>\n",
       "      <th>...</th>\n",
       "      <td>...</td>\n",
       "      <td>...</td>\n",
       "      <td>...</td>\n",
       "      <td>...</td>\n",
       "      <td>...</td>\n",
       "      <td>...</td>\n",
       "      <td>...</td>\n",
       "    </tr>\n",
       "    <tr>\n",
       "      <th>4838</th>\n",
       "      <td>701</td>\n",
       "      <td>297</td>\n",
       "      <td>335</td>\n",
       "      <td>405</td>\n",
       "      <td>468</td>\n",
       "      <td>15258</td>\n",
       "      <td>15.500000</td>\n",
       "    </tr>\n",
       "    <tr>\n",
       "      <th>4839</th>\n",
       "      <td>3357</td>\n",
       "      <td>284</td>\n",
       "      <td>455</td>\n",
       "      <td>343</td>\n",
       "      <td>447</td>\n",
       "      <td>24240</td>\n",
       "      <td>11.857143</td>\n",
       "    </tr>\n",
       "    <tr>\n",
       "      <th>4840</th>\n",
       "      <td>700</td>\n",
       "      <td>322</td>\n",
       "      <td>415</td>\n",
       "      <td>356</td>\n",
       "      <td>446</td>\n",
       "      <td>14360</td>\n",
       "      <td>11.333333</td>\n",
       "    </tr>\n",
       "    <tr>\n",
       "      <th>4841</th>\n",
       "      <td>601</td>\n",
       "      <td>206</td>\n",
       "      <td>225</td>\n",
       "      <td>251</td>\n",
       "      <td>289</td>\n",
       "      <td>9801</td>\n",
       "      <td>13.000000</td>\n",
       "    </tr>\n",
       "    <tr>\n",
       "      <th>4842</th>\n",
       "      <td>919</td>\n",
       "      <td>425</td>\n",
       "      <td>562</td>\n",
       "      <td>558</td>\n",
       "      <td>697</td>\n",
       "      <td>25784</td>\n",
       "      <td>17.923077</td>\n",
       "    </tr>\n",
       "  </tbody>\n",
       "</table>\n",
       "<p>4843 rows × 7 columns</p>\n",
       "</div>"
      ],
      "text/plain": [
       "       HV1  IC1  IC2  IC3  IC4    IC5    AVGGIFT\n",
       "0     2346  420  446  468  503  14552  15.500000\n",
       "1      497  350  364  357  384  11696   3.080000\n",
       "2     1229  469  502  507  544  17313   7.500000\n",
       "3      325  148  181  171  209   6334   6.700000\n",
       "4      768  174  201  220  249   7802   8.785714\n",
       "...    ...  ...  ...  ...  ...    ...        ...\n",
       "4838   701  297  335  405  468  15258  15.500000\n",
       "4839  3357  284  455  343  447  24240  11.857143\n",
       "4840   700  322  415  356  446  14360  11.333333\n",
       "4841   601  206  225  251  289   9801  13.000000\n",
       "4842   919  425  562  558  697  25784  17.923077\n",
       "\n",
       "[4843 rows x 7 columns]"
      ]
     },
     "execution_count": 46,
     "metadata": {},
     "output_type": "execute_result"
    }
   ],
   "source": [
    "X_num"
   ]
  },
  {
   "cell_type": "code",
   "execution_count": 47,
   "metadata": {},
   "outputs": [
    {
     "data": {
      "text/html": [
       "<div>\n",
       "<style scoped>\n",
       "    .dataframe tbody tr th:only-of-type {\n",
       "        vertical-align: middle;\n",
       "    }\n",
       "\n",
       "    .dataframe tbody tr th {\n",
       "        vertical-align: top;\n",
       "    }\n",
       "\n",
       "    .dataframe thead th {\n",
       "        text-align: right;\n",
       "    }\n",
       "</style>\n",
       "<table border=\"1\" class=\"dataframe\">\n",
       "  <thead>\n",
       "    <tr style=\"text-align: right;\">\n",
       "      <th></th>\n",
       "    </tr>\n",
       "  </thead>\n",
       "  <tbody>\n",
       "    <tr>\n",
       "      <th>0</th>\n",
       "    </tr>\n",
       "    <tr>\n",
       "      <th>1</th>\n",
       "    </tr>\n",
       "    <tr>\n",
       "      <th>2</th>\n",
       "    </tr>\n",
       "    <tr>\n",
       "      <th>3</th>\n",
       "    </tr>\n",
       "    <tr>\n",
       "      <th>4</th>\n",
       "    </tr>\n",
       "    <tr>\n",
       "      <th>...</th>\n",
       "    </tr>\n",
       "    <tr>\n",
       "      <th>4838</th>\n",
       "    </tr>\n",
       "    <tr>\n",
       "      <th>4839</th>\n",
       "    </tr>\n",
       "    <tr>\n",
       "      <th>4840</th>\n",
       "    </tr>\n",
       "    <tr>\n",
       "      <th>4841</th>\n",
       "    </tr>\n",
       "    <tr>\n",
       "      <th>4842</th>\n",
       "    </tr>\n",
       "  </tbody>\n",
       "</table>\n",
       "<p>4843 rows × 0 columns</p>\n",
       "</div>"
      ],
      "text/plain": [
       "Empty DataFrame\n",
       "Columns: []\n",
       "Index: [0, 1, 2, 3, 4, 5, 6, 7, 8, 9, 10, 11, 12, 13, 14, 15, 16, 17, 18, 19, 20, 21, 22, 23, 24, 25, 26, 27, 28, 29, 30, 31, 32, 33, 34, 35, 36, 37, 38, 39, 40, 41, 42, 43, 44, 45, 46, 47, 48, 49, 50, 51, 52, 53, 54, 55, 56, 57, 58, 59, 60, 61, 62, 63, 64, 65, 66, 67, 68, 69, 70, 71, 72, 73, 74, 75, 76, 77, 78, 79, 80, 81, 82, 83, 84, 85, 86, 87, 88, 89, 90, 91, 92, 93, 94, 95, 96, 97, 98, 99, ...]\n",
       "\n",
       "[4843 rows x 0 columns]"
      ]
     },
     "execution_count": 47,
     "metadata": {},
     "output_type": "execute_result"
    }
   ],
   "source": [
    "X_cat"
   ]
  },
  {
   "cell_type": "code",
   "execution_count": 57,
   "metadata": {
    "id": "3qaWniU28trQ"
   },
   "outputs": [
    {
     "name": "stdout",
     "output_type": "stream",
     "text": [
      "(4843, 7)\n"
     ]
    },
    {
     "data": {
      "text/html": [
       "<div>\n",
       "<style scoped>\n",
       "    .dataframe tbody tr th:only-of-type {\n",
       "        vertical-align: middle;\n",
       "    }\n",
       "\n",
       "    .dataframe tbody tr th {\n",
       "        vertical-align: top;\n",
       "    }\n",
       "\n",
       "    .dataframe thead th {\n",
       "        text-align: right;\n",
       "    }\n",
       "</style>\n",
       "<table border=\"1\" class=\"dataframe\">\n",
       "  <thead>\n",
       "    <tr style=\"text-align: right;\">\n",
       "      <th></th>\n",
       "      <th>HV1</th>\n",
       "      <th>IC1</th>\n",
       "      <th>IC2</th>\n",
       "      <th>IC3</th>\n",
       "      <th>IC4</th>\n",
       "      <th>IC5</th>\n",
       "      <th>AVGGIFT</th>\n",
       "    </tr>\n",
       "  </thead>\n",
       "  <tbody>\n",
       "    <tr>\n",
       "      <th>0</th>\n",
       "      <td>0.392177</td>\n",
       "      <td>0.280000</td>\n",
       "      <td>0.297333</td>\n",
       "      <td>0.335725</td>\n",
       "      <td>0.360832</td>\n",
       "      <td>0.083382</td>\n",
       "      <td>0.029569</td>\n",
       "    </tr>\n",
       "    <tr>\n",
       "      <th>1</th>\n",
       "      <td>0.083083</td>\n",
       "      <td>0.233333</td>\n",
       "      <td>0.242667</td>\n",
       "      <td>0.256098</td>\n",
       "      <td>0.275466</td>\n",
       "      <td>0.067017</td>\n",
       "      <td>0.001829</td>\n",
       "    </tr>\n",
       "    <tr>\n",
       "      <th>2</th>\n",
       "      <td>0.205450</td>\n",
       "      <td>0.312667</td>\n",
       "      <td>0.334667</td>\n",
       "      <td>0.363702</td>\n",
       "      <td>0.390244</td>\n",
       "      <td>0.099202</td>\n",
       "      <td>0.011701</td>\n",
       "    </tr>\n",
       "    <tr>\n",
       "      <th>3</th>\n",
       "      <td>0.054330</td>\n",
       "      <td>0.098667</td>\n",
       "      <td>0.120667</td>\n",
       "      <td>0.122669</td>\n",
       "      <td>0.149928</td>\n",
       "      <td>0.036293</td>\n",
       "      <td>0.009915</td>\n",
       "    </tr>\n",
       "    <tr>\n",
       "      <th>4</th>\n",
       "      <td>0.128385</td>\n",
       "      <td>0.116000</td>\n",
       "      <td>0.134000</td>\n",
       "      <td>0.157819</td>\n",
       "      <td>0.178623</td>\n",
       "      <td>0.044705</td>\n",
       "      <td>0.014573</td>\n",
       "    </tr>\n",
       "    <tr>\n",
       "      <th>...</th>\n",
       "      <td>...</td>\n",
       "      <td>...</td>\n",
       "      <td>...</td>\n",
       "      <td>...</td>\n",
       "      <td>...</td>\n",
       "      <td>...</td>\n",
       "      <td>...</td>\n",
       "    </tr>\n",
       "    <tr>\n",
       "      <th>4838</th>\n",
       "      <td>0.117185</td>\n",
       "      <td>0.198000</td>\n",
       "      <td>0.223333</td>\n",
       "      <td>0.290531</td>\n",
       "      <td>0.335725</td>\n",
       "      <td>0.087427</td>\n",
       "      <td>0.029569</td>\n",
       "    </tr>\n",
       "    <tr>\n",
       "      <th>4839</th>\n",
       "      <td>0.561184</td>\n",
       "      <td>0.189333</td>\n",
       "      <td>0.303333</td>\n",
       "      <td>0.246055</td>\n",
       "      <td>0.320660</td>\n",
       "      <td>0.138893</td>\n",
       "      <td>0.021433</td>\n",
       "    </tr>\n",
       "    <tr>\n",
       "      <th>4840</th>\n",
       "      <td>0.117018</td>\n",
       "      <td>0.214667</td>\n",
       "      <td>0.276667</td>\n",
       "      <td>0.255380</td>\n",
       "      <td>0.319943</td>\n",
       "      <td>0.082281</td>\n",
       "      <td>0.020263</td>\n",
       "    </tr>\n",
       "    <tr>\n",
       "      <th>4841</th>\n",
       "      <td>0.100468</td>\n",
       "      <td>0.137333</td>\n",
       "      <td>0.150000</td>\n",
       "      <td>0.180057</td>\n",
       "      <td>0.207317</td>\n",
       "      <td>0.056159</td>\n",
       "      <td>0.023985</td>\n",
       "    </tr>\n",
       "    <tr>\n",
       "      <th>4842</th>\n",
       "      <td>0.153628</td>\n",
       "      <td>0.283333</td>\n",
       "      <td>0.374667</td>\n",
       "      <td>0.400287</td>\n",
       "      <td>0.500000</td>\n",
       "      <td>0.147740</td>\n",
       "      <td>0.034981</td>\n",
       "    </tr>\n",
       "  </tbody>\n",
       "</table>\n",
       "<p>4843 rows × 7 columns</p>\n",
       "</div>"
      ],
      "text/plain": [
       "           HV1       IC1       IC2       IC3       IC4       IC5   AVGGIFT\n",
       "0     0.392177  0.280000  0.297333  0.335725  0.360832  0.083382  0.029569\n",
       "1     0.083083  0.233333  0.242667  0.256098  0.275466  0.067017  0.001829\n",
       "2     0.205450  0.312667  0.334667  0.363702  0.390244  0.099202  0.011701\n",
       "3     0.054330  0.098667  0.120667  0.122669  0.149928  0.036293  0.009915\n",
       "4     0.128385  0.116000  0.134000  0.157819  0.178623  0.044705  0.014573\n",
       "...        ...       ...       ...       ...       ...       ...       ...\n",
       "4838  0.117185  0.198000  0.223333  0.290531  0.335725  0.087427  0.029569\n",
       "4839  0.561184  0.189333  0.303333  0.246055  0.320660  0.138893  0.021433\n",
       "4840  0.117018  0.214667  0.276667  0.255380  0.319943  0.082281  0.020263\n",
       "4841  0.100468  0.137333  0.150000  0.180057  0.207317  0.056159  0.023985\n",
       "4842  0.153628  0.283333  0.374667  0.400287  0.500000  0.147740  0.034981\n",
       "\n",
       "[4843 rows x 7 columns]"
      ]
     },
     "execution_count": 57,
     "metadata": {},
     "output_type": "execute_result"
    }
   ],
   "source": [
    "# Normalizing data: make data range from 0 - 1, instead of from min to max\n",
    "transformer = MinMaxScaler().fit(X_num)\n",
    "x_normalized = transformer.transform(X_num)   \n",
    "print(x_normalized.shape)\n",
    "x_normalized\n",
    "pd.DataFrame(x_normalized, columns=X_num.columns)"
   ]
  },
  {
   "cell_type": "code",
   "execution_count": null,
   "metadata": {},
   "outputs": [],
   "source": []
  },
  {
   "cell_type": "code",
   "execution_count": 55,
   "metadata": {
    "id": "Hgm0dHMK8trQ"
   },
   "outputs": [
    {
     "name": "stdout",
     "output_type": "stream",
     "text": [
      "(4843, 7)\n"
     ]
    },
    {
     "data": {
      "text/html": [
       "<div>\n",
       "<style scoped>\n",
       "    .dataframe tbody tr th:only-of-type {\n",
       "        vertical-align: middle;\n",
       "    }\n",
       "\n",
       "    .dataframe tbody tr th {\n",
       "        vertical-align: top;\n",
       "    }\n",
       "\n",
       "    .dataframe thead th {\n",
       "        text-align: right;\n",
       "    }\n",
       "</style>\n",
       "<table border=\"1\" class=\"dataframe\">\n",
       "  <thead>\n",
       "    <tr style=\"text-align: right;\">\n",
       "      <th></th>\n",
       "      <th>HV1</th>\n",
       "      <th>IC1</th>\n",
       "      <th>IC2</th>\n",
       "      <th>IC3</th>\n",
       "      <th>IC4</th>\n",
       "      <th>IC5</th>\n",
       "      <th>AVGGIFT</th>\n",
       "    </tr>\n",
       "  </thead>\n",
       "  <tbody>\n",
       "    <tr>\n",
       "      <th>0</th>\n",
       "      <td>1.145640</td>\n",
       "      <td>0.392017</td>\n",
       "      <td>0.241382</td>\n",
       "      <td>0.402231</td>\n",
       "      <td>0.322435</td>\n",
       "      <td>-0.203394</td>\n",
       "      <td>0.361021</td>\n",
       "    </tr>\n",
       "    <tr>\n",
       "      <th>1</th>\n",
       "      <td>-0.646030</td>\n",
       "      <td>-0.016528</td>\n",
       "      <td>-0.207586</td>\n",
       "      <td>-0.263776</td>\n",
       "      <td>-0.351134</td>\n",
       "      <td>-0.504086</td>\n",
       "      <td>-0.862998</td>\n",
       "    </tr>\n",
       "    <tr>\n",
       "      <th>2</th>\n",
       "      <td>0.063274</td>\n",
       "      <td>0.677998</td>\n",
       "      <td>0.547994</td>\n",
       "      <td>0.636234</td>\n",
       "      <td>0.554505</td>\n",
       "      <td>0.087295</td>\n",
       "      <td>-0.427397</td>\n",
       "    </tr>\n",
       "    <tr>\n",
       "      <th>3</th>\n",
       "      <td>-0.812697</td>\n",
       "      <td>-1.195472</td>\n",
       "      <td>-1.209550</td>\n",
       "      <td>-1.379790</td>\n",
       "      <td>-1.341676</td>\n",
       "      <td>-1.068619</td>\n",
       "      <td>-0.506239</td>\n",
       "    </tr>\n",
       "    <tr>\n",
       "      <th>4</th>\n",
       "      <td>-0.383432</td>\n",
       "      <td>-1.043726</td>\n",
       "      <td>-1.100046</td>\n",
       "      <td>-1.085786</td>\n",
       "      <td>-1.115266</td>\n",
       "      <td>-0.914062</td>\n",
       "      <td>-0.300687</td>\n",
       "    </tr>\n",
       "    <tr>\n",
       "      <th>...</th>\n",
       "      <td>...</td>\n",
       "      <td>...</td>\n",
       "      <td>...</td>\n",
       "      <td>...</td>\n",
       "      <td>...</td>\n",
       "      <td>...</td>\n",
       "      <td>...</td>\n",
       "    </tr>\n",
       "    <tr>\n",
       "      <th>4838</th>\n",
       "      <td>-0.448355</td>\n",
       "      <td>-0.325855</td>\n",
       "      <td>-0.366367</td>\n",
       "      <td>0.024227</td>\n",
       "      <td>0.124327</td>\n",
       "      <td>-0.129064</td>\n",
       "      <td>0.361021</td>\n",
       "    </tr>\n",
       "    <tr>\n",
       "      <th>4839</th>\n",
       "      <td>2.125293</td>\n",
       "      <td>-0.401727</td>\n",
       "      <td>0.290659</td>\n",
       "      <td>-0.347777</td>\n",
       "      <td>0.005462</td>\n",
       "      <td>0.816598</td>\n",
       "      <td>0.002009</td>\n",
       "    </tr>\n",
       "    <tr>\n",
       "      <th>4840</th>\n",
       "      <td>-0.449324</td>\n",
       "      <td>-0.179946</td>\n",
       "      <td>0.071650</td>\n",
       "      <td>-0.269776</td>\n",
       "      <td>-0.000199</td>\n",
       "      <td>-0.223609</td>\n",
       "      <td>-0.049613</td>\n",
       "    </tr>\n",
       "    <tr>\n",
       "      <th>4841</th>\n",
       "      <td>-0.545254</td>\n",
       "      <td>-0.856963</td>\n",
       "      <td>-0.968641</td>\n",
       "      <td>-0.899784</td>\n",
       "      <td>-0.888857</td>\n",
       "      <td>-0.703599</td>\n",
       "      <td>0.114640</td>\n",
       "    </tr>\n",
       "    <tr>\n",
       "      <th>4842</th>\n",
       "      <td>-0.237114</td>\n",
       "      <td>0.421198</td>\n",
       "      <td>0.876507</td>\n",
       "      <td>0.942238</td>\n",
       "      <td>1.420522</td>\n",
       "      <td>0.979157</td>\n",
       "      <td>0.599821</td>\n",
       "    </tr>\n",
       "  </tbody>\n",
       "</table>\n",
       "<p>4843 rows × 7 columns</p>\n",
       "</div>"
      ],
      "text/plain": [
       "           HV1       IC1       IC2       IC3       IC4       IC5   AVGGIFT\n",
       "0     1.145640  0.392017  0.241382  0.402231  0.322435 -0.203394  0.361021\n",
       "1    -0.646030 -0.016528 -0.207586 -0.263776 -0.351134 -0.504086 -0.862998\n",
       "2     0.063274  0.677998  0.547994  0.636234  0.554505  0.087295 -0.427397\n",
       "3    -0.812697 -1.195472 -1.209550 -1.379790 -1.341676 -1.068619 -0.506239\n",
       "4    -0.383432 -1.043726 -1.100046 -1.085786 -1.115266 -0.914062 -0.300687\n",
       "...        ...       ...       ...       ...       ...       ...       ...\n",
       "4838 -0.448355 -0.325855 -0.366367  0.024227  0.124327 -0.129064  0.361021\n",
       "4839  2.125293 -0.401727  0.290659 -0.347777  0.005462  0.816598  0.002009\n",
       "4840 -0.449324 -0.179946  0.071650 -0.269776 -0.000199 -0.223609 -0.049613\n",
       "4841 -0.545254 -0.856963 -0.968641 -0.899784 -0.888857 -0.703599  0.114640\n",
       "4842 -0.237114  0.421198  0.876507  0.942238  1.420522  0.979157  0.599821\n",
       "\n",
       "[4843 rows x 7 columns]"
      ]
     },
     "execution_count": 55,
     "metadata": {},
     "output_type": "execute_result"
    }
   ],
   "source": [
    "# scaling standard scaler: make data normal distributed with mean=0 and std=1 if you have normally distributed data\n",
    "transformer = StandardScaler().fit(X_num)\n",
    "x_standardized = transformer.transform(X_num)\n",
    "print(x_standardized.shape)\n",
    "pd.DataFrame(x_standardized, columns=X_num.columns)"
   ]
  },
  {
   "cell_type": "code",
   "execution_count": 71,
   "metadata": {
    "id": "kqxkbPGH8trR"
   },
   "outputs": [
    {
     "data": {
      "text/html": [
       "<div>\n",
       "<style scoped>\n",
       "    .dataframe tbody tr th:only-of-type {\n",
       "        vertical-align: middle;\n",
       "    }\n",
       "\n",
       "    .dataframe tbody tr th {\n",
       "        vertical-align: top;\n",
       "    }\n",
       "\n",
       "    .dataframe thead th {\n",
       "        text-align: right;\n",
       "    }\n",
       "</style>\n",
       "<table border=\"1\" class=\"dataframe\">\n",
       "  <thead>\n",
       "    <tr style=\"text-align: right;\">\n",
       "      <th></th>\n",
       "      <th>HV1</th>\n",
       "      <th>IC1</th>\n",
       "      <th>IC2</th>\n",
       "      <th>IC3</th>\n",
       "      <th>IC4</th>\n",
       "      <th>IC5</th>\n",
       "      <th>AVGGIFT</th>\n",
       "      <th>TARGET_D</th>\n",
       "    </tr>\n",
       "  </thead>\n",
       "  <tbody>\n",
       "    <tr>\n",
       "      <th>0</th>\n",
       "      <td>2346</td>\n",
       "      <td>420</td>\n",
       "      <td>446</td>\n",
       "      <td>468</td>\n",
       "      <td>503</td>\n",
       "      <td>14552</td>\n",
       "      <td>15.500000</td>\n",
       "      <td>21.0</td>\n",
       "    </tr>\n",
       "    <tr>\n",
       "      <th>1</th>\n",
       "      <td>497</td>\n",
       "      <td>350</td>\n",
       "      <td>364</td>\n",
       "      <td>357</td>\n",
       "      <td>384</td>\n",
       "      <td>11696</td>\n",
       "      <td>3.080000</td>\n",
       "      <td>3.0</td>\n",
       "    </tr>\n",
       "    <tr>\n",
       "      <th>2</th>\n",
       "      <td>1229</td>\n",
       "      <td>469</td>\n",
       "      <td>502</td>\n",
       "      <td>507</td>\n",
       "      <td>544</td>\n",
       "      <td>17313</td>\n",
       "      <td>7.500000</td>\n",
       "      <td>20.0</td>\n",
       "    </tr>\n",
       "    <tr>\n",
       "      <th>3</th>\n",
       "      <td>325</td>\n",
       "      <td>148</td>\n",
       "      <td>181</td>\n",
       "      <td>171</td>\n",
       "      <td>209</td>\n",
       "      <td>6334</td>\n",
       "      <td>6.700000</td>\n",
       "      <td>5.0</td>\n",
       "    </tr>\n",
       "    <tr>\n",
       "      <th>4</th>\n",
       "      <td>768</td>\n",
       "      <td>174</td>\n",
       "      <td>201</td>\n",
       "      <td>220</td>\n",
       "      <td>249</td>\n",
       "      <td>7802</td>\n",
       "      <td>8.785714</td>\n",
       "      <td>10.0</td>\n",
       "    </tr>\n",
       "  </tbody>\n",
       "</table>\n",
       "</div>"
      ],
      "text/plain": [
       "    HV1  IC1  IC2  IC3  IC4    IC5    AVGGIFT  TARGET_D\n",
       "0  2346  420  446  468  503  14552  15.500000      21.0\n",
       "1   497  350  364  357  384  11696   3.080000       3.0\n",
       "2  1229  469  502  507  544  17313   7.500000      20.0\n",
       "3   325  148  181  171  209   6334   6.700000       5.0\n",
       "4   768  174  201  220  249   7802   8.785714      10.0"
      ]
     },
     "metadata": {},
     "output_type": "display_data"
    },
    {
     "data": {
      "text/plain": [
       "(4843, 8)"
      ]
     },
     "execution_count": 71,
     "metadata": {},
     "output_type": "execute_result"
    }
   ],
   "source": [
    "#Activity 4\n",
    "\n",
    "# Keep using the same file (regression_data1.csv) for this exercise.\n",
    "\n",
    "# Load data regression_data1.csv.\n",
    "# Select 3 numeric columns.\n",
    "# Plot distributions.\n",
    "# Normalize using min max scaler\n",
    "# Plot the distributions again.\n",
    "# do the same for standard scaler\n",
    "data = pd.read_csv('regression_data1.csv') \n",
    "display(data.head())\n",
    "data.shape"
   ]
  },
  {
   "cell_type": "code",
   "execution_count": 73,
   "metadata": {},
   "outputs": [
    {
     "ename": "NameError",
     "evalue": "name 'df' is not defined",
     "output_type": "error",
     "traceback": [
      "\u001b[1;31m---------------------------------------------------------------------------\u001b[0m",
      "\u001b[1;31mNameError\u001b[0m                                 Traceback (most recent call last)",
      "\u001b[1;32m<ipython-input-73-344b28dec84a>\u001b[0m in \u001b[0;36m<module>\u001b[1;34m\u001b[0m\n\u001b[1;32m----> 1\u001b[1;33m \u001b[0mdata2\u001b[0m \u001b[1;33m=\u001b[0m \u001b[0mdf\u001b[0m\u001b[1;33m.\u001b[0m\u001b[0m_get_numeric_data\u001b[0m\u001b[1;33m(\u001b[0m\u001b[1;33m)\u001b[0m\u001b[1;33m.\u001b[0m\u001b[0miloc\u001b[0m\u001b[1;33m[\u001b[0m\u001b[1;33m:\u001b[0m\u001b[1;33m,\u001b[0m \u001b[1;36m0\u001b[0m\u001b[1;33m:\u001b[0m\u001b[1;36m3\u001b[0m\u001b[1;33m]\u001b[0m\u001b[1;33m.\u001b[0m\u001b[0mdropna\u001b[0m\u001b[1;33m(\u001b[0m\u001b[1;33m)\u001b[0m\u001b[1;33m\u001b[0m\u001b[1;33m\u001b[0m\u001b[0m\n\u001b[0m",
      "\u001b[1;31mNameError\u001b[0m: name 'df' is not defined"
     ]
    }
   ],
   "source": [
    "data2 = df._get_numeric_data().iloc[:, 0:3].dropna()"
   ]
  },
  {
   "cell_type": "code",
   "execution_count": 67,
   "metadata": {
    "id": "8v4DFFUC8trR"
   },
   "outputs": [
    {
     "ename": "NameError",
     "evalue": "name 'data2' is not defined",
     "output_type": "error",
     "traceback": [
      "\u001b[1;31m---------------------------------------------------------------------------\u001b[0m",
      "\u001b[1;31mNameError\u001b[0m                                 Traceback (most recent call last)",
      "\u001b[1;32m<ipython-input-67-f2d2d70c1c0d>\u001b[0m in \u001b[0;36m<module>\u001b[1;34m\u001b[0m\n\u001b[0;32m      1\u001b[0m \u001b[1;31m# 1\u001b[0m\u001b[1;33m\u001b[0m\u001b[1;33m\u001b[0m\u001b[1;33m\u001b[0m\u001b[0m\n\u001b[1;32m----> 2\u001b[1;33m \u001b[0msns\u001b[0m\u001b[1;33m.\u001b[0m\u001b[0mscatterplot\u001b[0m\u001b[1;33m(\u001b[0m\u001b[0mx\u001b[0m\u001b[1;33m=\u001b[0m\u001b[0mdata2\u001b[0m\u001b[1;33m[\u001b[0m\u001b[1;34m'IC1'\u001b[0m\u001b[1;33m]\u001b[0m\u001b[1;33m,\u001b[0m \u001b[0my\u001b[0m\u001b[1;33m=\u001b[0m\u001b[0mdata2\u001b[0m\u001b[1;33m[\u001b[0m\u001b[1;34m'TARGET_D'\u001b[0m\u001b[1;33m]\u001b[0m\u001b[1;33m)\u001b[0m\u001b[1;33m\u001b[0m\u001b[1;33m\u001b[0m\u001b[0m\n\u001b[0m\u001b[0;32m      3\u001b[0m \u001b[0mplt\u001b[0m\u001b[1;33m.\u001b[0m\u001b[0mshow\u001b[0m\u001b[1;33m(\u001b[0m\u001b[1;33m)\u001b[0m\u001b[1;33m\u001b[0m\u001b[1;33m\u001b[0m\u001b[0m\n",
      "\u001b[1;31mNameError\u001b[0m: name 'data2' is not defined"
     ]
    }
   ],
   "source": [
    "# 1\n",
    "sns.scatterplot(x=data2['IC1'], y=data2['TARGET_D'])\n",
    "plt.show()"
   ]
  },
  {
   "cell_type": "code",
   "execution_count": null,
   "metadata": {},
   "outputs": [],
   "source": []
  },
  {
   "cell_type": "code",
   "execution_count": null,
   "metadata": {},
   "outputs": [],
   "source": []
  },
  {
   "cell_type": "code",
   "execution_count": 60,
   "metadata": {},
   "outputs": [
    {
     "data": {
      "image/png": "[encoded data removed]",
      "text/plain": [
       "<Figure size 432x288 with 1 Axes>"
      ]
     },
     "metadata": {
      "needs_background": "light"
     },
     "output_type": "display_data"
    }
   ],
   "source": [
    "sns.scatterplot(x=data['IC2'], y=data['TARGET_D'])\n",
    "plt.show()"
   ]
  },
  {
   "cell_type": "code",
   "execution_count": 61,
   "metadata": {
    "scrolled": true
   },
   "outputs": [
    {
     "data": {
      "image/png": "[encoded data removed]",
      "text/plain": [
       "<Figure size 432x288 with 1 Axes>"
      ]
     },
     "metadata": {
      "needs_background": "light"
     },
     "output_type": "display_data"
    }
   ],
   "source": [
    "sns.scatterplot(x=data['IC3'], y=data['TARGET_D'])\n",
    "plt.show()"
   ]
  },
  {
   "cell_type": "code",
   "execution_count": 65,
   "metadata": {},
   "outputs": [
    {
     "name": "stdout",
     "output_type": "stream",
     "text": [
      "(4843, 7)\n"
     ]
    },
    {
     "data": {
      "text/html": [
       "<div>\n",
       "<style scoped>\n",
       "    .dataframe tbody tr th:only-of-type {\n",
       "        vertical-align: middle;\n",
       "    }\n",
       "\n",
       "    .dataframe tbody tr th {\n",
       "        vertical-align: top;\n",
       "    }\n",
       "\n",
       "    .dataframe thead th {\n",
       "        text-align: right;\n",
       "    }\n",
       "</style>\n",
       "<table border=\"1\" class=\"dataframe\">\n",
       "  <thead>\n",
       "    <tr style=\"text-align: right;\">\n",
       "      <th></th>\n",
       "      <th>HV1</th>\n",
       "      <th>IC1</th>\n",
       "      <th>IC2</th>\n",
       "      <th>IC3</th>\n",
       "      <th>IC4</th>\n",
       "      <th>IC5</th>\n",
       "      <th>AVGGIFT</th>\n",
       "    </tr>\n",
       "  </thead>\n",
       "  <tbody>\n",
       "    <tr>\n",
       "      <th>0</th>\n",
       "      <td>0.392177</td>\n",
       "      <td>0.280000</td>\n",
       "      <td>0.297333</td>\n",
       "      <td>0.335725</td>\n",
       "      <td>0.360832</td>\n",
       "      <td>0.083382</td>\n",
       "      <td>0.029569</td>\n",
       "    </tr>\n",
       "    <tr>\n",
       "      <th>1</th>\n",
       "      <td>0.083083</td>\n",
       "      <td>0.233333</td>\n",
       "      <td>0.242667</td>\n",
       "      <td>0.256098</td>\n",
       "      <td>0.275466</td>\n",
       "      <td>0.067017</td>\n",
       "      <td>0.001829</td>\n",
       "    </tr>\n",
       "    <tr>\n",
       "      <th>2</th>\n",
       "      <td>0.205450</td>\n",
       "      <td>0.312667</td>\n",
       "      <td>0.334667</td>\n",
       "      <td>0.363702</td>\n",
       "      <td>0.390244</td>\n",
       "      <td>0.099202</td>\n",
       "      <td>0.011701</td>\n",
       "    </tr>\n",
       "    <tr>\n",
       "      <th>3</th>\n",
       "      <td>0.054330</td>\n",
       "      <td>0.098667</td>\n",
       "      <td>0.120667</td>\n",
       "      <td>0.122669</td>\n",
       "      <td>0.149928</td>\n",
       "      <td>0.036293</td>\n",
       "      <td>0.009915</td>\n",
       "    </tr>\n",
       "    <tr>\n",
       "      <th>4</th>\n",
       "      <td>0.128385</td>\n",
       "      <td>0.116000</td>\n",
       "      <td>0.134000</td>\n",
       "      <td>0.157819</td>\n",
       "      <td>0.178623</td>\n",
       "      <td>0.044705</td>\n",
       "      <td>0.014573</td>\n",
       "    </tr>\n",
       "    <tr>\n",
       "      <th>...</th>\n",
       "      <td>...</td>\n",
       "      <td>...</td>\n",
       "      <td>...</td>\n",
       "      <td>...</td>\n",
       "      <td>...</td>\n",
       "      <td>...</td>\n",
       "      <td>...</td>\n",
       "    </tr>\n",
       "    <tr>\n",
       "      <th>4838</th>\n",
       "      <td>0.117185</td>\n",
       "      <td>0.198000</td>\n",
       "      <td>0.223333</td>\n",
       "      <td>0.290531</td>\n",
       "      <td>0.335725</td>\n",
       "      <td>0.087427</td>\n",
       "      <td>0.029569</td>\n",
       "    </tr>\n",
       "    <tr>\n",
       "      <th>4839</th>\n",
       "      <td>0.561184</td>\n",
       "      <td>0.189333</td>\n",
       "      <td>0.303333</td>\n",
       "      <td>0.246055</td>\n",
       "      <td>0.320660</td>\n",
       "      <td>0.138893</td>\n",
       "      <td>0.021433</td>\n",
       "    </tr>\n",
       "    <tr>\n",
       "      <th>4840</th>\n",
       "      <td>0.117018</td>\n",
       "      <td>0.214667</td>\n",
       "      <td>0.276667</td>\n",
       "      <td>0.255380</td>\n",
       "      <td>0.319943</td>\n",
       "      <td>0.082281</td>\n",
       "      <td>0.020263</td>\n",
       "    </tr>\n",
       "    <tr>\n",
       "      <th>4841</th>\n",
       "      <td>0.100468</td>\n",
       "      <td>0.137333</td>\n",
       "      <td>0.150000</td>\n",
       "      <td>0.180057</td>\n",
       "      <td>0.207317</td>\n",
       "      <td>0.056159</td>\n",
       "      <td>0.023985</td>\n",
       "    </tr>\n",
       "    <tr>\n",
       "      <th>4842</th>\n",
       "      <td>0.153628</td>\n",
       "      <td>0.283333</td>\n",
       "      <td>0.374667</td>\n",
       "      <td>0.400287</td>\n",
       "      <td>0.500000</td>\n",
       "      <td>0.147740</td>\n",
       "      <td>0.034981</td>\n",
       "    </tr>\n",
       "  </tbody>\n",
       "</table>\n",
       "<p>4843 rows × 7 columns</p>\n",
       "</div>"
      ],
      "text/plain": [
       "           HV1       IC1       IC2       IC3       IC4       IC5   AVGGIFT\n",
       "0     0.392177  0.280000  0.297333  0.335725  0.360832  0.083382  0.029569\n",
       "1     0.083083  0.233333  0.242667  0.256098  0.275466  0.067017  0.001829\n",
       "2     0.205450  0.312667  0.334667  0.363702  0.390244  0.099202  0.011701\n",
       "3     0.054330  0.098667  0.120667  0.122669  0.149928  0.036293  0.009915\n",
       "4     0.128385  0.116000  0.134000  0.157819  0.178623  0.044705  0.014573\n",
       "...        ...       ...       ...       ...       ...       ...       ...\n",
       "4838  0.117185  0.198000  0.223333  0.290531  0.335725  0.087427  0.029569\n",
       "4839  0.561184  0.189333  0.303333  0.246055  0.320660  0.138893  0.021433\n",
       "4840  0.117018  0.214667  0.276667  0.255380  0.319943  0.082281  0.020263\n",
       "4841  0.100468  0.137333  0.150000  0.180057  0.207317  0.056159  0.023985\n",
       "4842  0.153628  0.283333  0.374667  0.400287  0.500000  0.147740  0.034981\n",
       "\n",
       "[4843 rows x 7 columns]"
      ]
     },
     "execution_count": 65,
     "metadata": {},
     "output_type": "execute_result"
    }
   ],
   "source": [
    "transformer = MinMaxScaler().fit(X_num)\n",
    "x_normalized = transformer.transform(X_num)   \n",
    "print(x_normalized.shape)\n",
    "x_normalized\n",
    "pd.DataFrame(x_normalized, columns=X_num.columns)"
   ]
  },
  {
   "cell_type": "code",
   "execution_count": 66,
   "metadata": {},
   "outputs": [
    {
     "data": {
      "image/png": "[encoded data removed]",
      "text/plain": [
       "<Figure size 432x288 with 1 Axes>"
      ]
     },
     "metadata": {
      "needs_background": "light"
     },
     "output_type": "display_data"
    }
   ],
   "source": [
    "# 1\n",
    "sns.scatterplot(x=data['IC1'], y=data['TARGET_D'])\n",
    "plt.show()"
   ]
  },
  {
   "cell_type": "code",
   "execution_count": null,
   "metadata": {},
   "outputs": [],
   "source": []
  },
  {
   "cell_type": "code",
   "execution_count": null,
   "metadata": {},
   "outputs": [],
   "source": []
  },
  {
   "cell_type": "code",
   "execution_count": null,
   "metadata": {},
   "outputs": [],
   "source": []
  },
  {
   "cell_type": "code",
   "execution_count": null,
   "metadata": {
    "id": "0uSvR-Gn8trR"
   },
   "outputs": [],
   "source": [
    "#data2=df._get_numeric_data().iloc[:, 0:3].dropna()\n"
   ]
  },
  {
   "cell_type": "code",
   "execution_count": null,
   "metadata": {
    "id": "zo8PTUMz8trR"
   },
   "outputs": [],
   "source": [
    "# same for the three columns\n",
    "\n"
   ]
  },
  {
   "cell_type": "code",
   "execution_count": null,
   "metadata": {
    "id": "22bXiq2X8trR"
   },
   "outputs": [],
   "source": []
  },
  {
   "cell_type": "code",
   "execution_count": null,
   "metadata": {
    "id": "fmnY5KGK8trS"
   },
   "outputs": [],
   "source": []
  },
  {
   "cell_type": "code",
   "execution_count": null,
   "metadata": {
    "id": "3BXH1Nc88trS"
   },
   "outputs": [],
   "source": [
    "# End Activity 4"
   ]
  },
  {
   "cell_type": "code",
   "execution_count": null,
   "metadata": {
    "id": "LJcDvCjo8trS"
   },
   "outputs": [],
   "source": []
  }
 ],
 "metadata": {
  "colab": {
   "name": "Lesson_1_07.ipynb",
   "provenance": []
  },
  "kernelspec": {
   "display_name": "Python 3",
   "language": "python",
   "name": "python3"
  },
  "language_info": {
   "codemirror_mode": {
    "name": "ipython",
    "version": 3
   },
   "file_extension": ".py",
   "mimetype": "text/x-python",
   "name": "python",
   "nbconvert_exporter": "python",
   "pygments_lexer": "ipython3",
   "version": "3.8.8"
  }
 },
 "nbformat": 4,
 "nbformat_minor": 1
}
