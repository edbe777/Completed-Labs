{
 "cells": [
  {
   "cell_type": "markdown",
   "metadata": {},
   "source": [
    "# Challenge 2: Sentiment Analysis\n",
    "\n",
    "In this challenge we will learn sentiment analysis and practice performing sentiment analysis on Twitter tweets. \n",
    "\n",
    "## Introduction\n",
    "\n",
    "Sentiment analysis is to *systematically identify, extract, quantify, and study affective states and subjective information* based on texts ([reference](https://en.wikipedia.org/wiki/Sentiment_analysis)). In simple words, it's to understand whether a person is happy or unhappy in producing the piece of text. Why we (or rather, companies) care about sentiment in texts? It's because by understanding the sentiments in texts, we will be able to know if our customers are happy or unhappy about our products and services. If they are unhappy, the subsequent action is to figure out what have caused the unhappiness and make improvements.\n",
    "\n",
    "Basic sentiment analysis only understands the *positive* or *negative* (sometimes *neutral* too) polarities of the sentiment. More advanced sentiment analysis will also consider dimensions such as agreement, subjectivity, confidence, irony, and so on. In this challenge we will conduct the basic positive vs negative sentiment analysis based on real Twitter tweets.\n",
    "\n",
    "NLTK comes with a [sentiment analysis package](https://www.nltk.org/api/nltk.sentiment.html). This package is great for dummies to perform sentiment analysis because it requires only the textual data to make predictions. For example:\n",
    "\n",
    "```python\n",
    ">>> from nltk.sentiment.vader import SentimentIntensityAnalyzer\n",
    ">>> txt = \"Ironhack is a Global Tech School ranked num 2 worldwide.  ",
    " ",
    "Our mission is to help people transform their careers and join a thriving community of tech professionals that love what they do.\"\n",
    ">>> analyzer = SentimentIntensityAnalyzer()\n",
    ">>> analyzer.polarity_scores(txt)\n",
    "{'neg': 0.0, 'neu': 0.741, 'pos': 0.259, 'compound': 0.8442}\n",
    "```\n",
    "\n",
    "In this challenge, however, you will not use NLTK's sentiment analysis package because in your Machine Learning training in the past 2 weeks you have learned how to make predictions more accurate than that. The [tweets data](https://www.kaggle.com/kazanova/sentiment140) we will be using today are already coded for the positive/negative sentiment. You will be able to use the Naïve Bayes classifier you learned in the lesson to predict the sentiment of tweets based on the labels."
   ]
  },
  {
   "cell_type": "markdown",
   "metadata": {},
   "source": [
    "## Conducting Sentiment Analysis\n",
    "\n",
    "### Loading and Exploring Data\n",
    "\n",
    "The dataset we'll be using today is located on Kaggle (https://www.kaggle.com/kazanova/sentiment140). Once you have downloaded and imported the dataset, it you will need to define the columns names: df.columns = ['target','id','date','flag','user','text']\n",
    "\n",
    "*Notes:* \n",
    "\n",
    "* The dataset is huuuuge (1.6m tweets). When you develop your data analysis codes, you can sample a subset of the data (e.g. 20k records) so that you will save a lot of time when you test your codes."
   ]
  },
  {
   "cell_type": "code",
   "execution_count": 1,
   "metadata": {},
   "outputs": [],
   "source": [
    "# your code here\n",
    "import pandas as pd\n",
    "\n",
    "df = pd.read_csv('training.1600000.processed.noemoticon.csv')\n",
    "df.columns = ['target','id','date','flag','user','text']"
   ]
  },
  {
   "cell_type": "code",
   "execution_count": 2,
   "metadata": {},
   "outputs": [],
   "source": [
    "#subset\n",
    "subset = df.sample(n=5000)                "
   ]
  },
  {
   "cell_type": "markdown",
   "metadata": {},
   "source": [
    "### Prepare Textual Data for Sentiment Analysis\n",
    "\n",
    "Now, apply the functions you have written in Challenge 1 to your whole data set. These functions include:\n",
    "\n",
    "* `clean_up()`\n",
    "\n",
    "* `tokenize()`\n",
    "\n",
    "* `stem_and_lemmatize()`\n",
    "\n",
    "* `remove_stopwords()`\n",
    "\n",
    "Create a new column called `text_processed` in the dataframe to contain the processed data. At the end, your `text_processed` column should contain lists of word tokens that are cleaned up. Your data should look like below:\n",
    "\n",
    "![Processed Data](data-cleaning-results.png)"
   ]
  },
  {
   "cell_type": "code",
   "execution_count": 3,
   "metadata": {},
   "outputs": [],
   "source": [
    "# your code here\n",
    "def prepare(s):\n",
    "    \n",
    "    import re\n",
    "    urls = re.findall('http[s]?://(?:[a-zA-Z]|[0-9]|[$-_@.&+]|[!*\\(\\),]|(?:%[0-9a-fA-F][0-9a-fA-F]))+', s)\n",
    "    for url in urls:\n",
    "        s = s.replace(url,' ')\n",
    "    special = re.findall('[^a-zA-Z]',s)\n",
    "    for symbol in special:\n",
    "        s = s.replace(symbol,' ')\n",
    "    s = s.lower()\n",
    "\n",
    "    from nltk.tokenize import word_tokenize\n",
    "    import nltk\n",
    "    #nltk.download('punkt')\n",
    "    tokens = word_tokenize(s)\n",
    "    \n",
    "    import nltk\n",
    "    #nltk.download('wordnet')\n",
    "    from nltk.stem import WordNetLemmatizer \n",
    "    from nltk.corpus import wordnet\n",
    "\n",
    "    lemmatizer = WordNetLemmatizer() \n",
    "    lemmatized = [lemmatizer.lemmatize(word) for word in tokens]\n",
    "    \n",
    "    from nltk.stem import PorterStemmer\n",
    "    ps = PorterStemmer()\n",
    "    stem = [ps.stem(w) for w in lemmatized]\n",
    "    from nltk.corpus import stopwords\n",
    "    import nltk\n",
    "    #nltk.download('stopwords')\n",
    "    without_sw = [word for word in stem if not word in stopwords.words()]\n",
    "\n",
    "    return without_sw"
   ]
  },
  {
   "cell_type": "code",
   "execution_count": 4,
   "metadata": {},
   "outputs": [],
   "source": [
    "subset['text_processed'] = subset['text'].apply(prepare)"
   ]
  },
  {
   "cell_type": "code",
   "execution_count": 5,
   "metadata": {},
   "outputs": [
    {
     "data": {
      "text/plain": [
       "(5000, 7)"
      ]
     },
     "execution_count": 5,
     "metadata": {},
     "output_type": "execute_result"
    }
   ],
   "source": [
    "subset.shape"
   ]
  },
  {
   "cell_type": "code",
   "execution_count": 6,
   "metadata": {},
   "outputs": [
    {
     "data": {
      "text/html": [
       "<div>\n",
       "<style scoped>\n",
       "    .dataframe tbody tr th:only-of-type {\n",
       "        vertical-align: middle;\n",
       "    }\n",
       "\n",
       "    .dataframe tbody tr th {\n",
       "        vertical-align: top;\n",
       "    }\n",
       "\n",
       "    .dataframe thead th {\n",
       "        text-align: right;\n",
       "    }\n",
       "</style>\n",
       "<table border=\"1\" class=\"dataframe\">\n",
       "  <thead>\n",
       "    <tr style=\"text-align: right;\">\n",
       "      <th></th>\n",
       "      <th>target</th>\n",
       "      <th>id</th>\n",
       "      <th>date</th>\n",
       "      <th>flag</th>\n",
       "      <th>user</th>\n",
       "      <th>text</th>\n",
       "      <th>text_processed</th>\n",
       "    </tr>\n",
       "  </thead>\n",
       "  <tbody>\n",
       "    <tr>\n",
       "      <th>713961</th>\n",
       "      <td>0</td>\n",
       "      <td>2258982027</td>\n",
       "      <td>Sat Jun 20 16:49:19 PDT 2009</td>\n",
       "      <td>NO_QUERY</td>\n",
       "      <td>snyjay</td>\n",
       "      <td>Thanks for not calling me for 3 days! Hmph!  G...</td>\n",
       "      <td>[thank, call, day, hmph, go, waikel]</td>\n",
       "    </tr>\n",
       "    <tr>\n",
       "      <th>624294</th>\n",
       "      <td>0</td>\n",
       "      <td>2229849636</td>\n",
       "      <td>Thu Jun 18 16:17:35 PDT 2009</td>\n",
       "      <td>NO_QUERY</td>\n",
       "      <td>John_Leese</td>\n",
       "      <td>I smell food ... It's too late to eat but smel...</td>\n",
       "      <td>[smell, food, late, eat, smell, amaz]</td>\n",
       "    </tr>\n",
       "    <tr>\n",
       "      <th>272908</th>\n",
       "      <td>0</td>\n",
       "      <td>1990296107</td>\n",
       "      <td>Mon Jun 01 04:28:18 PDT 2009</td>\n",
       "      <td>NO_QUERY</td>\n",
       "      <td>rhettblanch</td>\n",
       "      <td>Just back from ANZ Stadium, less said the better</td>\n",
       "      <td>[back, anz, stadium, said, better]</td>\n",
       "    </tr>\n",
       "    <tr>\n",
       "      <th>1078902</th>\n",
       "      <td>4</td>\n",
       "      <td>1967961518</td>\n",
       "      <td>Fri May 29 20:31:18 PDT 2009</td>\n",
       "      <td>NO_QUERY</td>\n",
       "      <td>MassimoFarina</td>\n",
       "      <td>@jcallison Would be nice to see you there  #ju...</td>\n",
       "      <td>[jcallison, would, nice, see, june, lambi]</td>\n",
       "    </tr>\n",
       "    <tr>\n",
       "      <th>866515</th>\n",
       "      <td>4</td>\n",
       "      <td>1677627763</td>\n",
       "      <td>Sat May 02 03:06:49 PDT 2009</td>\n",
       "      <td>NO_QUERY</td>\n",
       "      <td>nurulaqilah</td>\n",
       "      <td>So bored! Cant wait to get my ass out later. A...</td>\n",
       "      <td>[bore, cant, wait, get, later, ahh, gon, iron,...</td>\n",
       "    </tr>\n",
       "    <tr>\n",
       "      <th>...</th>\n",
       "      <td>...</td>\n",
       "      <td>...</td>\n",
       "      <td>...</td>\n",
       "      <td>...</td>\n",
       "      <td>...</td>\n",
       "      <td>...</td>\n",
       "      <td>...</td>\n",
       "    </tr>\n",
       "    <tr>\n",
       "      <th>544238</th>\n",
       "      <td>0</td>\n",
       "      <td>2201036155</td>\n",
       "      <td>Tue Jun 16 19:42:59 PDT 2009</td>\n",
       "      <td>NO_QUERY</td>\n",
       "      <td>juliepeach</td>\n",
       "      <td>the footnote: a fat old man told me to go in h...</td>\n",
       "      <td>[footnot, fat, old, told, go, hi, hous, check,...</td>\n",
       "    </tr>\n",
       "    <tr>\n",
       "      <th>437760</th>\n",
       "      <td>0</td>\n",
       "      <td>2066001944</td>\n",
       "      <td>Sun Jun 07 09:42:09 PDT 2009</td>\n",
       "      <td>NO_QUERY</td>\n",
       "      <td>cavewizard</td>\n",
       "      <td>Its f'n cold here  Another day of cutting bamboo.</td>\n",
       "      <td>[f, cold, anoth, day, cut, bamboo]</td>\n",
       "    </tr>\n",
       "    <tr>\n",
       "      <th>54862</th>\n",
       "      <td>0</td>\n",
       "      <td>1684871502</td>\n",
       "      <td>Sat May 02 22:18:21 PDT 2009</td>\n",
       "      <td>NO_QUERY</td>\n",
       "      <td>emmanism</td>\n",
       "      <td>needs to diet and exercise.</td>\n",
       "      <td>[need, diet, exercis]</td>\n",
       "    </tr>\n",
       "    <tr>\n",
       "      <th>1044874</th>\n",
       "      <td>4</td>\n",
       "      <td>1957488736</td>\n",
       "      <td>Fri May 29 00:39:39 PDT 2009</td>\n",
       "      <td>NO_QUERY</td>\n",
       "      <td>Myrathi</td>\n",
       "      <td>@twi_light My longsleeve has purple runic scri...</td>\n",
       "      <td>[twi, light, longsleev, purpl, runic, script, ...</td>\n",
       "    </tr>\n",
       "    <tr>\n",
       "      <th>1344193</th>\n",
       "      <td>4</td>\n",
       "      <td>2039844557</td>\n",
       "      <td>Thu Jun 04 22:57:19 PDT 2009</td>\n",
       "      <td>NO_QUERY</td>\n",
       "      <td>analydia___</td>\n",
       "      <td>@Jonasbrothers Kevin you're NOT in the corner,...</td>\n",
       "      <td>[jonasbroth, kevin, corner, heart, brazil, lov...</td>\n",
       "    </tr>\n",
       "  </tbody>\n",
       "</table>\n",
       "<p>5000 rows × 7 columns</p>\n",
       "</div>"
      ],
      "text/plain": [
       "         target          id                          date      flag  \\\n",
       "713961        0  2258982027  Sat Jun 20 16:49:19 PDT 2009  NO_QUERY   \n",
       "624294        0  2229849636  Thu Jun 18 16:17:35 PDT 2009  NO_QUERY   \n",
       "272908        0  1990296107  Mon Jun 01 04:28:18 PDT 2009  NO_QUERY   \n",
       "1078902       4  1967961518  Fri May 29 20:31:18 PDT 2009  NO_QUERY   \n",
       "866515        4  1677627763  Sat May 02 03:06:49 PDT 2009  NO_QUERY   \n",
       "...         ...         ...                           ...       ...   \n",
       "544238        0  2201036155  Tue Jun 16 19:42:59 PDT 2009  NO_QUERY   \n",
       "437760        0  2066001944  Sun Jun 07 09:42:09 PDT 2009  NO_QUERY   \n",
       "54862         0  1684871502  Sat May 02 22:18:21 PDT 2009  NO_QUERY   \n",
       "1044874       4  1957488736  Fri May 29 00:39:39 PDT 2009  NO_QUERY   \n",
       "1344193       4  2039844557  Thu Jun 04 22:57:19 PDT 2009  NO_QUERY   \n",
       "\n",
       "                  user                                               text  \\\n",
       "713961          snyjay  Thanks for not calling me for 3 days! Hmph!  G...   \n",
       "624294      John_Leese  I smell food ... It's too late to eat but smel...   \n",
       "272908     rhettblanch  Just back from ANZ Stadium, less said the better    \n",
       "1078902  MassimoFarina  @jcallison Would be nice to see you there  #ju...   \n",
       "866515     nurulaqilah  So bored! Cant wait to get my ass out later. A...   \n",
       "...                ...                                                ...   \n",
       "544238      juliepeach  the footnote: a fat old man told me to go in h...   \n",
       "437760      cavewizard  Its f'n cold here  Another day of cutting bamboo.   \n",
       "54862         emmanism                       needs to diet and exercise.    \n",
       "1044874        Myrathi  @twi_light My longsleeve has purple runic scri...   \n",
       "1344193    analydia___  @Jonasbrothers Kevin you're NOT in the corner,...   \n",
       "\n",
       "                                            text_processed  \n",
       "713961                [thank, call, day, hmph, go, waikel]  \n",
       "624294               [smell, food, late, eat, smell, amaz]  \n",
       "272908                  [back, anz, stadium, said, better]  \n",
       "1078902         [jcallison, would, nice, see, june, lambi]  \n",
       "866515   [bore, cant, wait, get, later, ahh, gon, iron,...  \n",
       "...                                                    ...  \n",
       "544238   [footnot, fat, old, told, go, hi, hous, check,...  \n",
       "437760                  [f, cold, anoth, day, cut, bamboo]  \n",
       "54862                                [need, diet, exercis]  \n",
       "1044874  [twi, light, longsleev, purpl, runic, script, ...  \n",
       "1344193  [jonasbroth, kevin, corner, heart, brazil, lov...  \n",
       "\n",
       "[5000 rows x 7 columns]"
      ]
     },
     "execution_count": 6,
     "metadata": {},
     "output_type": "execute_result"
    }
   ],
   "source": [
    "subset"
   ]
  },
  {
   "cell_type": "markdown",
   "metadata": {},
   "source": [
    "### Creating Bag of Words\n",
    "\n",
    "The purpose of this step is to create a [bag of words](https://en.wikipedia.org/wiki/Bag-of-words_model) from the processed data. The bag of words contains all the unique words in your whole text body (a.k.a. *corpus*) with the number of occurrence of each word. It will allow you to understand which words are the most important features across the whole corpus.\n",
    "\n",
    "Also, you can imagine you will have a massive set of words. The less important words (i.e. those of very low number of occurrence) do not contribute much to the sentiment. Therefore, you only need to use the most important words to build your feature set in the next step. In our case, we will use the top 5,000 words with the highest frequency to build the features.\n",
    "\n",
    "In the cell below, combine all the words in `text_processed` and calculate the frequency distribution of all words. A convenient library to calculate the term frequency distribution is NLTK's `FreqDist` class ([documentation](https://www.nltk.org/api/nltk.html#module-nltk.probability)). Then select the top 5,000 words from the frequency distribution."
   ]
  },
  {
   "cell_type": "code",
   "execution_count": 7,
   "metadata": {},
   "outputs": [],
   "source": [
    "## THANK YOU JO FOR THIS LINK https://pythonprogramming.net/words-as-features-nltk-tutorial/\n",
    "\n",
    "def bag_of_words(dataframe, column):\n",
    "    import nltk\n",
    "    frequency_dist = nltk.FreqDist()\n",
    "    \n",
    "    for words in dataframe[column]:\n",
    "        for word in words:\n",
    "            frequency_dist[word] += 1\n",
    "    return list(frequency_dist.keys())[:500]\n",
    "\n",
    "words = bag_of_words(subset, 'text_processed')"
   ]
  },
  {
   "cell_type": "code",
   "execution_count": 8,
   "metadata": {},
   "outputs": [],
   "source": [
    "#words"
   ]
  },
  {
   "cell_type": "markdown",
   "metadata": {},
   "source": [
    "### Building Features\n",
    "\n",
    "Now let's build the features. Using the top 5,000 words, create a 2-dimensional matrix to record whether each of those words is contained in each document (tweet). Then you also have an output column to indicate whether the sentiment in each tweet is positive. For example, assuming your bag of words has 5 items (`['one', 'two', 'three', 'four', 'five']`) out of 4 documents (`['A', 'B', 'C', 'D']`), your feature set is essentially:\n",
    "\n",
    "| Doc | one | two | three | four | five | is_positive |\n",
    "|---|---|---|---|---|---|---|\n",
    "| A | True | False | False | True | False | True |\n",
    "| B | False | False | False | True | True | False |\n",
    "| C | False | True | False | False | False | True |\n",
    "| D | True | False | False | False | True | False|\n",
    "\n",
    "However, because the `nltk.NaiveBayesClassifier.train` class we will use in the next step does not work with Pandas dataframe, the structure of your feature set should be converted to the Python list looking like below:\n",
    "\n",
    "```python\n",
    "[\n",
    "\t({\n",
    "\t\t'one': True,\n",
    "\t\t'two': False,\n",
    "\t\t'three': False,\n",
    "\t\t'four': True,\n",
    "\t\t'five': False\n",
    "\t}, True),\n",
    "\t({\n",
    "\t\t'one': False,\n",
    "\t\t'two': False,\n",
    "\t\t'three': False,\n",
    "\t\t'four': True,\n",
    "\t\t'five': True\n",
    "\t}, False),\n",
    "\t({\n",
    "\t\t'one': False,\n",
    "\t\t'two': True,\n",
    "\t\t'three': False,\n",
    "\t\t'four': False,\n",
    "\t\t'five': False\n",
    "\t}, True),\n",
    "\t({\n",
    "\t\t'one': True,\n",
    "\t\t'two': False,\n",
    "\t\t'three': False,\n",
    "\t\t'four': False,\n",
    "\t\t'five': True\n",
    "\t}, False)\n",
    "]\n",
    "```\n",
    "\n",
    "To help you in this step, watch the [following video](https://www.youtube.com/watch?v=-vVskDsHcVc) to learn how to build the feature set with Python and NLTK. The source code in this video can be found [here](https://pythonprogramming.net/words-as-features-nltk-tutorial/)."
   ]
  },
  {
   "cell_type": "markdown",
   "metadata": {},
   "source": [
    "[![Building Features](building-features.jpg)](https://www.youtube.com/watch?v=-vVskDsHcVc)"
   ]
  },
  {
   "cell_type": "code",
   "execution_count": 9,
   "metadata": {},
   "outputs": [],
   "source": [
    " ## THANK YOU JO FOR THIS LINK https://pythonprogramming.net/words-as-features-nltk-tutorial/\n",
    "def build_features(document, words):\n",
    "    features = {}\n",
    "    words = set(document)\n",
    "    for word in words:\n",
    "        features[word] = (word in words)\n",
    "    return features\n",
    "features = list()  # make a new list here, then append\n",
    "for sentence, target in zip(subset['text_processed'], subset['text']):\n",
    "    features.append((build_features(sentence, words), target))"
   ]
  },
  {
   "cell_type": "markdown",
   "metadata": {},
   "source": [
    "### Building and Traininng Naive Bayes Model\n",
    "\n",
    "In this step you will split your feature set into a training and a test set. Then you will create a Bayes classifier instance using `nltk.NaiveBayesClassifier.train` ([example](https://www.nltk.org/book/ch06.html)) to train with the training dataset.\n",
    "\n",
    "After training the model, call `classifier.show_most_informative_features()` to inspect the most important features. The output will look like:\n",
    "\n",
    "```\n",
    "Most Informative Features\n",
    "\t    snow = True            False : True   =     34.3 : 1.0\n",
    "\t  easter = True            False : True   =     26.2 : 1.0\n",
    "\t headach = True            False : True   =     20.9 : 1.0\n",
    "\t    argh = True            False : True   =     17.6 : 1.0\n",
    "\tunfortun = True            False : True   =     16.9 : 1.0\n",
    "\t    jona = True             True : False  =     16.2 : 1.0\n",
    "\t     ach = True            False : True   =     14.9 : 1.0\n",
    "\t     sad = True            False : True   =     13.0 : 1.0\n",
    "\t  parent = True            False : True   =     12.9 : 1.0\n",
    "\t  spring = True            False : True   =     12.7 : 1.0\n",
    "```\n",
    "\n",
    "The [following video](https://www.youtube.com/watch?v=rISOsUaTrO4) will help you complete this step. The source code in this video can be found [here](https://pythonprogramming.net/naive-bayes-classifier-nltk-tutorial/)."
   ]
  },
  {
   "cell_type": "markdown",
   "metadata": {},
   "source": [
    "[![Building and Training NB](nb-model-building.jpg)](https://www.youtube.com/watch?v=rISOsUaTrO4)"
   ]
  },
  {
   "cell_type": "code",
   "execution_count": 10,
   "metadata": {},
   "outputs": [
    {
     "ename": "MemoryError",
     "evalue": "",
     "output_type": "error",
     "traceback": [
      "\u001b[1;31m---------------------------------------------------------------------------\u001b[0m",
      "\u001b[1;31mMemoryError\u001b[0m                               Traceback (most recent call last)",
      "\u001b[1;32m<ipython-input-10-87fcd2fa40f8>\u001b[0m in \u001b[0;36m<module>\u001b[1;34m\u001b[0m\n\u001b[0;32m      1\u001b[0m \u001b[1;32mimport\u001b[0m \u001b[0mnltk\u001b[0m\u001b[1;33m\u001b[0m\u001b[1;33m\u001b[0m\u001b[0m\n\u001b[1;32m----> 2\u001b[1;33m \u001b[0mbayes_classifier\u001b[0m \u001b[1;33m=\u001b[0m \u001b[0mnltk\u001b[0m\u001b[1;33m.\u001b[0m\u001b[0mNaiveBayesClassifier\u001b[0m\u001b[1;33m.\u001b[0m\u001b[0mtrain\u001b[0m\u001b[1;33m(\u001b[0m\u001b[0mfeatures\u001b[0m\u001b[1;33m)\u001b[0m\u001b[1;33m\u001b[0m\u001b[1;33m\u001b[0m\u001b[0m\n\u001b[0m",
      "\u001b[1;32m~\\anaconda3\\lib\\site-packages\\nltk\\classify\\naivebayes.py\u001b[0m in \u001b[0;36mtrain\u001b[1;34m(cls, labeled_featuresets, estimator)\u001b[0m\n\u001b[0;32m    237\u001b[0m         \u001b[1;32mfor\u001b[0m \u001b[1;33m(\u001b[0m\u001b[1;33m(\u001b[0m\u001b[0mlabel\u001b[0m\u001b[1;33m,\u001b[0m \u001b[0mfname\u001b[0m\u001b[1;33m)\u001b[0m\u001b[1;33m,\u001b[0m \u001b[0mfreqdist\u001b[0m\u001b[1;33m)\u001b[0m \u001b[1;32min\u001b[0m \u001b[0mfeature_freqdist\u001b[0m\u001b[1;33m.\u001b[0m\u001b[0mitems\u001b[0m\u001b[1;33m(\u001b[0m\u001b[1;33m)\u001b[0m\u001b[1;33m:\u001b[0m\u001b[1;33m\u001b[0m\u001b[1;33m\u001b[0m\u001b[0m\n\u001b[0;32m    238\u001b[0m             \u001b[0mprobdist\u001b[0m \u001b[1;33m=\u001b[0m \u001b[0mestimator\u001b[0m\u001b[1;33m(\u001b[0m\u001b[0mfreqdist\u001b[0m\u001b[1;33m,\u001b[0m \u001b[0mbins\u001b[0m\u001b[1;33m=\u001b[0m\u001b[0mlen\u001b[0m\u001b[1;33m(\u001b[0m\u001b[0mfeature_values\u001b[0m\u001b[1;33m[\u001b[0m\u001b[0mfname\u001b[0m\u001b[1;33m]\u001b[0m\u001b[1;33m)\u001b[0m\u001b[1;33m)\u001b[0m\u001b[1;33m\u001b[0m\u001b[1;33m\u001b[0m\u001b[0m\n\u001b[1;32m--> 239\u001b[1;33m             \u001b[0mfeature_probdist\u001b[0m\u001b[1;33m[\u001b[0m\u001b[0mlabel\u001b[0m\u001b[1;33m,\u001b[0m \u001b[0mfname\u001b[0m\u001b[1;33m]\u001b[0m \u001b[1;33m=\u001b[0m \u001b[0mprobdist\u001b[0m\u001b[1;33m\u001b[0m\u001b[1;33m\u001b[0m\u001b[0m\n\u001b[0m\u001b[0;32m    240\u001b[0m \u001b[1;33m\u001b[0m\u001b[0m\n\u001b[0;32m    241\u001b[0m         \u001b[1;32mreturn\u001b[0m \u001b[0mcls\u001b[0m\u001b[1;33m(\u001b[0m\u001b[0mlabel_probdist\u001b[0m\u001b[1;33m,\u001b[0m \u001b[0mfeature_probdist\u001b[0m\u001b[1;33m)\u001b[0m\u001b[1;33m\u001b[0m\u001b[1;33m\u001b[0m\u001b[0m\n",
      "\u001b[1;31mMemoryError\u001b[0m: "
     ]
    }
   ],
   "source": [
    "import nltk\n",
    "bayes_classifier = nltk.NaiveBayesClassifier.train(features)"
   ]
  },
  {
   "cell_type": "markdown",
   "metadata": {},
   "source": [
    "### Testing Naive Bayes Model\n",
    "\n",
    "Now we'll test our classifier with the test dataset. This is done by calling `nltk.classify.accuracy(classifier, test)`.\n",
    "\n",
    "As mentioned in one of the tutorial videos, a Naive Bayes model is considered OK if your accuracy score is over 0.6. If your accuracy score is over 0.7, you've done a great job!"
   ]
  },
  {
   "cell_type": "code",
   "execution_count": null,
   "metadata": {},
   "outputs": [],
   "source": [
    "test_accuracy = nltk.classify.accuracy(bayes_classifier, features)\n",
    "test_accuracy"
   ]
  },
  {
   "cell_type": "markdown",
   "metadata": {},
   "source": [
    "## Bonus Question 1: Improve Model Performance\n",
    "\n",
    "If you are still not exhausted so far and want to dig deeper, try to improve your classifier performance. There are many aspects you can dig into, for example:\n",
    "\n",
    "* Improve stemming and lemmatization. Inspect your bag of words and the most important features. Are there any words you should furuther remove from analysis? You can append these words to further remove to the stop words list.\n",
    "\n",
    "* Remember we only used the top 5,000 features to build model? Try using different numbers of top features. The bottom line is to use as few features as you can without compromising your model performance. The fewer features you select into your model, the faster your model is trained. Then you can use a larger sample size to improve your model accuracy score."
   ]
  },
  {
   "cell_type": "code",
   "execution_count": null,
   "metadata": {},
   "outputs": [],
   "source": [
    "# your code here"
   ]
  },
  {
   "cell_type": "markdown",
   "metadata": {},
   "source": [
    "## Bonus Question 2: Machine Learning Pipeline\n",
    "\n",
    "In a new Jupyter Notebook, combine all your codes into a function (or a class). Your new function will execute the complete machine learning pipeline job by receiving the dataset location and output the classifier. This will allow you to use your function to predict the sentiment of any tweet in real time. "
   ]
  },
  {
   "cell_type": "code",
   "execution_count": null,
   "metadata": {},
   "outputs": [],
   "source": [
    "# your code here"
   ]
  },
  {
   "cell_type": "markdown",
   "metadata": {},
   "source": [
    "## Bonus Question 3: Apache Spark\n",
    "\n",
    "If you have completed the Apache Spark advanced topic lab, what you can do is to migrate your pipeline from local to a Databricks Notebook. Share your notebook with your instructor and classmates to show off your achievements!"
   ]
  },
  {
   "cell_type": "code",
   "execution_count": null,
   "metadata": {},
   "outputs": [],
   "source": [
    "# your code here"
   ]
  }
 ],
 "metadata": {
  "kernelspec": {
   "display_name": "Python 3",
   "language": "python",
   "name": "python3"
  },
  "language_info": {
   "codemirror_mode": {
    "name": "ipython",
    "version": 3
   },
   "file_extension": ".py",
   "mimetype": "text/x-python",
   "name": "python",
   "nbconvert_exporter": "python",
   "pygments_lexer": "ipython3",
   "version": "3.8.8"
  }
 },
 "nbformat": 4,
 "nbformat_minor": 4
}
