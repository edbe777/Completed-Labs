{
 "cells": [
  {
   "cell_type": "code",
   "execution_count": 18,
   "id": "5a09eb3b-df82-4f90-b171-8c98668421c9",
   "metadata": {},
   "outputs": [
    {
     "name": "stdout",
     "output_type": "stream",
     "text": [
      "Requirement already satisfied: captcha in c:\\users\\eddie\\anaconda3\\lib\\site-packages (0.3)\n",
      "Requirement already satisfied: Pillow in c:\\users\\eddie\\anaconda3\\lib\\site-packages (from captcha) (8.2.0)\n"
     ]
    }
   ],
   "source": [
    "#!pip install captcha"
   ]
  },
  {
   "cell_type": "markdown",
   "id": "a1b9afa0-6d2f-422f-8d80-35e92ed080fa",
   "metadata": {},
   "source": [
    "## Image Captcha"
   ]
  },
  {
   "cell_type": "code",
   "execution_count": 61,
   "id": "5a4a81ea-df32-4d2b-8437-34acb7086621",
   "metadata": {},
   "outputs": [],
   "source": [
    "# Import module\n",
    "from captcha.image import ImageCaptcha\n",
    " \n",
    "# Create an image of the given size\n",
    "image = ImageCaptcha(width = 280, height = 90)\n",
    " \n",
    "# Image captcha text\n",
    "captcha_text = 'Captcha is cool!' \n",
    " \n",
    "# generate the image of the given text\n",
    "data = image.generate(captcha_text) \n",
    " \n",
    "# write the image on the given file and save it\n",
    "image.write(captcha_text, 'CAPTCHA.png')"
   ]
  },
  {
   "cell_type": "markdown",
   "id": "ad9af61d-2733-4b40-9fa6-c606df686424",
   "metadata": {},
   "source": [
    "## Audio"
   ]
  },
  {
   "cell_type": "code",
   "execution_count": 62,
   "id": "60808416-d0fa-467e-a66d-a5aa5bd5ad8d",
   "metadata": {},
   "outputs": [
    {
     "data": {
      "text/plain": [
       "69478"
      ]
     },
     "execution_count": 62,
     "metadata": {},
     "output_type": "execute_result"
    }
   ],
   "source": [
    "# Import module\n",
    "from captcha.audio import AudioCaptcha\n",
    " \n",
    "# Create audio instance\n",
    "audio = AudioCaptcha() \n",
    " \n",
    "# Audio captcha text\n",
    "captcha_text = \"1535\"\n",
    " \n",
    "# generate the audio of the given text\n",
    "audio_data = audio.generate(captcha_text)\n",
    " \n",
    "# Give the name of the audio file\n",
    "audio_file = \"audio\"+captcha_text+'.wav'\n",
    " \n",
    "# Write audio file and save it \n",
    "audio.write(captcha_text, audio_file)"
   ]
  },
  {
   "cell_type": "code",
   "execution_count": null,
   "id": "ac855e65-5b87-4e23-8fe3-acede82df6f8",
   "metadata": {},
   "outputs": [],
   "source": []
  },
  {
   "cell_type": "code",
   "execution_count": null,
   "id": "ae881bdd-2209-4166-9ab9-c71cd0b65bdf",
   "metadata": {},
   "outputs": [],
   "source": []
  }
 ],
 "metadata": {
  "kernelspec": {
   "display_name": "Python 3",
   "language": "python",
   "name": "python3"
  },
  "language_info": {
   "codemirror_mode": {
    "name": "ipython",
    "version": 3
   },
   "file_extension": ".py",
   "mimetype": "text/x-python",
   "name": "python",
   "nbconvert_exporter": "python",
   "pygments_lexer": "ipython3",
   "version": "3.8.8"
  }
 },
 "nbformat": 4,
 "nbformat_minor": 5
}
