{
 "cells": [
  {
   "cell_type": "code",
   "execution_count": 6,
   "metadata": {
    "id": "gEPXZPU04TRg"
   },
   "outputs": [],
   "source": [
    "import imblearn\n",
    "import pandas as pd\n",
    "import numpy as np\n",
    "import matplotlib.pyplot as plt\n",
    "import seaborn as sns"
   ]
  },
  {
   "cell_type": "code",
   "execution_count": 7,
   "metadata": {
    "id": "3Zl7PPAbNcAM"
   },
   "outputs": [],
   "source": [
    "from sklearn.linear_model import LogisticRegression\n",
    "from sklearn.preprocessing import StandardScaler"
   ]
  },
  {
   "cell_type": "code",
   "execution_count": 8,
   "metadata": {
    "colab": {
     "base_uri": "https://localhost:8080/",
     "height": 204
    },
    "id": "KidUt5_o4XdS",
    "outputId": "8cf97cf3-a73e-4642-c297-309933745342"
   },
   "outputs": [
    {
     "data": {
      "text/html": [
       "<div>\n",
       "<style scoped>\n",
       "    .dataframe tbody tr th:only-of-type {\n",
       "        vertical-align: middle;\n",
       "    }\n",
       "\n",
       "    .dataframe tbody tr th {\n",
       "        vertical-align: top;\n",
       "    }\n",
       "\n",
       "    .dataframe thead th {\n",
       "        text-align: right;\n",
       "    }\n",
       "</style>\n",
       "<table border=\"1\" class=\"dataframe\">\n",
       "  <thead>\n",
       "    <tr style=\"text-align: right;\">\n",
       "      <th></th>\n",
       "      <th>Pregnancies</th>\n",
       "      <th>Glucose</th>\n",
       "      <th>BloodPressure</th>\n",
       "      <th>SkinThickness</th>\n",
       "      <th>Insulin</th>\n",
       "      <th>BMI</th>\n",
       "      <th>DiabetesPedigreeFunction</th>\n",
       "      <th>Age</th>\n",
       "      <th>Outcome</th>\n",
       "    </tr>\n",
       "  </thead>\n",
       "  <tbody>\n",
       "    <tr>\n",
       "      <th>0</th>\n",
       "      <td>6</td>\n",
       "      <td>148</td>\n",
       "      <td>72</td>\n",
       "      <td>35</td>\n",
       "      <td>0</td>\n",
       "      <td>33.6</td>\n",
       "      <td>0.627</td>\n",
       "      <td>50</td>\n",
       "      <td>1</td>\n",
       "    </tr>\n",
       "    <tr>\n",
       "      <th>1</th>\n",
       "      <td>1</td>\n",
       "      <td>85</td>\n",
       "      <td>66</td>\n",
       "      <td>29</td>\n",
       "      <td>0</td>\n",
       "      <td>26.6</td>\n",
       "      <td>0.351</td>\n",
       "      <td>31</td>\n",
       "      <td>0</td>\n",
       "    </tr>\n",
       "    <tr>\n",
       "      <th>2</th>\n",
       "      <td>8</td>\n",
       "      <td>183</td>\n",
       "      <td>64</td>\n",
       "      <td>0</td>\n",
       "      <td>0</td>\n",
       "      <td>23.3</td>\n",
       "      <td>0.672</td>\n",
       "      <td>32</td>\n",
       "      <td>1</td>\n",
       "    </tr>\n",
       "    <tr>\n",
       "      <th>3</th>\n",
       "      <td>1</td>\n",
       "      <td>89</td>\n",
       "      <td>66</td>\n",
       "      <td>23</td>\n",
       "      <td>94</td>\n",
       "      <td>28.1</td>\n",
       "      <td>0.167</td>\n",
       "      <td>21</td>\n",
       "      <td>0</td>\n",
       "    </tr>\n",
       "    <tr>\n",
       "      <th>4</th>\n",
       "      <td>0</td>\n",
       "      <td>137</td>\n",
       "      <td>40</td>\n",
       "      <td>35</td>\n",
       "      <td>168</td>\n",
       "      <td>43.1</td>\n",
       "      <td>2.288</td>\n",
       "      <td>33</td>\n",
       "      <td>1</td>\n",
       "    </tr>\n",
       "  </tbody>\n",
       "</table>\n",
       "</div>"
      ],
      "text/plain": [
       "   Pregnancies  Glucose  BloodPressure  SkinThickness  Insulin   BMI  \\\n",
       "0            6      148             72             35        0  33.6   \n",
       "1            1       85             66             29        0  26.6   \n",
       "2            8      183             64              0        0  23.3   \n",
       "3            1       89             66             23       94  28.1   \n",
       "4            0      137             40             35      168  43.1   \n",
       "\n",
       "   DiabetesPedigreeFunction  Age  Outcome  \n",
       "0                     0.627   50        1  \n",
       "1                     0.351   31        0  \n",
       "2                     0.672   32        1  \n",
       "3                     0.167   21        0  \n",
       "4                     2.288   33        1  "
      ]
     },
     "execution_count": 8,
     "metadata": {},
     "output_type": "execute_result"
    }
   ],
   "source": [
    "diabetes=pd.read_csv('diabetes.csv')\n",
    "diabetes.head()\n",
    "#diabetes.Outcome.value_counts(dropna=False)"
   ]
  },
  {
   "cell_type": "markdown",
   "metadata": {
    "id": "JOXGm8fRPCBL"
   },
   "source": [
    "# Assumptions of Logistic Reg"
   ]
  },
  {
   "cell_type": "markdown",
   "metadata": {
    "id": "RAGpw6FaPHHi"
   },
   "source": [
    "## No colinearity"
   ]
  },
  {
   "cell_type": "code",
   "execution_count": 9,
   "metadata": {
    "id": "CzvX-a_UPJxx"
   },
   "outputs": [],
   "source": [
    "# X/y split\n",
    "X = diabetes.drop('Outcome',axis = 1)\n",
    "y = diabetes['Outcome']"
   ]
  },
  {
   "cell_type": "code",
   "execution_count": 10,
   "metadata": {
    "colab": {
     "base_uri": "https://localhost:8080/",
     "height": 390
    },
    "id": "dspsDMmgPvjS",
    "outputId": "cd723f6a-a025-4aca-dbb7-36657181a392"
   },
   "outputs": [
    {
     "data": {
      "image/png": "[encoded data removed]",
      "text/plain": [
       "<Figure size 432x288 with 2 Axes>"
      ]
     },
     "metadata": {
      "needs_background": "light"
     },
     "output_type": "display_data"
    }
   ],
   "source": [
    "correlations_matrix = diabetes.corr()                   #diabetes.corr for numeric otherwise X.corr\n",
    "sns.heatmap(correlations_matrix, annot=True)\n",
    "plt.show()"
   ]
  },
  {
   "cell_type": "markdown",
   "metadata": {
    "id": "NPI1a392P8QD"
   },
   "source": [
    "## Standardization of independent variables"
   ]
  },
  {
   "cell_type": "code",
   "execution_count": 11,
   "metadata": {},
   "outputs": [],
   "source": [
    "# here we start scaling, so need to do train-test-split before\n",
    "from sklearn.model_selection import train_test_split\n",
    "X_train, X_test, y_train, y_test = train_test_split(X, y, random_state=0) # default fraction is .2"
   ]
  },
  {
   "cell_type": "code",
   "execution_count": 12,
   "metadata": {
    "colab": {
     "base_uri": "https://localhost:8080/",
     "height": 204
    },
    "id": "m7lKyEGtQGpb",
    "outputId": "97e9d8ad-c741-4ac9-8d96-9867784da076"
   },
   "outputs": [
    {
     "data": {
      "text/html": [
       "<div>\n",
       "<style scoped>\n",
       "    .dataframe tbody tr th:only-of-type {\n",
       "        vertical-align: middle;\n",
       "    }\n",
       "\n",
       "    .dataframe tbody tr th {\n",
       "        vertical-align: top;\n",
       "    }\n",
       "\n",
       "    .dataframe thead th {\n",
       "        text-align: right;\n",
       "    }\n",
       "</style>\n",
       "<table border=\"1\" class=\"dataframe\">\n",
       "  <thead>\n",
       "    <tr style=\"text-align: right;\">\n",
       "      <th></th>\n",
       "      <th>Pregnancies</th>\n",
       "      <th>Glucose</th>\n",
       "      <th>BloodPressure</th>\n",
       "      <th>SkinThickness</th>\n",
       "      <th>Insulin</th>\n",
       "      <th>BMI</th>\n",
       "      <th>DiabetesPedigreeFunction</th>\n",
       "      <th>Age</th>\n",
       "    </tr>\n",
       "  </thead>\n",
       "  <tbody>\n",
       "    <tr>\n",
       "      <th>0</th>\n",
       "      <td>1.507552</td>\n",
       "      <td>-1.015215</td>\n",
       "      <td>-0.404519</td>\n",
       "      <td>-1.319215</td>\n",
       "      <td>-0.718238</td>\n",
       "      <td>-1.220701</td>\n",
       "      <td>-0.983259</td>\n",
       "      <td>-0.048640</td>\n",
       "    </tr>\n",
       "    <tr>\n",
       "      <th>1</th>\n",
       "      <td>-0.829864</td>\n",
       "      <td>-0.099647</td>\n",
       "      <td>-0.615096</td>\n",
       "      <td>0.928730</td>\n",
       "      <td>0.083747</td>\n",
       "      <td>0.137191</td>\n",
       "      <td>-0.624936</td>\n",
       "      <td>-0.882466</td>\n",
       "    </tr>\n",
       "    <tr>\n",
       "      <th>2</th>\n",
       "      <td>-1.122041</td>\n",
       "      <td>-0.952072</td>\n",
       "      <td>0.543076</td>\n",
       "      <td>-1.319215</td>\n",
       "      <td>-0.718238</td>\n",
       "      <td>0.024033</td>\n",
       "      <td>0.398842</td>\n",
       "      <td>-0.548935</td>\n",
       "    </tr>\n",
       "    <tr>\n",
       "      <th>3</th>\n",
       "      <td>2.384083</td>\n",
       "      <td>0.594922</td>\n",
       "      <td>0.648364</td>\n",
       "      <td>1.365830</td>\n",
       "      <td>2.054583</td>\n",
       "      <td>0.879002</td>\n",
       "      <td>0.179030</td>\n",
       "      <td>2.035925</td>\n",
       "    </tr>\n",
       "    <tr>\n",
       "      <th>4</th>\n",
       "      <td>1.507552</td>\n",
       "      <td>0.752778</td>\n",
       "      <td>0.543076</td>\n",
       "      <td>1.553159</td>\n",
       "      <td>0.390891</td>\n",
       "      <td>0.715552</td>\n",
       "      <td>0.507242</td>\n",
       "      <td>0.535038</td>\n",
       "    </tr>\n",
       "  </tbody>\n",
       "</table>\n",
       "</div>"
      ],
      "text/plain": [
       "   Pregnancies   Glucose  BloodPressure  SkinThickness   Insulin       BMI  \\\n",
       "0     1.507552 -1.015215      -0.404519      -1.319215 -0.718238 -1.220701   \n",
       "1    -0.829864 -0.099647      -0.615096       0.928730  0.083747  0.137191   \n",
       "2    -1.122041 -0.952072       0.543076      -1.319215 -0.718238  0.024033   \n",
       "3     2.384083  0.594922       0.648364       1.365830  2.054583  0.879002   \n",
       "4     1.507552  0.752778       0.543076       1.553159  0.390891  0.715552   \n",
       "\n",
       "   DiabetesPedigreeFunction       Age  \n",
       "0                 -0.983259 -0.048640  \n",
       "1                 -0.624936 -0.882466  \n",
       "2                  0.398842 -0.548935  \n",
       "3                  0.179030  2.035925  \n",
       "4                  0.507242  0.535038  "
      ]
     },
     "execution_count": 12,
     "metadata": {},
     "output_type": "execute_result"
    }
   ],
   "source": [
    "# all features are numeric, so no need to split into _num and _cat\n",
    "transformer = StandardScaler().fit(X_train)\n",
    "X_train_scaled = pd.DataFrame(transformer.transform(X_train),columns=X.columns)\n",
    "# because this is the only tranformation we apply to the numerics, \n",
    "# we can immediately transform the X_test as well\n",
    "X_test_scaled = pd.DataFrame(transformer.transform(X_test),columns=X.columns)\n",
    "X_train_scaled.head()"
   ]
  },
  {
   "cell_type": "code",
   "execution_count": 13,
   "metadata": {},
   "outputs": [],
   "source": [
    "y_train = y_train.reset_index(drop=True) \n",
    "# needed because the transformation also reset the index for X_train_scaled\n",
    "# so we need this for y_test as well...\n",
    "y_test = y_test.reset_index(drop=True) \n",
    "\n"
   ]
  },
  {
   "cell_type": "markdown",
   "metadata": {
    "id": "fKk2HopPQKCi"
   },
   "source": [
    "## Linear relation on logit - what?"
   ]
  },
  {
   "cell_type": "code",
   "execution_count": 14,
   "metadata": {
    "id": "axGGbN8LZJ1o"
   },
   "outputs": [],
   "source": [
    "# remember linear regression? We expected the relation between x and y to actually be linear!\n",
    "# should we expect the same from logistic regression?"
   ]
  },
  {
   "cell_type": "code",
   "execution_count": 15,
   "metadata": {
    "colab": {
     "base_uri": "https://localhost:8080/"
    },
    "id": "AKQnXYzsQPfK",
    "outputId": "aa959612-64e6-4f31-862b-891d00173883"
   },
   "outputs": [
    {
     "data": {
      "text/plain": [
       "LogisticRegression(random_state=0)"
      ]
     },
     "execution_count": 15,
     "metadata": {},
     "output_type": "execute_result"
    }
   ],
   "source": [
    "from sklearn.linear_model import LogisticRegression\n",
    "\n",
    "LR = LogisticRegression(random_state=0, solver='lbfgs')\n",
    "LR.fit(X_train_scaled, y_train)"
   ]
  },
  {
   "cell_type": "code",
   "execution_count": 16,
   "metadata": {
    "id": "ifQDQMWSTbtc"
   },
   "outputs": [],
   "source": [
    "logits = np.log(1/LR.predict_proba(X_train_scaled)[:,1]-1)"
   ]
  },
  {
   "cell_type": "code",
   "execution_count": 17,
   "metadata": {
    "colab": {
     "base_uri": "https://localhost:8080/",
     "height": 282
    },
    "id": "iXgIGiX1Ykkx",
    "outputId": "2b9a2402-8d8b-416f-949c-4195b9dfd27f"
   },
   "outputs": [
    {
     "data": {
      "text/plain": [
       "<matplotlib.collections.PathCollection at 0x1b56304baf0>"
      ]
     },
     "execution_count": 17,
     "metadata": {},
     "output_type": "execute_result"
    },
    {
     "data": {
      "image/png": "[encoded data removed]",
      "text/plain": [
       "<Figure size 432x288 with 1 Axes>"
      ]
     },
     "metadata": {
      "needs_background": "light"
     },
     "output_type": "display_data"
    }
   ],
   "source": [
    "plt.scatter(logits,X_train_scaled['Glucose'])"
   ]
  },
  {
   "cell_type": "code",
   "execution_count": 18,
   "metadata": {
    "colab": {
     "base_uri": "https://localhost:8080/",
     "height": 282
    },
    "id": "_p3-iOS1Y7uB",
    "outputId": "e1c7c114-f4fb-481c-a171-d764973c1f1f"
   },
   "outputs": [
    {
     "data": {
      "text/plain": [
       "<matplotlib.collections.PathCollection at 0x1b562ec1310>"
      ]
     },
     "execution_count": 18,
     "metadata": {},
     "output_type": "execute_result"
    },
    {
     "data": {
      "image/png": "[encoded data removed]",
      "text/plain": [
       "<Figure size 432x288 with 1 Axes>"
      ]
     },
     "metadata": {
      "needs_background": "light"
     },
     "output_type": "display_data"
    }
   ],
   "source": [
    "plt.scatter(logits,X_train_scaled['BMI'])"
   ]
  },
  {
   "cell_type": "markdown",
   "metadata": {
    "id": "ezy8ky64dvH4"
   },
   "source": [
    "# Imbalance and metrics"
   ]
  },
  {
   "cell_type": "code",
   "execution_count": 19,
   "metadata": {
    "colab": {
     "base_uri": "https://localhost:8080/",
     "height": 279
    },
    "id": "s2NDF-DI4llM",
    "outputId": "2c58ca13-2302-40bf-a18c-2109377d84b1"
   },
   "outputs": [
    {
     "data": {
      "text/plain": [
       "<AxesSubplot:>"
      ]
     },
     "execution_count": 19,
     "metadata": {},
     "output_type": "execute_result"
    },
    {
     "data": {
      "image/png": "[encoded data removed]",
      "text/plain": [
       "<Figure size 432x288 with 1 Axes>"
      ]
     },
     "metadata": {
      "needs_background": "light"
     },
     "output_type": "display_data"
    }
   ],
   "source": [
    "# while there are more imbalanced datasets, we have a significant imbalance\n",
    "# and the cost of failing to detect the minority class is quite high (lack of diagnosis of diabetes)\n",
    "count_classes = diabetes['Outcome'].value_counts()\n",
    "count_classes.plot(kind = 'bar')"
   ]
  },
  {
   "cell_type": "code",
   "execution_count": null,
   "metadata": {
    "id": "rEBDEsrz4uYY"
   },
   "outputs": [],
   "source": []
  },
  {
   "cell_type": "markdown",
   "metadata": {
    "id": "AKaexAQD6kAg"
   },
   "source": [
    "# A relatively bad model"
   ]
  },
  {
   "cell_type": "code",
   "execution_count": 20,
   "metadata": {
    "colab": {
     "base_uri": "https://localhost:8080/"
    },
    "id": "9plw4nij43b0",
    "outputId": "6b93b646-3a4c-492d-ac0e-516289aebe33"
   },
   "outputs": [
    {
     "data": {
      "text/plain": [
       "0.8020833333333334"
      ]
     },
     "execution_count": 20,
     "metadata": {},
     "output_type": "execute_result"
    }
   ],
   "source": [
    "from sklearn.linear_model import LogisticRegression\n",
    "\n",
    "LR = LogisticRegression(random_state=0, solver='lbfgs')\n",
    "LR.fit(X_train_scaled, y_train)\n",
    "LR.score(X_test_scaled, y_test)"
   ]
  },
  {
   "cell_type": "code",
   "execution_count": 21,
   "metadata": {
    "id": "Fcu7upFjd6oe"
   },
   "outputs": [],
   "source": [
    "# What does this number mean??\n",
    "# Discuss precision and recall"
   ]
  },
  {
   "cell_type": "code",
   "execution_count": 22,
   "metadata": {
    "colab": {
     "base_uri": "https://localhost:8080/"
    },
    "id": "jYTOjlLV477o",
    "outputId": "de946df6-8c79-4a21-c9c5-fdcccecfce0d"
   },
   "outputs": [
    {
     "name": "stdout",
     "output_type": "stream",
     "text": [
      "precision:  0.75\n",
      "recall:  0.5806451612903226\n",
      "f1:  0.6545454545454547\n"
     ]
    }
   ],
   "source": [
    "#while accuracy is not absolutely terrible, a closer look reveals some serious problems\n",
    "from sklearn.metrics import precision_score\n",
    "from sklearn.metrics import recall_score\n",
    "from sklearn.metrics import f1_score\n",
    "\n",
    "pred = LR.predict(X_test_scaled)\n",
    "\n",
    "print(\"precision: \",precision_score(y_test,pred))\n",
    "print(\"recall: \",recall_score(y_test,pred))\n",
    "print(\"f1: \",f1_score(y_test,pred))\n"
   ]
  },
  {
   "cell_type": "code",
   "execution_count": 23,
   "metadata": {
    "colab": {
     "base_uri": "https://localhost:8080/"
    },
    "id": "uz2n-fZ35A2V",
    "outputId": "fc7142dd-1398-491a-dccc-14615021da38"
   },
   "outputs": [
    {
     "data": {
      "text/plain": [
       "array([[118,  12],\n",
       "       [ 26,  36]], dtype=int64)"
      ]
     },
     "execution_count": 23,
     "metadata": {},
     "output_type": "execute_result"
    }
   ],
   "source": [
    "#we fail to identify 40%+ of diabetes cases!\n",
    "from sklearn.metrics import confusion_matrix\n",
    "confusion_matrix(y_test,pred)"
   ]
  },
  {
   "cell_type": "markdown",
   "metadata": {
    "id": "6Xcrdiou62Ew"
   },
   "source": [
    "# Oversampling / undersampling"
   ]
  },
  {
   "cell_type": "code",
   "execution_count": 24,
   "metadata": {
    "id": "ync9VxfK5LVU"
   },
   "outputs": [],
   "source": [
    "from sklearn.utils import resample"
   ]
  },
  {
   "cell_type": "code",
   "execution_count": 25,
   "metadata": {
    "colab": {
     "base_uri": "https://localhost:8080/",
     "height": 204
    },
    "id": "Z_zew0pq5NxU",
    "outputId": "2968d94b-ce31-4036-b427-4878d531780b"
   },
   "outputs": [
    {
     "data": {
      "text/html": [
       "<div>\n",
       "<style scoped>\n",
       "    .dataframe tbody tr th:only-of-type {\n",
       "        vertical-align: middle;\n",
       "    }\n",
       "\n",
       "    .dataframe tbody tr th {\n",
       "        vertical-align: top;\n",
       "    }\n",
       "\n",
       "    .dataframe thead th {\n",
       "        text-align: right;\n",
       "    }\n",
       "</style>\n",
       "<table border=\"1\" class=\"dataframe\">\n",
       "  <thead>\n",
       "    <tr style=\"text-align: right;\">\n",
       "      <th></th>\n",
       "      <th>Pregnancies</th>\n",
       "      <th>Glucose</th>\n",
       "      <th>BloodPressure</th>\n",
       "      <th>SkinThickness</th>\n",
       "      <th>Insulin</th>\n",
       "      <th>BMI</th>\n",
       "      <th>DiabetesPedigreeFunction</th>\n",
       "      <th>Age</th>\n",
       "      <th>Outcome</th>\n",
       "    </tr>\n",
       "  </thead>\n",
       "  <tbody>\n",
       "    <tr>\n",
       "      <th>0</th>\n",
       "      <td>1.507552</td>\n",
       "      <td>-1.015215</td>\n",
       "      <td>-0.404519</td>\n",
       "      <td>-1.319215</td>\n",
       "      <td>-0.718238</td>\n",
       "      <td>-1.220701</td>\n",
       "      <td>-0.983259</td>\n",
       "      <td>-0.048640</td>\n",
       "      <td>0</td>\n",
       "    </tr>\n",
       "    <tr>\n",
       "      <th>1</th>\n",
       "      <td>-0.829864</td>\n",
       "      <td>-0.099647</td>\n",
       "      <td>-0.615096</td>\n",
       "      <td>0.928730</td>\n",
       "      <td>0.083747</td>\n",
       "      <td>0.137191</td>\n",
       "      <td>-0.624936</td>\n",
       "      <td>-0.882466</td>\n",
       "      <td>0</td>\n",
       "    </tr>\n",
       "    <tr>\n",
       "      <th>2</th>\n",
       "      <td>-1.122041</td>\n",
       "      <td>-0.952072</td>\n",
       "      <td>0.543076</td>\n",
       "      <td>-1.319215</td>\n",
       "      <td>-0.718238</td>\n",
       "      <td>0.024033</td>\n",
       "      <td>0.398842</td>\n",
       "      <td>-0.548935</td>\n",
       "      <td>0</td>\n",
       "    </tr>\n",
       "    <tr>\n",
       "      <th>3</th>\n",
       "      <td>2.384083</td>\n",
       "      <td>0.594922</td>\n",
       "      <td>0.648364</td>\n",
       "      <td>1.365830</td>\n",
       "      <td>2.054583</td>\n",
       "      <td>0.879002</td>\n",
       "      <td>0.179030</td>\n",
       "      <td>2.035925</td>\n",
       "      <td>1</td>\n",
       "    </tr>\n",
       "    <tr>\n",
       "      <th>4</th>\n",
       "      <td>1.507552</td>\n",
       "      <td>0.752778</td>\n",
       "      <td>0.543076</td>\n",
       "      <td>1.553159</td>\n",
       "      <td>0.390891</td>\n",
       "      <td>0.715552</td>\n",
       "      <td>0.507242</td>\n",
       "      <td>0.535038</td>\n",
       "      <td>1</td>\n",
       "    </tr>\n",
       "  </tbody>\n",
       "</table>\n",
       "</div>"
      ],
      "text/plain": [
       "   Pregnancies   Glucose  BloodPressure  SkinThickness   Insulin       BMI  \\\n",
       "0     1.507552 -1.015215      -0.404519      -1.319215 -0.718238 -1.220701   \n",
       "1    -0.829864 -0.099647      -0.615096       0.928730  0.083747  0.137191   \n",
       "2    -1.122041 -0.952072       0.543076      -1.319215 -0.718238  0.024033   \n",
       "3     2.384083  0.594922       0.648364       1.365830  2.054583  0.879002   \n",
       "4     1.507552  0.752778       0.543076       1.553159  0.390891  0.715552   \n",
       "\n",
       "   DiabetesPedigreeFunction       Age  Outcome  \n",
       "0                 -0.983259 -0.048640        0  \n",
       "1                 -0.624936 -0.882466        0  \n",
       "2                  0.398842 -0.548935        0  \n",
       "3                  0.179030  2.035925        1  \n",
       "4                  0.507242  0.535038        1  "
      ]
     },
     "execution_count": 25,
     "metadata": {},
     "output_type": "execute_result"
    }
   ],
   "source": [
    "# oversampling / undersampling is only to be done on the TRAINING set\n",
    "# our test set still must reflect reality!\n",
    "train = pd.concat([X_train_scaled, y_train],axis=1)\n",
    "train.head()"
   ]
  },
  {
   "cell_type": "markdown",
   "metadata": {
    "id": "XKoP_4Xn7yBu"
   },
   "source": [
    "## Oversampling"
   ]
  },
  {
   "cell_type": "code",
   "execution_count": 26,
   "metadata": {
    "id": "dy6E34fD5SDX"
   },
   "outputs": [],
   "source": [
    "# separate majority/minority classes\n",
    "no_diabetes = train[train['Outcome']==0]\n",
    "yes_diabetes = train[train['Outcome']==1]"
   ]
  },
  {
   "cell_type": "code",
   "execution_count": 27,
   "metadata": {},
   "outputs": [
    {
     "data": {
      "text/plain": [
       "(370, 9)"
      ]
     },
     "metadata": {},
     "output_type": "display_data"
    },
    {
     "data": {
      "text/plain": [
       "(206, 9)"
      ]
     },
     "metadata": {},
     "output_type": "display_data"
    }
   ],
   "source": [
    "display(no_diabetes.shape)\n",
    "display(yes_diabetes.shape)"
   ]
  },
  {
   "cell_type": "code",
   "execution_count": 28,
   "metadata": {
    "id": "gauYiWFF5VJN"
   },
   "outputs": [],
   "source": [
    "# oversample minority\n",
    "yes_diabetes_oversampled = resample(yes_diabetes, #<- sample from here\n",
    "                                    replace=True, #<- we need replacement, since we don't have enough data otherwise\n",
    "                                    n_samples = len(no_diabetes),#<- make both sets the same size\n",
    "                                    random_state=0)"
   ]
  },
  {
   "cell_type": "code",
   "execution_count": 29,
   "metadata": {
    "colab": {
     "base_uri": "https://localhost:8080/",
     "height": 51
    },
    "id": "flJ86yzu5YuG",
    "outputId": "8afbc080-ce38-41ea-9a2d-ee587cf71d44"
   },
   "outputs": [
    {
     "data": {
      "text/plain": [
       "(370, 9)"
      ]
     },
     "metadata": {},
     "output_type": "display_data"
    },
    {
     "data": {
      "text/plain": [
       "(370, 9)"
      ]
     },
     "metadata": {},
     "output_type": "display_data"
    }
   ],
   "source": [
    "# both sets are now of a reasonable size\n",
    "display(no_diabetes.shape)\n",
    "display(yes_diabetes_oversampled.shape)"
   ]
  },
  {
   "cell_type": "code",
   "execution_count": 30,
   "metadata": {
    "colab": {
     "base_uri": "https://localhost:8080/",
     "height": 204
    },
    "id": "1VOIOECx5ZX8",
    "outputId": "26b4e144-d570-4f58-8ba3-8f30b6465aa0"
   },
   "outputs": [
    {
     "data": {
      "text/html": [
       "<div>\n",
       "<style scoped>\n",
       "    .dataframe tbody tr th:only-of-type {\n",
       "        vertical-align: middle;\n",
       "    }\n",
       "\n",
       "    .dataframe tbody tr th {\n",
       "        vertical-align: top;\n",
       "    }\n",
       "\n",
       "    .dataframe thead th {\n",
       "        text-align: right;\n",
       "    }\n",
       "</style>\n",
       "<table border=\"1\" class=\"dataframe\">\n",
       "  <thead>\n",
       "    <tr style=\"text-align: right;\">\n",
       "      <th></th>\n",
       "      <th>Pregnancies</th>\n",
       "      <th>Glucose</th>\n",
       "      <th>BloodPressure</th>\n",
       "      <th>SkinThickness</th>\n",
       "      <th>Insulin</th>\n",
       "      <th>BMI</th>\n",
       "      <th>DiabetesPedigreeFunction</th>\n",
       "      <th>Age</th>\n",
       "      <th>Outcome</th>\n",
       "    </tr>\n",
       "  </thead>\n",
       "  <tbody>\n",
       "    <tr>\n",
       "      <th>531</th>\n",
       "      <td>0.631021</td>\n",
       "      <td>2.331343</td>\n",
       "      <td>0.016634</td>\n",
       "      <td>-1.319215</td>\n",
       "      <td>-0.718238</td>\n",
       "      <td>-0.164563</td>\n",
       "      <td>-0.423192</td>\n",
       "      <td>-0.215405</td>\n",
       "      <td>1</td>\n",
       "    </tr>\n",
       "    <tr>\n",
       "      <th>546</th>\n",
       "      <td>-1.122041</td>\n",
       "      <td>-0.541645</td>\n",
       "      <td>-0.299231</td>\n",
       "      <td>0.991173</td>\n",
       "      <td>-0.172205</td>\n",
       "      <td>0.174910</td>\n",
       "      <td>0.124830</td>\n",
       "      <td>-0.965849</td>\n",
       "      <td>1</td>\n",
       "    </tr>\n",
       "    <tr>\n",
       "      <th>152</th>\n",
       "      <td>-0.829864</td>\n",
       "      <td>0.721207</td>\n",
       "      <td>0.648364</td>\n",
       "      <td>1.553159</td>\n",
       "      <td>0.817478</td>\n",
       "      <td>1.746544</td>\n",
       "      <td>-0.402114</td>\n",
       "      <td>1.035334</td>\n",
       "      <td>1</td>\n",
       "    </tr>\n",
       "    <tr>\n",
       "      <th>369</th>\n",
       "      <td>-0.829864</td>\n",
       "      <td>-0.825787</td>\n",
       "      <td>0.648364</td>\n",
       "      <td>0.241858</td>\n",
       "      <td>0.817478</td>\n",
       "      <td>0.350933</td>\n",
       "      <td>-0.709248</td>\n",
       "      <td>0.785186</td>\n",
       "      <td>1</td>\n",
       "    </tr>\n",
       "    <tr>\n",
       "      <th>505</th>\n",
       "      <td>-0.245510</td>\n",
       "      <td>1.668346</td>\n",
       "      <td>-0.615096</td>\n",
       "      <td>0.054529</td>\n",
       "      <td>0.936923</td>\n",
       "      <td>0.086898</td>\n",
       "      <td>0.374753</td>\n",
       "      <td>0.201508</td>\n",
       "      <td>1</td>\n",
       "    </tr>\n",
       "  </tbody>\n",
       "</table>\n",
       "</div>"
      ],
      "text/plain": [
       "     Pregnancies   Glucose  BloodPressure  SkinThickness   Insulin       BMI  \\\n",
       "531     0.631021  2.331343       0.016634      -1.319215 -0.718238 -0.164563   \n",
       "546    -1.122041 -0.541645      -0.299231       0.991173 -0.172205  0.174910   \n",
       "152    -0.829864  0.721207       0.648364       1.553159  0.817478  1.746544   \n",
       "369    -0.829864 -0.825787       0.648364       0.241858  0.817478  0.350933   \n",
       "505    -0.245510  1.668346      -0.615096       0.054529  0.936923  0.086898   \n",
       "\n",
       "     DiabetesPedigreeFunction       Age  Outcome  \n",
       "531                 -0.423192 -0.215405        1  \n",
       "546                  0.124830 -0.965849        1  \n",
       "152                 -0.402114  1.035334        1  \n",
       "369                 -0.709248  0.785186        1  \n",
       "505                  0.374753  0.201508        1  "
      ]
     },
     "execution_count": 30,
     "metadata": {},
     "output_type": "execute_result"
    }
   ],
   "source": [
    "train_oversampled = pd.concat([no_diabetes,yes_diabetes_oversampled],axis=0)\n",
    "train_oversampled.tail()"
   ]
  },
  {
   "cell_type": "code",
   "execution_count": 31,
   "metadata": {
    "id": "0e8ZfPsj5cms"
   },
   "outputs": [],
   "source": [
    "y_train_over = train_oversampled['Outcome'].copy()\n",
    "X_train_over = train_oversampled.drop('Outcome',axis = 1).copy()"
   ]
  },
  {
   "cell_type": "code",
   "execution_count": 32,
   "metadata": {
    "colab": {
     "base_uri": "https://localhost:8080/"
    },
    "id": "H5oJqoMV5dIl",
    "outputId": "5e0bf162-f11b-4ed3-eddc-a67898d2821e"
   },
   "outputs": [
    {
     "name": "stdout",
     "output_type": "stream",
     "text": [
      "precision:  0.6388888888888888\n",
      "recall:  0.7419354838709677\n",
      "f1:  0.6865671641791045\n"
     ]
    }
   ],
   "source": [
    "# Our Logistic Regression, while still not amazing, has improved substantially!\n",
    "# especially at detecting instances of diabetes\n",
    "LR = LogisticRegression(max_iter=1000)\n",
    "LR.fit(X_train_over, y_train_over)\n",
    "pred = LR.predict(X_test_scaled)\n",
    "\n",
    "print(\"precision: \",precision_score(y_test,pred))\n",
    "print(\"recall: \",recall_score(y_test,pred))\n",
    "print(\"f1: \",f1_score(y_test,pred))"
   ]
  },
  {
   "cell_type": "code",
   "execution_count": 33,
   "metadata": {
    "colab": {
     "base_uri": "https://localhost:8080/"
    },
    "id": "uclc5Jk05erW",
    "outputId": "ff21980f-a1ba-456a-d84d-b71239c75e04"
   },
   "outputs": [
    {
     "data": {
      "text/plain": [
       "array([[104,  26],\n",
       "       [ 16,  46]], dtype=int64)"
      ]
     },
     "execution_count": 33,
     "metadata": {},
     "output_type": "execute_result"
    }
   ],
   "source": [
    "confusion_matrix(y_test,pred)"
   ]
  },
  {
   "cell_type": "markdown",
   "metadata": {
    "id": "ws6jTLOU5yN9"
   },
   "source": [
    "## Undersampling"
   ]
  },
  {
   "cell_type": "code",
   "execution_count": 34,
   "metadata": {
    "id": "PiKDO31U5sRx"
   },
   "outputs": [],
   "source": [
    "# undersample majority\n",
    "no_diabetes_undersampled = resample(no_diabetes, #<- downsample from here\n",
    "                                    replace=False, #<- no need to reuse data now, we have an abundance\n",
    "                                    n_samples = len(yes_diabetes),\n",
    "                                    random_state=0)"
   ]
  },
  {
   "cell_type": "code",
   "execution_count": 35,
   "metadata": {
    "colab": {
     "base_uri": "https://localhost:8080/",
     "height": 51
    },
    "id": "eWrdzhc1DBI2",
    "outputId": "ee5b3f91-013b-42af-99db-1788b05655ca"
   },
   "outputs": [
    {
     "data": {
      "text/plain": [
       "(206, 9)"
      ]
     },
     "metadata": {},
     "output_type": "display_data"
    },
    {
     "data": {
      "text/plain": [
       "(206, 9)"
      ]
     },
     "metadata": {},
     "output_type": "display_data"
    }
   ],
   "source": [
    "# both sets are the same size\n",
    "# small, but balanced, and no repeated data\n",
    "display(yes_diabetes.shape)\n",
    "display(no_diabetes_undersampled.shape)"
   ]
  },
  {
   "cell_type": "code",
   "execution_count": 36,
   "metadata": {
    "colab": {
     "base_uri": "https://localhost:8080/",
     "height": 204
    },
    "id": "jNAshNet50_F",
    "outputId": "e5f39bd1-1ec0-448e-fcb3-87ee4774c327"
   },
   "outputs": [
    {
     "data": {
      "text/html": [
       "<div>\n",
       "<style scoped>\n",
       "    .dataframe tbody tr th:only-of-type {\n",
       "        vertical-align: middle;\n",
       "    }\n",
       "\n",
       "    .dataframe tbody tr th {\n",
       "        vertical-align: top;\n",
       "    }\n",
       "\n",
       "    .dataframe thead th {\n",
       "        text-align: right;\n",
       "    }\n",
       "</style>\n",
       "<table border=\"1\" class=\"dataframe\">\n",
       "  <thead>\n",
       "    <tr style=\"text-align: right;\">\n",
       "      <th></th>\n",
       "      <th>Pregnancies</th>\n",
       "      <th>Glucose</th>\n",
       "      <th>BloodPressure</th>\n",
       "      <th>SkinThickness</th>\n",
       "      <th>Insulin</th>\n",
       "      <th>BMI</th>\n",
       "      <th>DiabetesPedigreeFunction</th>\n",
       "      <th>Age</th>\n",
       "      <th>Outcome</th>\n",
       "    </tr>\n",
       "  </thead>\n",
       "  <tbody>\n",
       "    <tr>\n",
       "      <th>3</th>\n",
       "      <td>2.384083</td>\n",
       "      <td>0.594922</td>\n",
       "      <td>0.648364</td>\n",
       "      <td>1.365830</td>\n",
       "      <td>2.054583</td>\n",
       "      <td>0.879002</td>\n",
       "      <td>0.179030</td>\n",
       "      <td>2.035925</td>\n",
       "      <td>1</td>\n",
       "    </tr>\n",
       "    <tr>\n",
       "      <th>4</th>\n",
       "      <td>1.507552</td>\n",
       "      <td>0.752778</td>\n",
       "      <td>0.543076</td>\n",
       "      <td>1.553159</td>\n",
       "      <td>0.390891</td>\n",
       "      <td>0.715552</td>\n",
       "      <td>0.507242</td>\n",
       "      <td>0.535038</td>\n",
       "      <td>1</td>\n",
       "    </tr>\n",
       "    <tr>\n",
       "      <th>12</th>\n",
       "      <td>-0.829864</td>\n",
       "      <td>-0.257503</td>\n",
       "      <td>-0.299231</td>\n",
       "      <td>0.866287</td>\n",
       "      <td>-0.718238</td>\n",
       "      <td>0.174910</td>\n",
       "      <td>0.224197</td>\n",
       "      <td>-1.049231</td>\n",
       "      <td>1</td>\n",
       "    </tr>\n",
       "    <tr>\n",
       "      <th>16</th>\n",
       "      <td>-0.537687</td>\n",
       "      <td>1.068491</td>\n",
       "      <td>0.227211</td>\n",
       "      <td>-0.257685</td>\n",
       "      <td>0.100811</td>\n",
       "      <td>-0.705205</td>\n",
       "      <td>-0.107025</td>\n",
       "      <td>-0.548935</td>\n",
       "      <td>1</td>\n",
       "    </tr>\n",
       "    <tr>\n",
       "      <th>18</th>\n",
       "      <td>-1.122041</td>\n",
       "      <td>-0.825787</td>\n",
       "      <td>0.806297</td>\n",
       "      <td>0.241858</td>\n",
       "      <td>-0.411094</td>\n",
       "      <td>0.652686</td>\n",
       "      <td>-0.667092</td>\n",
       "      <td>-0.799083</td>\n",
       "      <td>1</td>\n",
       "    </tr>\n",
       "  </tbody>\n",
       "</table>\n",
       "</div>"
      ],
      "text/plain": [
       "    Pregnancies   Glucose  BloodPressure  SkinThickness   Insulin       BMI  \\\n",
       "3      2.384083  0.594922       0.648364       1.365830  2.054583  0.879002   \n",
       "4      1.507552  0.752778       0.543076       1.553159  0.390891  0.715552   \n",
       "12    -0.829864 -0.257503      -0.299231       0.866287 -0.718238  0.174910   \n",
       "16    -0.537687  1.068491       0.227211      -0.257685  0.100811 -0.705205   \n",
       "18    -1.122041 -0.825787       0.806297       0.241858 -0.411094  0.652686   \n",
       "\n",
       "    DiabetesPedigreeFunction       Age  Outcome  \n",
       "3                   0.179030  2.035925        1  \n",
       "4                   0.507242  0.535038        1  \n",
       "12                  0.224197 -1.049231        1  \n",
       "16                 -0.107025 -0.548935        1  \n",
       "18                 -0.667092 -0.799083        1  "
      ]
     },
     "execution_count": 36,
     "metadata": {},
     "output_type": "execute_result"
    }
   ],
   "source": [
    "train_undersampled = pd.concat([yes_diabetes,no_diabetes_undersampled])\n",
    "train_undersampled.head()"
   ]
  },
  {
   "cell_type": "code",
   "execution_count": 37,
   "metadata": {
    "id": "abiZ3rTF51sd"
   },
   "outputs": [],
   "source": [
    "y_train_under = train_undersampled['Outcome'].copy()\n",
    "X_train_under = train_undersampled.drop('Outcome',axis = 1).copy()"
   ]
  },
  {
   "cell_type": "code",
   "execution_count": 38,
   "metadata": {
    "colab": {
     "base_uri": "https://localhost:8080/"
    },
    "id": "OqczGsfc53No",
    "outputId": "e982608b-22ff-4886-b0d4-9c87d5bd31e7"
   },
   "outputs": [
    {
     "name": "stdout",
     "output_type": "stream",
     "text": [
      "precision:  0.6438356164383562\n",
      "recall:  0.7580645161290323\n",
      "f1:  0.6962962962962962\n"
     ]
    }
   ],
   "source": [
    "# Still a slight improvement!\n",
    "from sklearn.linear_model import LogisticRegression\n",
    "\n",
    "LR = LogisticRegression(max_iter=1000)\n",
    "LR.fit(X_train_under, y_train_under)\n",
    "pred = LR.predict(X_test_scaled)\n",
    "\n",
    "print(\"precision: \",precision_score(y_test,pred))\n",
    "print(\"recall: \",recall_score(y_test,pred))\n",
    "print(\"f1: \",f1_score(y_test,pred))"
   ]
  },
  {
   "cell_type": "code",
   "execution_count": 39,
   "metadata": {
    "colab": {
     "base_uri": "https://localhost:8080/"
    },
    "id": "LiX5zDda55Y2",
    "outputId": "13bc8cfa-2a26-4106-d20c-d2b2512c5129"
   },
   "outputs": [
    {
     "data": {
      "text/plain": [
       "array([[104,  26],\n",
       "       [ 15,  47]], dtype=int64)"
      ]
     },
     "execution_count": 39,
     "metadata": {},
     "output_type": "execute_result"
    }
   ],
   "source": [
    "confusion_matrix(y_test,pred)"
   ]
  },
  {
   "cell_type": "markdown",
   "metadata": {
    "id": "GalHx4FP6DBv"
   },
   "source": [
    "# SMOTE"
   ]
  },
  {
   "cell_type": "code",
   "execution_count": 40,
   "metadata": {
    "colab": {
     "base_uri": "https://localhost:8080/"
    },
    "executionInfo": {
     "elapsed": 2241,
     "status": "ok",
     "timestamp": 1617966228498,
     "user": {
      "displayName": "David Henriques",
      "photoUrl": "",
      "userId": "14332050621134291491"
     },
     "user_tz": -60
    },
    "id": "insSvyeh5_cN",
    "outputId": "5685bef3-622b-4597-bce7-2be97f94c3e6"
   },
   "outputs": [],
   "source": [
    "from imblearn.over_sampling import SMOTE"
   ]
  },
  {
   "cell_type": "code",
   "execution_count": 41,
   "metadata": {
    "colab": {
     "base_uri": "https://localhost:8080/"
    },
    "id": "BHeF2AAU6HSU",
    "outputId": "fcd041d9-01de-4522-ceba-9d31998a67c0"
   },
   "outputs": [],
   "source": [
    "# a bit of magic, you can find documentation here: https://imbalanced-learn.readthedocs.io/en/stable/generated/imblearn.over_sampling.SMOTE.html\n",
    "# by deafult, takes a 5-neighbour KNN to build a new point, experimenting led us to choose 3 here\n",
    "sm = SMOTE(random_state=100,k_neighbors=3)\n",
    "X_train_SMOTE,y_train_SMOTE = sm.fit_resample(X_train_scaled,y_train)"
   ]
  },
  {
   "cell_type": "code",
   "execution_count": 42,
   "metadata": {},
   "outputs": [
    {
     "data": {
      "text/plain": [
       "(740, 8)"
      ]
     },
     "execution_count": 42,
     "metadata": {},
     "output_type": "execute_result"
    }
   ],
   "source": [
    "X_train_SMOTE.shape"
   ]
  },
  {
   "cell_type": "code",
   "execution_count": 43,
   "metadata": {
    "colab": {
     "base_uri": "https://localhost:8080/"
    },
    "id": "S2RUBJ9o6JXX",
    "outputId": "ed95c5e4-4f4c-4905-a69f-6f2a58a8a275"
   },
   "outputs": [
    {
     "name": "stdout",
     "output_type": "stream",
     "text": [
      "precision:  0.6486486486486487\n",
      "recall:  0.7741935483870968\n",
      "f1:  0.7058823529411764\n"
     ]
    }
   ],
   "source": [
    "# yet another small improvement, but bear in mind that we saved 12 hypothetical people with\n",
    "# these \"small improvements\"\n",
    "from sklearn.linear_model import LogisticRegression\n",
    "\n",
    "LR = LogisticRegression(max_iter=1000)\n",
    "LR.fit(X_train_SMOTE, y_train_SMOTE)\n",
    "pred = LR.predict(X_test_scaled)\n",
    "\n",
    "print(\"precision: \",precision_score(y_test,pred))\n",
    "print(\"recall: \",recall_score(y_test,pred))\n",
    "print(\"f1: \",f1_score(y_test,pred))"
   ]
  },
  {
   "cell_type": "code",
   "execution_count": null,
   "metadata": {},
   "outputs": [],
   "source": []
  },
  {
   "cell_type": "code",
   "execution_count": 44,
   "metadata": {
    "colab": {
     "base_uri": "https://localhost:8080/"
    },
    "id": "t7Kk5BFx6MmN",
    "outputId": "e8ec069d-c4ca-447e-8610-0f2eac88f324"
   },
   "outputs": [
    {
     "data": {
      "text/plain": [
       "array([[104,  26],\n",
       "       [ 14,  48]], dtype=int64)"
      ]
     },
     "execution_count": 44,
     "metadata": {},
     "output_type": "execute_result"
    }
   ],
   "source": [
    "confusion_matrix(y_test,pred)"
   ]
  },
  {
   "cell_type": "code",
   "execution_count": null,
   "metadata": {
    "id": "zEgYTwWtj0UF"
   },
   "outputs": [],
   "source": []
  }
 ],
 "metadata": {
  "colab": {
   "collapsed_sections": [],
   "name": "L.3.09.ipynb",
   "provenance": []
  },
  "kernelspec": {
   "display_name": "Python 3",
   "language": "python",
   "name": "python3"
  },
  "language_info": {
   "codemirror_mode": {
    "name": "ipython",
    "version": 3
   },
   "file_extension": ".py",
   "mimetype": "text/x-python",
   "name": "python",
   "nbconvert_exporter": "python",
   "pygments_lexer": "ipython3",
   "version": "3.8.8"
  }
 },
 "nbformat": 4,
 "nbformat_minor": 4
}
