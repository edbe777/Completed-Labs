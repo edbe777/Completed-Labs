{
 "cells": [
  {
   "cell_type": "code",
   "execution_count": 1,
   "id": "766c1050-1f6b-4c3b-8224-eabc51caac69",
   "metadata": {},
   "outputs": [],
   "source": [
    "import spotipy\n",
    "from spotipy.oauth2 import SpotifyClientCredentials\n",
    "\n",
    "import pandas as pd\n",
    "import numpy as np\n",
    "import matplotlib.pyplot as plt\n",
    "import random\n",
    "from sklearn import cluster\n",
    "from sklearn.preprocessing import StandardScaler\n",
    "from sklearn.cluster import KMeans\n",
    "from sklearn import cluster, datasets\n",
    "from matplotlib.lines import Line2D\n",
    "\n"
   ]
  },
  {
   "cell_type": "code",
   "execution_count": 2,
   "id": "dd22e2c9-8b38-43dd-898b-ec023bb59f06",
   "metadata": {},
   "outputs": [],
   "source": [
    "confidential = open(\"spotify_eddie_confidential.txt\",\"r\")"
   ]
  },
  {
   "cell_type": "code",
   "execution_count": 3,
   "id": "4c5aafa3-aff4-426a-b956-5f843120fcdd",
   "metadata": {},
   "outputs": [],
   "source": [
    "string = confidential.read()"
   ]
  },
  {
   "cell_type": "code",
   "execution_count": 4,
   "id": "35a6bd9f-990f-46d3-8d0a-6cc742d09270",
   "metadata": {},
   "outputs": [],
   "source": [
    "st = string.split('\\n')"
   ]
  },
  {
   "cell_type": "code",
   "execution_count": 5,
   "id": "19f8b11a-b427-42a7-82d7-f648fbd45453",
   "metadata": {},
   "outputs": [],
   "source": [
    "secrets_dict={}\n",
    "for line in string.split('\\n'):\n",
    "    if len(line) > 0:\n",
    "        secrets_dict[line.split(':')[0]]=line.split(':')[1]"
   ]
  },
  {
   "cell_type": "code",
   "execution_count": 6,
   "id": "5d7d3284-f3b0-411a-9c62-63cc3a9af71f",
   "metadata": {},
   "outputs": [],
   "source": [
    "import spotipy\n",
    "from spotipy.oauth2 import SpotifyClientCredentials\n",
    "\n",
    "#Initialize SpotiPy with user credentials\n",
    "sp = spotipy.Spotify(auth_manager=SpotifyClientCredentials(client_id=secrets_dict['cid'],\n",
    "                                                           client_secret=secrets_dict['csecret']))"
   ]
  },
  {
   "cell_type": "code",
   "execution_count": 7,
   "id": "47598055-bd5c-466d-b925-e2a51987ddf8",
   "metadata": {},
   "outputs": [],
   "source": [
    "df = sp.user_playlist_tracks(\"spotify\", \"0BUNSGihi2mrhQu3fPcVim\")"
   ]
  },
  {
   "cell_type": "code",
   "execution_count": 145,
   "id": "3b8b760f-72bd-4599-b271-f319296d7170",
   "metadata": {},
   "outputs": [],
   "source": [
    "# ''' What we need:\n",
    "#  1) Get Playlist [x]\n",
    "#  2) Get artist name from each song of the playlist\n",
    "#  3) Get all albums from each of the artists                       #to do list credit to lord SEVEREIN\n",
    "#  4) Get all songs from each of the albums\n",
    "#  5) Get URI's for all the songs'''"
   ]
  },
  {
   "cell_type": "code",
   "execution_count": 9,
   "id": "71aba0b1-f0e3-476b-941d-76106989d761",
   "metadata": {},
   "outputs": [
    {
     "data": {
      "text/plain": [
       "'1SJ4ycWow4yz6z4oFz8NAG'"
      ]
     },
     "execution_count": 9,
     "metadata": {},
     "output_type": "execute_result"
    }
   ],
   "source": [
    "df['items'][0]['track']['id']"
   ]
  },
  {
   "cell_type": "code",
   "execution_count": 144,
   "id": "a4ba5558-032f-4a47-a3d9-550ba3537d27",
   "metadata": {
    "tags": []
   },
   "outputs": [],
   "source": [
    "# for x in df['items']:\n",
    "#     print(x['track']['id']) "
   ]
  },
  {
   "cell_type": "code",
   "execution_count": 11,
   "id": "8c18d4de-0a81-4804-884b-6ea38a727355",
   "metadata": {},
   "outputs": [],
   "source": [
    "all_id = []\n",
    "for x in df['items']:\n",
    "    all_id.append(x['track']['id'])    #all 813 id's"
   ]
  },
  {
   "cell_type": "code",
   "execution_count": 12,
   "id": "9d8a7709-c8f9-49c8-918a-04c215c5d090",
   "metadata": {
    "tags": []
   },
   "outputs": [],
   "source": [
    "# all audio features\n",
    "#sp.audio_features(tracks=all_id)              #ignore this, as I have done it in a different way further down"
   ]
  },
  {
   "cell_type": "code",
   "execution_count": 13,
   "id": "a515ad9c-8739-4bbb-b322-0fdcdbf40e81",
   "metadata": {},
   "outputs": [],
   "source": [
    "#all_audio_features = pd.DataFrame(sp.audio_features(tracks=all_id))"
   ]
  },
  {
   "cell_type": "code",
   "execution_count": 15,
   "id": "25a1fb4a-c03a-4102-a6cc-422d85b04a78",
   "metadata": {},
   "outputs": [],
   "source": [
    "#all_audio_features.head()"
   ]
  },
  {
   "cell_type": "code",
   "execution_count": 16,
   "id": "eb934c6f-fbfe-4fd6-97ba-19290b8f512b",
   "metadata": {},
   "outputs": [],
   "source": [
    "#all_audio_features.dtypes"
   ]
  },
  {
   "cell_type": "code",
   "execution_count": 17,
   "id": "d42200c1-c6e3-40f2-9f00-45d301ae4cf7",
   "metadata": {},
   "outputs": [],
   "source": [
    "#all_audio_features.columns"
   ]
  },
  {
   "cell_type": "code",
   "execution_count": 18,
   "id": "27e7842b-c309-4f10-b6b9-cc74786f33de",
   "metadata": {},
   "outputs": [],
   "source": [
    "#sp.categories(limit=3)"
   ]
  },
  {
   "cell_type": "code",
   "execution_count": 19,
   "id": "332fda58-196d-41a9-8bc1-0cde4c5090c0",
   "metadata": {},
   "outputs": [
    {
     "data": {
      "text/plain": [
       "813"
      ]
     },
     "execution_count": 19,
     "metadata": {},
     "output_type": "execute_result"
    }
   ],
   "source": [
    "df['total']"
   ]
  },
  {
   "cell_type": "code",
   "execution_count": 20,
   "id": "9436358e-c8af-4296-a7a9-17922fd53fa2",
   "metadata": {},
   "outputs": [
    {
     "data": {
      "text/plain": [
       "100"
      ]
     },
     "execution_count": 20,
     "metadata": {},
     "output_type": "execute_result"
    }
   ],
   "source": [
    "len(df['items'])"
   ]
  },
  {
   "cell_type": "code",
   "execution_count": 21,
   "id": "d6fcff5e-e77d-4098-8263-19a6b8d10941",
   "metadata": {},
   "outputs": [
    {
     "data": {
      "text/plain": [
       "dict_keys(['href', 'items', 'limit', 'next', 'offset', 'previous', 'total'])"
      ]
     },
     "execution_count": 21,
     "metadata": {},
     "output_type": "execute_result"
    }
   ],
   "source": [
    "df.keys()"
   ]
  },
  {
   "cell_type": "code",
   "execution_count": 79,
   "id": "32512d8c-583a-481b-9cda-625b8a875bbd",
   "metadata": {},
   "outputs": [],
   "source": [
    "from random import randint\n",
    "from time import sleep\n",
    "\n",
    "def get_playlist_tracks(playlist_id):\n",
    "    results = sp.user_playlist_tracks(\"spotify\",playlist_id)\n",
    "    tracks = results['items']\n",
    "    while results['next']!=None:\n",
    "        results = sp.next(results)\n",
    "        tracks = tracks + results['items']\n",
    "        sleep(randint(1,3))\n",
    "    return tracks"
   ]
  },
  {
   "cell_type": "code",
   "execution_count": 81,
   "id": "1f136a07-d80b-462a-b0ff-c4fa52830b37",
   "metadata": {},
   "outputs": [
    {
     "data": {
      "text/plain": [
       "813"
      ]
     },
     "execution_count": 81,
     "metadata": {},
     "output_type": "execute_result"
    }
   ],
   "source": [
    "all_tracks = get_playlist_tracks(\"0BUNSGihi2mrhQu3fPcVim\")  #get playlist tracks\n",
    "len(all_tracks)"
   ]
  },
  {
   "cell_type": "code",
   "execution_count": 118,
   "id": "13786314-6849-4b76-b1c9-b7a6cf84608f",
   "metadata": {},
   "outputs": [
    {
     "data": {
      "text/plain": [
       "'The Muppets'"
      ]
     },
     "execution_count": 118,
     "metadata": {},
     "output_type": "execute_result"
    }
   ],
   "source": [
    "all_tracks[0]['track']['artists'][0]['name']   #check name, track, artists "
   ]
  },
  {
   "cell_type": "code",
   "execution_count": 25,
   "id": "e02737de-1153-4af2-b5c3-f795fe7e63b1",
   "metadata": {},
   "outputs": [],
   "source": [
    "def uris(all_tracks):\n",
    "    uris = [all_tracks[i]['track']['uri'] for i in range(len(all_tracks))]   #uris\n",
    "    return uris\n",
    "all_uris = uris(all_tracks)"
   ]
  },
  {
   "cell_type": "code",
   "execution_count": 26,
   "id": "5a5e2468-f638-4240-abfb-b07bdbac35db",
   "metadata": {},
   "outputs": [
    {
     "data": {
      "text/plain": [
       "(813, 1)"
      ]
     },
     "execution_count": 26,
     "metadata": {},
     "output_type": "execute_result"
    }
   ],
   "source": [
    "df_all_uris = pd.DataFrame(all_uris, columns=['uri'])      #uris data frame\n",
    "df_all_uris.shape"
   ]
  },
  {
   "cell_type": "code",
   "execution_count": 167,
   "id": "24e2111b-729e-4ea2-84a3-01080bd671eb",
   "metadata": {},
   "outputs": [
    {
     "data": {
      "text/html": [
       "<div>\n",
       "<style scoped>\n",
       "    .dataframe tbody tr th:only-of-type {\n",
       "        vertical-align: middle;\n",
       "    }\n",
       "\n",
       "    .dataframe tbody tr th {\n",
       "        vertical-align: top;\n",
       "    }\n",
       "\n",
       "    .dataframe thead th {\n",
       "        text-align: right;\n",
       "    }\n",
       "</style>\n",
       "<table border=\"1\" class=\"dataframe\">\n",
       "  <thead>\n",
       "    <tr style=\"text-align: right;\">\n",
       "      <th></th>\n",
       "      <th>uri</th>\n",
       "    </tr>\n",
       "  </thead>\n",
       "  <tbody>\n",
       "    <tr>\n",
       "      <th>0</th>\n",
       "      <td>spotify:track:1SJ4ycWow4yz6z4oFz8NAG</td>\n",
       "    </tr>\n",
       "    <tr>\n",
       "      <th>1</th>\n",
       "      <td>spotify:track:25U7raB3ZSszayTYClh4hF</td>\n",
       "    </tr>\n",
       "    <tr>\n",
       "      <th>2</th>\n",
       "      <td>spotify:track:04cdEVbQPb8BJb7593e5fO</td>\n",
       "    </tr>\n",
       "    <tr>\n",
       "      <th>3</th>\n",
       "      <td>spotify:track:5HSkycOEtb9iQ7cg1Oyqmu</td>\n",
       "    </tr>\n",
       "    <tr>\n",
       "      <th>4</th>\n",
       "      <td>spotify:track:2pp3RfqX5cb1BAnmNi4Nej</td>\n",
       "    </tr>\n",
       "    <tr>\n",
       "      <th>...</th>\n",
       "      <td>...</td>\n",
       "    </tr>\n",
       "    <tr>\n",
       "      <th>808</th>\n",
       "      <td>spotify:track:6zSpb8dQRaw0M1dK8PBwQz</td>\n",
       "    </tr>\n",
       "    <tr>\n",
       "      <th>809</th>\n",
       "      <td>spotify:track:1A2rlbdSXZWyPXkEm3AXK5</td>\n",
       "    </tr>\n",
       "    <tr>\n",
       "      <th>810</th>\n",
       "      <td>spotify:track:6B89ADIwxCw60PHZN6Kdp4</td>\n",
       "    </tr>\n",
       "    <tr>\n",
       "      <th>811</th>\n",
       "      <td>spotify:track:7nXXIXFSyDDPlfzCW9bdAa</td>\n",
       "    </tr>\n",
       "    <tr>\n",
       "      <th>812</th>\n",
       "      <td>spotify:track:536L9C0N7vhYdibCJx3cI2</td>\n",
       "    </tr>\n",
       "  </tbody>\n",
       "</table>\n",
       "<p>813 rows × 1 columns</p>\n",
       "</div>"
      ],
      "text/plain": [
       "                                      uri\n",
       "0    spotify:track:1SJ4ycWow4yz6z4oFz8NAG\n",
       "1    spotify:track:25U7raB3ZSszayTYClh4hF\n",
       "2    spotify:track:04cdEVbQPb8BJb7593e5fO\n",
       "3    spotify:track:5HSkycOEtb9iQ7cg1Oyqmu\n",
       "4    spotify:track:2pp3RfqX5cb1BAnmNi4Nej\n",
       "..                                    ...\n",
       "808  spotify:track:6zSpb8dQRaw0M1dK8PBwQz\n",
       "809  spotify:track:1A2rlbdSXZWyPXkEm3AXK5\n",
       "810  spotify:track:6B89ADIwxCw60PHZN6Kdp4\n",
       "811  spotify:track:7nXXIXFSyDDPlfzCW9bdAa\n",
       "812  spotify:track:536L9C0N7vhYdibCJx3cI2\n",
       "\n",
       "[813 rows x 1 columns]"
      ]
     },
     "execution_count": 167,
     "metadata": {},
     "output_type": "execute_result"
    }
   ],
   "source": [
    "df_all_uris"
   ]
  },
  {
   "cell_type": "code",
   "execution_count": 119,
   "id": "1676b19e-cc9a-4c23-9fa9-111996607d1a",
   "metadata": {},
   "outputs": [],
   "source": [
    "def all_artists(all_tracks):\n",
    "    artist = [all_tracks[i]['track']['artists'][0]['name'] for i in range(len(all_tracks))]    #artists\n",
    "    return artist  \n",
    "all_artists = all_artists(all_tracks)"
   ]
  },
  {
   "cell_type": "code",
   "execution_count": 120,
   "id": "66d666ed-b438-45dc-b629-9be3cecc9f9b",
   "metadata": {},
   "outputs": [
    {
     "data": {
      "text/plain": [
       "(813, 1)"
      ]
     },
     "execution_count": 120,
     "metadata": {},
     "output_type": "execute_result"
    }
   ],
   "source": [
    "df_all_artists = pd.DataFrame(all_artists, columns=['artist'])         #artitst data frame\n",
    "df_all_artists.shape"
   ]
  },
  {
   "cell_type": "code",
   "execution_count": 168,
   "id": "3bb37daa-a298-4918-8a15-2fe34c9666d6",
   "metadata": {},
   "outputs": [
    {
     "data": {
      "text/html": [
       "<div>\n",
       "<style scoped>\n",
       "    .dataframe tbody tr th:only-of-type {\n",
       "        vertical-align: middle;\n",
       "    }\n",
       "\n",
       "    .dataframe tbody tr th {\n",
       "        vertical-align: top;\n",
       "    }\n",
       "\n",
       "    .dataframe thead th {\n",
       "        text-align: right;\n",
       "    }\n",
       "</style>\n",
       "<table border=\"1\" class=\"dataframe\">\n",
       "  <thead>\n",
       "    <tr style=\"text-align: right;\">\n",
       "      <th></th>\n",
       "      <th>artist</th>\n",
       "    </tr>\n",
       "  </thead>\n",
       "  <tbody>\n",
       "    <tr>\n",
       "      <th>0</th>\n",
       "      <td>The Muppets</td>\n",
       "    </tr>\n",
       "    <tr>\n",
       "      <th>1</th>\n",
       "      <td>Israel Kamakawiwo'ole</td>\n",
       "    </tr>\n",
       "    <tr>\n",
       "      <th>2</th>\n",
       "      <td>Joey Ramone</td>\n",
       "    </tr>\n",
       "    <tr>\n",
       "      <th>3</th>\n",
       "      <td>Asaf Avidan &amp; the Mojos</td>\n",
       "    </tr>\n",
       "    <tr>\n",
       "      <th>4</th>\n",
       "      <td>Louis Armstrong</td>\n",
       "    </tr>\n",
       "    <tr>\n",
       "      <th>...</th>\n",
       "      <td>...</td>\n",
       "    </tr>\n",
       "    <tr>\n",
       "      <th>808</th>\n",
       "      <td>Elton John</td>\n",
       "    </tr>\n",
       "    <tr>\n",
       "      <th>809</th>\n",
       "      <td>MAVV</td>\n",
       "    </tr>\n",
       "    <tr>\n",
       "      <th>810</th>\n",
       "      <td>Garfunkel and Oates</td>\n",
       "    </tr>\n",
       "    <tr>\n",
       "      <th>811</th>\n",
       "      <td>Shiny Toy Guns</td>\n",
       "    </tr>\n",
       "    <tr>\n",
       "      <th>812</th>\n",
       "      <td>Gordon Lightfoot</td>\n",
       "    </tr>\n",
       "  </tbody>\n",
       "</table>\n",
       "<p>813 rows × 1 columns</p>\n",
       "</div>"
      ],
      "text/plain": [
       "                      artist\n",
       "0                The Muppets\n",
       "1      Israel Kamakawiwo'ole\n",
       "2                Joey Ramone\n",
       "3    Asaf Avidan & the Mojos\n",
       "4            Louis Armstrong\n",
       "..                       ...\n",
       "808               Elton John\n",
       "809                     MAVV\n",
       "810      Garfunkel and Oates\n",
       "811           Shiny Toy Guns\n",
       "812         Gordon Lightfoot\n",
       "\n",
       "[813 rows x 1 columns]"
      ]
     },
     "execution_count": 168,
     "metadata": {},
     "output_type": "execute_result"
    }
   ],
   "source": [
    "df_all_artists"
   ]
  },
  {
   "cell_type": "code",
   "execution_count": 86,
   "id": "bb1e7d74-8794-461f-b720-c560fccdd427",
   "metadata": {},
   "outputs": [],
   "source": [
    "def all_track_names(all_tracks):\n",
    "    names = [all_tracks[i]['track']['name'] for i in range(len(all_tracks))]      #tracks\n",
    "    return names\n",
    "all_track_names = all_track_names(all_tracks)"
   ]
  },
  {
   "cell_type": "code",
   "execution_count": 88,
   "id": "ee50dd68-7135-4a26-8ef6-e7baba6e38fb",
   "metadata": {},
   "outputs": [],
   "source": [
    "#all_track_names"
   ]
  },
  {
   "cell_type": "code",
   "execution_count": 127,
   "id": "a727561e-02fd-4ec5-891e-fe12027ed9d1",
   "metadata": {},
   "outputs": [
    {
     "data": {
      "text/plain": [
       "(813, 1)"
      ]
     },
     "execution_count": 127,
     "metadata": {},
     "output_type": "execute_result"
    }
   ],
   "source": [
    "df_all_track_names = pd.DataFrame(all_track_names, columns=['name'])          #tracks data frame\n",
    "df_all_track_names.shape"
   ]
  },
  {
   "cell_type": "code",
   "execution_count": 169,
   "id": "851d4e1c-d261-4630-abd2-adca820631b9",
   "metadata": {},
   "outputs": [
    {
     "data": {
      "text/html": [
       "<div>\n",
       "<style scoped>\n",
       "    .dataframe tbody tr th:only-of-type {\n",
       "        vertical-align: middle;\n",
       "    }\n",
       "\n",
       "    .dataframe tbody tr th {\n",
       "        vertical-align: top;\n",
       "    }\n",
       "\n",
       "    .dataframe thead th {\n",
       "        text-align: right;\n",
       "    }\n",
       "</style>\n",
       "<table border=\"1\" class=\"dataframe\">\n",
       "  <thead>\n",
       "    <tr style=\"text-align: right;\">\n",
       "      <th></th>\n",
       "      <th>name</th>\n",
       "    </tr>\n",
       "  </thead>\n",
       "  <tbody>\n",
       "    <tr>\n",
       "      <th>0</th>\n",
       "      <td>Rainbow Connection</td>\n",
       "    </tr>\n",
       "    <tr>\n",
       "      <th>1</th>\n",
       "      <td>Somewhere Over The Rainbow_What A Wonderful World</td>\n",
       "    </tr>\n",
       "    <tr>\n",
       "      <th>2</th>\n",
       "      <td>What a Wonderful World</td>\n",
       "    </tr>\n",
       "    <tr>\n",
       "      <th>3</th>\n",
       "      <td>One Day / Reckoning Song (Wankelmut Remix) [Ra...</td>\n",
       "    </tr>\n",
       "    <tr>\n",
       "      <th>4</th>\n",
       "      <td>What A Wonderful World - Single Version</td>\n",
       "    </tr>\n",
       "    <tr>\n",
       "      <th>...</th>\n",
       "      <td>...</td>\n",
       "    </tr>\n",
       "    <tr>\n",
       "      <th>808</th>\n",
       "      <td>Cold Heart - PNAU Remix</td>\n",
       "    </tr>\n",
       "    <tr>\n",
       "      <th>809</th>\n",
       "      <td>Everything That I Want</td>\n",
       "    </tr>\n",
       "    <tr>\n",
       "      <th>810</th>\n",
       "      <td>The Loophole</td>\n",
       "    </tr>\n",
       "    <tr>\n",
       "      <th>811</th>\n",
       "      <td>Major Tom (Coming Home) - Adam K &amp; Soha Radio ...</td>\n",
       "    </tr>\n",
       "    <tr>\n",
       "      <th>812</th>\n",
       "      <td>The Wreck of the Edmund Fitzgerald</td>\n",
       "    </tr>\n",
       "  </tbody>\n",
       "</table>\n",
       "<p>813 rows × 1 columns</p>\n",
       "</div>"
      ],
      "text/plain": [
       "                                                  name\n",
       "0                                   Rainbow Connection\n",
       "1    Somewhere Over The Rainbow_What A Wonderful World\n",
       "2                               What a Wonderful World\n",
       "3    One Day / Reckoning Song (Wankelmut Remix) [Ra...\n",
       "4              What A Wonderful World - Single Version\n",
       "..                                                 ...\n",
       "808                            Cold Heart - PNAU Remix\n",
       "809                             Everything That I Want\n",
       "810                                       The Loophole\n",
       "811  Major Tom (Coming Home) - Adam K & Soha Radio ...\n",
       "812                 The Wreck of the Edmund Fitzgerald\n",
       "\n",
       "[813 rows x 1 columns]"
      ]
     },
     "execution_count": 169,
     "metadata": {},
     "output_type": "execute_result"
    }
   ],
   "source": [
    "df_all_track_names"
   ]
  },
  {
   "cell_type": "code",
   "execution_count": 131,
   "id": "6048dbac-089c-4e3e-8b16-bb0809865dc5",
   "metadata": {},
   "outputs": [],
   "source": [
    "features = [sp.audio_features(i) for i in (all_uris)]         # WARNING this takes long\n"
   ]
  },
  {
   "cell_type": "code",
   "execution_count": 132,
   "id": "44e6d801-958a-4408-98ce-27be32b65c9b",
   "metadata": {},
   "outputs": [],
   "source": [
    "def flatten(input_list):\n",
    "    return [item for sublist in input_list for item in sublist]"
   ]
  },
  {
   "cell_type": "code",
   "execution_count": 171,
   "id": "25ca7723-2b21-4ebc-8d6b-d26785bf32c3",
   "metadata": {},
   "outputs": [
    {
     "data": {
      "text/plain": [
       "{'danceability': 0.663,\n",
       " 'energy': 0.168,\n",
       " 'key': 0,\n",
       " 'loudness': -13.725,\n",
       " 'mode': 1,\n",
       " 'speechiness': 0.0448,\n",
       " 'acousticness': 0.928,\n",
       " 'instrumentalness': 5.68e-05,\n",
       " 'liveness': 0.361,\n",
       " 'valence': 0.678,\n",
       " 'tempo': 85.005,\n",
       " 'type': 'audio_features',\n",
       " 'id': '25U7raB3ZSszayTYClh4hF',\n",
       " 'uri': 'spotify:track:25U7raB3ZSszayTYClh4hF',\n",
       " 'track_href': 'https://api.spotify.com/v1/tracks/25U7raB3ZSszayTYClh4hF',\n",
       " 'analysis_url': 'https://api.spotify.com/v1/audio-analysis/25U7raB3ZSszayTYClh4hF',\n",
       " 'duration_ms': 308027,\n",
       " 'time_signature': 4}"
      ]
     },
     "execution_count": 171,
     "metadata": {},
     "output_type": "execute_result"
    }
   ],
   "source": [
    "features_new = flatten(features) #check first one\n",
    "features_new[1]"
   ]
  },
  {
   "cell_type": "code",
   "execution_count": 134,
   "id": "5b3ace5b-a113-4cf4-80aa-2c0b680a3a9e",
   "metadata": {},
   "outputs": [],
   "source": [
    "#clean up everythang to make a final features data frame\n",
    "danceability = [features_new[i]['danceability'] for i in range(len(features_new))]\n",
    "energy = [features_new[i]['energy'] for i in range(len(features_new))]\n",
    "key = [features_new[i]['key'] for i in range(len(features_new))]\n",
    "loudness = [features_new[i]['loudness'] for i in range(len(features_new))]\n",
    "mode = [features_new[i]['mode'] for i in range(len(features_new))]\n",
    "speechiness = [features_new[i]['speechiness'] for i in range(len(features_new))]\n",
    "acousticness = [features_new[i]['acousticness'] for i in range(len(features_new))]\n",
    "instrumentalness = [features_new[i]['instrumentalness'] for i in range(len(features_new))]\n",
    "liveness = [features_new[i]['liveness'] for i in range(len(features_new))]\n",
    "valence = [features_new[i]['valence'] for i in range(len(features_new))]\n",
    "tempo = [features_new[i]['tempo'] for i in range(len(features_new))]"
   ]
  },
  {
   "cell_type": "code",
   "execution_count": 135,
   "id": "ca073296-ee65-44e6-a1e9-06db21cad31d",
   "metadata": {},
   "outputs": [
    {
     "data": {
      "text/html": [
       "<div>\n",
       "<style scoped>\n",
       "    .dataframe tbody tr th:only-of-type {\n",
       "        vertical-align: middle;\n",
       "    }\n",
       "\n",
       "    .dataframe tbody tr th {\n",
       "        vertical-align: top;\n",
       "    }\n",
       "\n",
       "    .dataframe thead th {\n",
       "        text-align: right;\n",
       "    }\n",
       "</style>\n",
       "<table border=\"1\" class=\"dataframe\">\n",
       "  <thead>\n",
       "    <tr style=\"text-align: right;\">\n",
       "      <th></th>\n",
       "      <th>danceability</th>\n",
       "      <th>energy</th>\n",
       "      <th>key</th>\n",
       "      <th>loudness</th>\n",
       "      <th>mode</th>\n",
       "      <th>speechiness</th>\n",
       "      <th>acousticness</th>\n",
       "      <th>instrumentalness</th>\n",
       "      <th>liveness</th>\n",
       "      <th>valence</th>\n",
       "      <th>tempo</th>\n",
       "    </tr>\n",
       "  </thead>\n",
       "  <tbody>\n",
       "    <tr>\n",
       "      <th>0</th>\n",
       "      <td>0.526</td>\n",
       "      <td>0.413</td>\n",
       "      <td>9</td>\n",
       "      <td>-7.674</td>\n",
       "      <td>1</td>\n",
       "      <td>0.0278</td>\n",
       "      <td>0.42800</td>\n",
       "      <td>0.000000</td>\n",
       "      <td>0.1260</td>\n",
       "      <td>0.211</td>\n",
       "      <td>115.936</td>\n",
       "    </tr>\n",
       "    <tr>\n",
       "      <th>1</th>\n",
       "      <td>0.663</td>\n",
       "      <td>0.168</td>\n",
       "      <td>0</td>\n",
       "      <td>-13.725</td>\n",
       "      <td>1</td>\n",
       "      <td>0.0448</td>\n",
       "      <td>0.92800</td>\n",
       "      <td>0.000057</td>\n",
       "      <td>0.3610</td>\n",
       "      <td>0.678</td>\n",
       "      <td>85.005</td>\n",
       "    </tr>\n",
       "    <tr>\n",
       "      <th>2</th>\n",
       "      <td>0.422</td>\n",
       "      <td>0.878</td>\n",
       "      <td>5</td>\n",
       "      <td>-4.863</td>\n",
       "      <td>1</td>\n",
       "      <td>0.0442</td>\n",
       "      <td>0.00935</td>\n",
       "      <td>0.332000</td>\n",
       "      <td>0.2010</td>\n",
       "      <td>0.496</td>\n",
       "      <td>84.044</td>\n",
       "    </tr>\n",
       "    <tr>\n",
       "      <th>3</th>\n",
       "      <td>0.821</td>\n",
       "      <td>0.676</td>\n",
       "      <td>3</td>\n",
       "      <td>-6.366</td>\n",
       "      <td>0</td>\n",
       "      <td>0.0547</td>\n",
       "      <td>0.18700</td>\n",
       "      <td>0.000100</td>\n",
       "      <td>0.0927</td>\n",
       "      <td>0.559</td>\n",
       "      <td>119.012</td>\n",
       "    </tr>\n",
       "    <tr>\n",
       "      <th>4</th>\n",
       "      <td>0.388</td>\n",
       "      <td>0.327</td>\n",
       "      <td>5</td>\n",
       "      <td>-12.522</td>\n",
       "      <td>1</td>\n",
       "      <td>0.0317</td>\n",
       "      <td>0.73200</td>\n",
       "      <td>0.001030</td>\n",
       "      <td>0.1500</td>\n",
       "      <td>0.222</td>\n",
       "      <td>107.894</td>\n",
       "    </tr>\n",
       "    <tr>\n",
       "      <th>...</th>\n",
       "      <td>...</td>\n",
       "      <td>...</td>\n",
       "      <td>...</td>\n",
       "      <td>...</td>\n",
       "      <td>...</td>\n",
       "      <td>...</td>\n",
       "      <td>...</td>\n",
       "      <td>...</td>\n",
       "      <td>...</td>\n",
       "      <td>...</td>\n",
       "      <td>...</td>\n",
       "    </tr>\n",
       "    <tr>\n",
       "      <th>808</th>\n",
       "      <td>0.796</td>\n",
       "      <td>0.798</td>\n",
       "      <td>1</td>\n",
       "      <td>-6.312</td>\n",
       "      <td>1</td>\n",
       "      <td>0.0317</td>\n",
       "      <td>0.03400</td>\n",
       "      <td>0.000042</td>\n",
       "      <td>0.0952</td>\n",
       "      <td>0.942</td>\n",
       "      <td>116.032</td>\n",
       "    </tr>\n",
       "    <tr>\n",
       "      <th>809</th>\n",
       "      <td>0.635</td>\n",
       "      <td>0.516</td>\n",
       "      <td>3</td>\n",
       "      <td>-8.677</td>\n",
       "      <td>1</td>\n",
       "      <td>0.0341</td>\n",
       "      <td>0.12500</td>\n",
       "      <td>0.000000</td>\n",
       "      <td>0.1200</td>\n",
       "      <td>0.127</td>\n",
       "      <td>114.074</td>\n",
       "    </tr>\n",
       "    <tr>\n",
       "      <th>810</th>\n",
       "      <td>0.569</td>\n",
       "      <td>0.367</td>\n",
       "      <td>5</td>\n",
       "      <td>-5.178</td>\n",
       "      <td>1</td>\n",
       "      <td>0.0878</td>\n",
       "      <td>0.86200</td>\n",
       "      <td>0.000155</td>\n",
       "      <td>0.3370</td>\n",
       "      <td>0.823</td>\n",
       "      <td>169.768</td>\n",
       "    </tr>\n",
       "    <tr>\n",
       "      <th>811</th>\n",
       "      <td>0.732</td>\n",
       "      <td>0.764</td>\n",
       "      <td>10</td>\n",
       "      <td>-6.503</td>\n",
       "      <td>0</td>\n",
       "      <td>0.0631</td>\n",
       "      <td>0.16200</td>\n",
       "      <td>0.346000</td>\n",
       "      <td>0.3220</td>\n",
       "      <td>0.685</td>\n",
       "      <td>132.019</td>\n",
       "    </tr>\n",
       "    <tr>\n",
       "      <th>812</th>\n",
       "      <td>0.308</td>\n",
       "      <td>0.376</td>\n",
       "      <td>4</td>\n",
       "      <td>-15.240</td>\n",
       "      <td>1</td>\n",
       "      <td>0.0626</td>\n",
       "      <td>0.11600</td>\n",
       "      <td>0.000003</td>\n",
       "      <td>0.1660</td>\n",
       "      <td>0.158</td>\n",
       "      <td>186.047</td>\n",
       "    </tr>\n",
       "  </tbody>\n",
       "</table>\n",
       "<p>813 rows × 11 columns</p>\n",
       "</div>"
      ],
      "text/plain": [
       "     danceability  energy  key  loudness  mode  speechiness  acousticness  \\\n",
       "0           0.526   0.413    9    -7.674     1       0.0278       0.42800   \n",
       "1           0.663   0.168    0   -13.725     1       0.0448       0.92800   \n",
       "2           0.422   0.878    5    -4.863     1       0.0442       0.00935   \n",
       "3           0.821   0.676    3    -6.366     0       0.0547       0.18700   \n",
       "4           0.388   0.327    5   -12.522     1       0.0317       0.73200   \n",
       "..            ...     ...  ...       ...   ...          ...           ...   \n",
       "808         0.796   0.798    1    -6.312     1       0.0317       0.03400   \n",
       "809         0.635   0.516    3    -8.677     1       0.0341       0.12500   \n",
       "810         0.569   0.367    5    -5.178     1       0.0878       0.86200   \n",
       "811         0.732   0.764   10    -6.503     0       0.0631       0.16200   \n",
       "812         0.308   0.376    4   -15.240     1       0.0626       0.11600   \n",
       "\n",
       "     instrumentalness  liveness  valence    tempo  \n",
       "0            0.000000    0.1260    0.211  115.936  \n",
       "1            0.000057    0.3610    0.678   85.005  \n",
       "2            0.332000    0.2010    0.496   84.044  \n",
       "3            0.000100    0.0927    0.559  119.012  \n",
       "4            0.001030    0.1500    0.222  107.894  \n",
       "..                ...       ...      ...      ...  \n",
       "808          0.000042    0.0952    0.942  116.032  \n",
       "809          0.000000    0.1200    0.127  114.074  \n",
       "810          0.000155    0.3370    0.823  169.768  \n",
       "811          0.346000    0.3220    0.685  132.019  \n",
       "812          0.000003    0.1660    0.158  186.047  \n",
       "\n",
       "[813 rows x 11 columns]"
      ]
     },
     "execution_count": 135,
     "metadata": {},
     "output_type": "execute_result"
    }
   ],
   "source": [
    "df_all_features = pd.DataFrame.from_dict({'danceability':danceability, 'energy':energy, 'key':key, 'loudness':loudness, 'mode':mode, 'speechiness':speechiness, 'acousticness':acousticness, 'instrumentalness':instrumentalness, 'liveness':liveness, 'valence':valence, 'tempo':tempo})\n",
    "df_all_features"
   ]
  },
  {
   "cell_type": "code",
   "execution_count": 136,
   "id": "30001c5e-6f21-4d4b-8704-40af3049e930",
   "metadata": {},
   "outputs": [],
   "source": [
    "#concatenate everything together\n",
    "df_complete = pd.concat([df_all_artists, df_all_track_names, df_all_uris, df_all_features], axis=1)"
   ]
  },
  {
   "cell_type": "code",
   "execution_count": 137,
   "id": "a6ae2d65-8ffb-479a-a663-ed1244d047d6",
   "metadata": {},
   "outputs": [
    {
     "data": {
      "text/plain": [
       "(813, 14)"
      ]
     },
     "execution_count": 137,
     "metadata": {},
     "output_type": "execute_result"
    }
   ],
   "source": [
    "df_complete.shape"
   ]
  },
  {
   "cell_type": "code",
   "execution_count": 138,
   "id": "bf5339af-6973-40f9-9d2f-252998d485d4",
   "metadata": {},
   "outputs": [
    {
     "data": {
      "text/plain": [
       "Index(['artist', 'name', 'uri', 'danceability', 'energy', 'key', 'loudness',\n",
       "       'mode', 'speechiness', 'acousticness', 'instrumentalness', 'liveness',\n",
       "       'valence', 'tempo'],\n",
       "      dtype='object')"
      ]
     },
     "execution_count": 138,
     "metadata": {},
     "output_type": "execute_result"
    }
   ],
   "source": [
    "df_complete.columns"
   ]
  },
  {
   "cell_type": "code",
   "execution_count": 139,
   "id": "bf446565-ef14-475f-9860-cf04e924d0aa",
   "metadata": {},
   "outputs": [
    {
     "data": {
      "text/html": [
       "<div>\n",
       "<style scoped>\n",
       "    .dataframe tbody tr th:only-of-type {\n",
       "        vertical-align: middle;\n",
       "    }\n",
       "\n",
       "    .dataframe tbody tr th {\n",
       "        vertical-align: top;\n",
       "    }\n",
       "\n",
       "    .dataframe thead th {\n",
       "        text-align: right;\n",
       "    }\n",
       "</style>\n",
       "<table border=\"1\" class=\"dataframe\">\n",
       "  <thead>\n",
       "    <tr style=\"text-align: right;\">\n",
       "      <th></th>\n",
       "      <th>artist</th>\n",
       "      <th>name</th>\n",
       "      <th>uri</th>\n",
       "      <th>danceability</th>\n",
       "      <th>energy</th>\n",
       "      <th>key</th>\n",
       "      <th>loudness</th>\n",
       "      <th>mode</th>\n",
       "      <th>speechiness</th>\n",
       "      <th>acousticness</th>\n",
       "      <th>instrumentalness</th>\n",
       "      <th>liveness</th>\n",
       "      <th>valence</th>\n",
       "      <th>tempo</th>\n",
       "    </tr>\n",
       "  </thead>\n",
       "  <tbody>\n",
       "    <tr>\n",
       "      <th>0</th>\n",
       "      <td>The Muppets</td>\n",
       "      <td>Rainbow Connection</td>\n",
       "      <td>spotify:track:1SJ4ycWow4yz6z4oFz8NAG</td>\n",
       "      <td>0.526</td>\n",
       "      <td>0.413</td>\n",
       "      <td>9</td>\n",
       "      <td>-7.674</td>\n",
       "      <td>1</td>\n",
       "      <td>0.0278</td>\n",
       "      <td>0.42800</td>\n",
       "      <td>0.000000</td>\n",
       "      <td>0.1260</td>\n",
       "      <td>0.211</td>\n",
       "      <td>115.936</td>\n",
       "    </tr>\n",
       "    <tr>\n",
       "      <th>1</th>\n",
       "      <td>Israel Kamakawiwo'ole</td>\n",
       "      <td>Somewhere Over The Rainbow_What A Wonderful World</td>\n",
       "      <td>spotify:track:25U7raB3ZSszayTYClh4hF</td>\n",
       "      <td>0.663</td>\n",
       "      <td>0.168</td>\n",
       "      <td>0</td>\n",
       "      <td>-13.725</td>\n",
       "      <td>1</td>\n",
       "      <td>0.0448</td>\n",
       "      <td>0.92800</td>\n",
       "      <td>0.000057</td>\n",
       "      <td>0.3610</td>\n",
       "      <td>0.678</td>\n",
       "      <td>85.005</td>\n",
       "    </tr>\n",
       "    <tr>\n",
       "      <th>2</th>\n",
       "      <td>Joey Ramone</td>\n",
       "      <td>What a Wonderful World</td>\n",
       "      <td>spotify:track:04cdEVbQPb8BJb7593e5fO</td>\n",
       "      <td>0.422</td>\n",
       "      <td>0.878</td>\n",
       "      <td>5</td>\n",
       "      <td>-4.863</td>\n",
       "      <td>1</td>\n",
       "      <td>0.0442</td>\n",
       "      <td>0.00935</td>\n",
       "      <td>0.332000</td>\n",
       "      <td>0.2010</td>\n",
       "      <td>0.496</td>\n",
       "      <td>84.044</td>\n",
       "    </tr>\n",
       "    <tr>\n",
       "      <th>3</th>\n",
       "      <td>Asaf Avidan &amp; the Mojos</td>\n",
       "      <td>One Day / Reckoning Song (Wankelmut Remix) [Ra...</td>\n",
       "      <td>spotify:track:5HSkycOEtb9iQ7cg1Oyqmu</td>\n",
       "      <td>0.821</td>\n",
       "      <td>0.676</td>\n",
       "      <td>3</td>\n",
       "      <td>-6.366</td>\n",
       "      <td>0</td>\n",
       "      <td>0.0547</td>\n",
       "      <td>0.18700</td>\n",
       "      <td>0.000100</td>\n",
       "      <td>0.0927</td>\n",
       "      <td>0.559</td>\n",
       "      <td>119.012</td>\n",
       "    </tr>\n",
       "    <tr>\n",
       "      <th>4</th>\n",
       "      <td>Louis Armstrong</td>\n",
       "      <td>What A Wonderful World - Single Version</td>\n",
       "      <td>spotify:track:2pp3RfqX5cb1BAnmNi4Nej</td>\n",
       "      <td>0.388</td>\n",
       "      <td>0.327</td>\n",
       "      <td>5</td>\n",
       "      <td>-12.522</td>\n",
       "      <td>1</td>\n",
       "      <td>0.0317</td>\n",
       "      <td>0.73200</td>\n",
       "      <td>0.001030</td>\n",
       "      <td>0.1500</td>\n",
       "      <td>0.222</td>\n",
       "      <td>107.894</td>\n",
       "    </tr>\n",
       "    <tr>\n",
       "      <th>...</th>\n",
       "      <td>...</td>\n",
       "      <td>...</td>\n",
       "      <td>...</td>\n",
       "      <td>...</td>\n",
       "      <td>...</td>\n",
       "      <td>...</td>\n",
       "      <td>...</td>\n",
       "      <td>...</td>\n",
       "      <td>...</td>\n",
       "      <td>...</td>\n",
       "      <td>...</td>\n",
       "      <td>...</td>\n",
       "      <td>...</td>\n",
       "      <td>...</td>\n",
       "    </tr>\n",
       "    <tr>\n",
       "      <th>808</th>\n",
       "      <td>Elton John</td>\n",
       "      <td>Cold Heart - PNAU Remix</td>\n",
       "      <td>spotify:track:6zSpb8dQRaw0M1dK8PBwQz</td>\n",
       "      <td>0.796</td>\n",
       "      <td>0.798</td>\n",
       "      <td>1</td>\n",
       "      <td>-6.312</td>\n",
       "      <td>1</td>\n",
       "      <td>0.0317</td>\n",
       "      <td>0.03400</td>\n",
       "      <td>0.000042</td>\n",
       "      <td>0.0952</td>\n",
       "      <td>0.942</td>\n",
       "      <td>116.032</td>\n",
       "    </tr>\n",
       "    <tr>\n",
       "      <th>809</th>\n",
       "      <td>MAVV</td>\n",
       "      <td>Everything That I Want</td>\n",
       "      <td>spotify:track:1A2rlbdSXZWyPXkEm3AXK5</td>\n",
       "      <td>0.635</td>\n",
       "      <td>0.516</td>\n",
       "      <td>3</td>\n",
       "      <td>-8.677</td>\n",
       "      <td>1</td>\n",
       "      <td>0.0341</td>\n",
       "      <td>0.12500</td>\n",
       "      <td>0.000000</td>\n",
       "      <td>0.1200</td>\n",
       "      <td>0.127</td>\n",
       "      <td>114.074</td>\n",
       "    </tr>\n",
       "    <tr>\n",
       "      <th>810</th>\n",
       "      <td>Garfunkel and Oates</td>\n",
       "      <td>The Loophole</td>\n",
       "      <td>spotify:track:6B89ADIwxCw60PHZN6Kdp4</td>\n",
       "      <td>0.569</td>\n",
       "      <td>0.367</td>\n",
       "      <td>5</td>\n",
       "      <td>-5.178</td>\n",
       "      <td>1</td>\n",
       "      <td>0.0878</td>\n",
       "      <td>0.86200</td>\n",
       "      <td>0.000155</td>\n",
       "      <td>0.3370</td>\n",
       "      <td>0.823</td>\n",
       "      <td>169.768</td>\n",
       "    </tr>\n",
       "    <tr>\n",
       "      <th>811</th>\n",
       "      <td>Shiny Toy Guns</td>\n",
       "      <td>Major Tom (Coming Home) - Adam K &amp; Soha Radio ...</td>\n",
       "      <td>spotify:track:7nXXIXFSyDDPlfzCW9bdAa</td>\n",
       "      <td>0.732</td>\n",
       "      <td>0.764</td>\n",
       "      <td>10</td>\n",
       "      <td>-6.503</td>\n",
       "      <td>0</td>\n",
       "      <td>0.0631</td>\n",
       "      <td>0.16200</td>\n",
       "      <td>0.346000</td>\n",
       "      <td>0.3220</td>\n",
       "      <td>0.685</td>\n",
       "      <td>132.019</td>\n",
       "    </tr>\n",
       "    <tr>\n",
       "      <th>812</th>\n",
       "      <td>Gordon Lightfoot</td>\n",
       "      <td>The Wreck of the Edmund Fitzgerald</td>\n",
       "      <td>spotify:track:536L9C0N7vhYdibCJx3cI2</td>\n",
       "      <td>0.308</td>\n",
       "      <td>0.376</td>\n",
       "      <td>4</td>\n",
       "      <td>-15.240</td>\n",
       "      <td>1</td>\n",
       "      <td>0.0626</td>\n",
       "      <td>0.11600</td>\n",
       "      <td>0.000003</td>\n",
       "      <td>0.1660</td>\n",
       "      <td>0.158</td>\n",
       "      <td>186.047</td>\n",
       "    </tr>\n",
       "  </tbody>\n",
       "</table>\n",
       "<p>813 rows × 14 columns</p>\n",
       "</div>"
      ],
      "text/plain": [
       "                      artist  \\\n",
       "0                The Muppets   \n",
       "1      Israel Kamakawiwo'ole   \n",
       "2                Joey Ramone   \n",
       "3    Asaf Avidan & the Mojos   \n",
       "4            Louis Armstrong   \n",
       "..                       ...   \n",
       "808               Elton John   \n",
       "809                     MAVV   \n",
       "810      Garfunkel and Oates   \n",
       "811           Shiny Toy Guns   \n",
       "812         Gordon Lightfoot   \n",
       "\n",
       "                                                  name  \\\n",
       "0                                   Rainbow Connection   \n",
       "1    Somewhere Over The Rainbow_What A Wonderful World   \n",
       "2                               What a Wonderful World   \n",
       "3    One Day / Reckoning Song (Wankelmut Remix) [Ra...   \n",
       "4              What A Wonderful World - Single Version   \n",
       "..                                                 ...   \n",
       "808                            Cold Heart - PNAU Remix   \n",
       "809                             Everything That I Want   \n",
       "810                                       The Loophole   \n",
       "811  Major Tom (Coming Home) - Adam K & Soha Radio ...   \n",
       "812                 The Wreck of the Edmund Fitzgerald   \n",
       "\n",
       "                                      uri  danceability  energy  key  \\\n",
       "0    spotify:track:1SJ4ycWow4yz6z4oFz8NAG         0.526   0.413    9   \n",
       "1    spotify:track:25U7raB3ZSszayTYClh4hF         0.663   0.168    0   \n",
       "2    spotify:track:04cdEVbQPb8BJb7593e5fO         0.422   0.878    5   \n",
       "3    spotify:track:5HSkycOEtb9iQ7cg1Oyqmu         0.821   0.676    3   \n",
       "4    spotify:track:2pp3RfqX5cb1BAnmNi4Nej         0.388   0.327    5   \n",
       "..                                    ...           ...     ...  ...   \n",
       "808  spotify:track:6zSpb8dQRaw0M1dK8PBwQz         0.796   0.798    1   \n",
       "809  spotify:track:1A2rlbdSXZWyPXkEm3AXK5         0.635   0.516    3   \n",
       "810  spotify:track:6B89ADIwxCw60PHZN6Kdp4         0.569   0.367    5   \n",
       "811  spotify:track:7nXXIXFSyDDPlfzCW9bdAa         0.732   0.764   10   \n",
       "812  spotify:track:536L9C0N7vhYdibCJx3cI2         0.308   0.376    4   \n",
       "\n",
       "     loudness  mode  speechiness  acousticness  instrumentalness  liveness  \\\n",
       "0      -7.674     1       0.0278       0.42800          0.000000    0.1260   \n",
       "1     -13.725     1       0.0448       0.92800          0.000057    0.3610   \n",
       "2      -4.863     1       0.0442       0.00935          0.332000    0.2010   \n",
       "3      -6.366     0       0.0547       0.18700          0.000100    0.0927   \n",
       "4     -12.522     1       0.0317       0.73200          0.001030    0.1500   \n",
       "..        ...   ...          ...           ...               ...       ...   \n",
       "808    -6.312     1       0.0317       0.03400          0.000042    0.0952   \n",
       "809    -8.677     1       0.0341       0.12500          0.000000    0.1200   \n",
       "810    -5.178     1       0.0878       0.86200          0.000155    0.3370   \n",
       "811    -6.503     0       0.0631       0.16200          0.346000    0.3220   \n",
       "812   -15.240     1       0.0626       0.11600          0.000003    0.1660   \n",
       "\n",
       "     valence    tempo  \n",
       "0      0.211  115.936  \n",
       "1      0.678   85.005  \n",
       "2      0.496   84.044  \n",
       "3      0.559  119.012  \n",
       "4      0.222  107.894  \n",
       "..       ...      ...  \n",
       "808    0.942  116.032  \n",
       "809    0.127  114.074  \n",
       "810    0.823  169.768  \n",
       "811    0.685  132.019  \n",
       "812    0.158  186.047  \n",
       "\n",
       "[813 rows x 14 columns]"
      ]
     },
     "execution_count": 139,
     "metadata": {},
     "output_type": "execute_result"
    }
   ],
   "source": [
    "df_complete"
   ]
  },
  {
   "cell_type": "code",
   "execution_count": 140,
   "id": "1ca4d81f-5a14-41ce-b981-e0f49bf534e1",
   "metadata": {},
   "outputs": [],
   "source": [
    "#drop the non-numericals prior to feeding the ML algorythm \n",
    "cluster = df_complete.drop(['artist','name','uri'], axis=1)"
   ]
  },
  {
   "cell_type": "code",
   "execution_count": 141,
   "id": "7397d86c-cebb-4031-b43c-2f6f82c3a349",
   "metadata": {},
   "outputs": [],
   "source": [
    "#scale and transform\n",
    "scaler= StandardScaler().fit(cluster)\n",
    "X_prep = scaler.transform(cluster)"
   ]
  },
  {
   "cell_type": "code",
   "execution_count": 142,
   "id": "8d60142e-ed07-4a0a-a6e1-165b37da776b",
   "metadata": {},
   "outputs": [
    {
     "data": {
      "text/plain": [
       "KMeans(n_clusters=3, random_state=1234)"
      ]
     },
     "execution_count": 142,
     "metadata": {},
     "output_type": "execute_result"
    }
   ],
   "source": [
    "kmeans = KMeans(n_clusters=3, random_state=1234)\n",
    "kmeans.fit(X_prep)"
   ]
  },
  {
   "cell_type": "code",
   "execution_count": 143,
   "id": "ef66543d-5fbf-42ff-8e76-9a358681cd6b",
   "metadata": {},
   "outputs": [
    {
     "data": {
      "text/plain": [
       "0    486\n",
       "1    286\n",
       "2     41\n",
       "dtype: int64"
      ]
     },
     "execution_count": 143,
     "metadata": {},
     "output_type": "execute_result"
    }
   ],
   "source": [
    "clusters = kmeans.predict(X_prep)\n",
    "pd.Series(clusters).value_counts().sort_index()"
   ]
  },
  {
   "cell_type": "code",
   "execution_count": 106,
   "id": "1c9dd343-8e05-4256-acc2-28525bf682c1",
   "metadata": {},
   "outputs": [
    {
     "data": {
      "text/plain": [
       "Text(0.5, 1.0, 'Elbow Method showing the optimal k')"
      ]
     },
     "execution_count": 106,
     "metadata": {},
     "output_type": "execute_result"
    },
    {
     "data": {
      "image/png": "[encoded data removed]",
      "text/plain": [
       "<Figure size 1152x576 with 1 Axes>"
      ]
     },
     "metadata": {
      "needs_background": "light"
     },
     "output_type": "display_data"
    }
   ],
   "source": [
    "K = range(2, 20)\n",
    "inertia = []\n",
    "\n",
    "for k in K:\n",
    "    kmeans = KMeans(n_clusters=k,\n",
    "                    random_state=1234)\n",
    "    kmeans.fit(X_prep)\n",
    "    inertia.append(kmeans.inertia_)\n",
    "\n",
    "import matplotlib.pyplot as plt\n",
    "%matplotlib inline\n",
    "\n",
    "plt.figure(figsize=(16,8))\n",
    "plt.plot(K, inertia, 'r*-')\n",
    "plt.xlabel('k')\n",
    "plt.ylabel('inertia')\n",
    "plt.xticks(np.arange(min(K), max(K)+1, 1.0))\n",
    "plt.title('Elbow Method showing the optimal k')    "
   ]
  },
  {
   "cell_type": "code",
   "execution_count": 107,
   "id": "7bf5db22-a39e-4658-8c8e-e8fd2a030c23",
   "metadata": {},
   "outputs": [
    {
     "data": {
      "text/plain": [
       "0    184\n",
       "1    184\n",
       "2    299\n",
       "3    105\n",
       "4     41\n",
       "dtype: int64"
      ]
     },
     "execution_count": 107,
     "metadata": {},
     "output_type": "execute_result"
    }
   ],
   "source": [
    "kmeans = KMeans(n_clusters=5, random_state=1234)\n",
    "kmeans.fit(X_prep)\n",
    "clusters = kmeans.predict(X_prep)\n",
    "pd.Series(clusters).value_counts().sort_index()"
   ]
  },
  {
   "cell_type": "code",
   "execution_count": 108,
   "id": "32178254-7987-446c-935c-a9e617adf1e3",
   "metadata": {},
   "outputs": [
    {
     "data": {
      "text/plain": [
       "(813,)"
      ]
     },
     "execution_count": 108,
     "metadata": {},
     "output_type": "execute_result"
    }
   ],
   "source": [
    "clusters.shape"
   ]
  },
  {
   "cell_type": "code",
   "execution_count": 109,
   "id": "36072f2a-ee9f-4ec9-be25-f014e39e3775",
   "metadata": {},
   "outputs": [
    {
     "data": {
      "text/plain": [
       "5752.77607749044"
      ]
     },
     "execution_count": 109,
     "metadata": {},
     "output_type": "execute_result"
    }
   ],
   "source": [
    "kmeans.inertia_ "
   ]
  },
  {
   "cell_type": "code",
   "execution_count": 110,
   "id": "77e0d219-5b19-40d8-b410-8d1be081e64f",
   "metadata": {},
   "outputs": [
    {
     "name": "stdout",
     "output_type": "stream",
     "text": [
      "6203.107006050915\n"
     ]
    }
   ],
   "source": [
    "kmeans = KMeans(n_clusters=4,\n",
    "                init=\"random\",\n",
    "                n_init=50,  \n",
    "                max_iter=10,\n",
    "                tol=0,\n",
    "                random_state=1234)\n",
    "kmeans.fit(X_prep)\n",
    "\n",
    "print(kmeans.inertia_)"
   ]
  },
  {
   "cell_type": "code",
   "execution_count": 111,
   "id": "b3666565-1724-4237-aa6e-5e18ba262fc2",
   "metadata": {},
   "outputs": [
    {
     "data": {
      "text/plain": [
       "Text(0.5, 1.0, 'Elbow Method showing the optimal k')"
      ]
     },
     "execution_count": 111,
     "metadata": {},
     "output_type": "execute_result"
    },
    {
     "data": {
      "image/png": "[encoded data removed]",
      "text/plain": [
       "<Figure size 1152x576 with 1 Axes>"
      ]
     },
     "metadata": {
      "needs_background": "light"
     },
     "output_type": "display_data"
    }
   ],
   "source": [
    "from sklearn.metrics import silhouette_score\n",
    "K = range(2, 20)\n",
    "silhouette = []\n",
    "\n",
    "for k in K:\n",
    "    kmeans = KMeans(n_clusters=k,\n",
    "                    random_state=1234)\n",
    "    kmeans.fit(X_prep)\n",
    "    silhouette.append(silhouette_score(X_prep, kmeans.predict(X_prep)))                        #silhouette score is prediction, maximized for 3 clusters, higher score is better\n",
    "\n",
    "\n",
    "plt.figure(figsize=(16,8))\n",
    "plt.plot(K, silhouette, 'r*-')\n",
    "plt.xlabel('k')\n",
    "plt.ylabel('silhouette score')\n",
    "plt.xticks(np.arange(min(K), max(K)+1, 1.0))\n",
    "plt.title('Elbow Method showing the optimal k')"
   ]
  },
  {
   "cell_type": "code",
   "execution_count": 112,
   "id": "26ea922a-45d7-4ed2-b74a-8016a225cd8e",
   "metadata": {},
   "outputs": [
    {
     "data": {
      "image/png": "[encoded data removed]",
      "text/plain": [
       "<Figure size 360x360 with 1 Axes>"
      ]
     },
     "metadata": {
      "needs_background": "light"
     },
     "output_type": "display_data"
    }
   ],
   "source": [
    "# ward linkage \n",
    "from sklearn import cluster, datasets\n",
    "agglomerative = cluster.AgglomerativeClustering(n_clusters=3,linkage='ward')\n",
    "pred = agglomerative.fit_predict(X_prep)\n",
    "plt.figure(figsize=(5, 5))\n",
    "plt.scatter(X_prep[:, 0], X_prep[:, 1], c=pred,alpha=0.5)\n",
    "plt.show()"
   ]
  },
  {
   "cell_type": "code",
   "execution_count": 170,
   "id": "a4114581-b2c1-4870-a343-d6dae2d1f9ac",
   "metadata": {},
   "outputs": [
    {
     "data": {
      "image/png": "[encoded data removed]",
      "text/plain": [
       "<Figure size 720x720 with 1 Axes>"
      ]
     },
     "metadata": {
      "needs_background": "light"
     },
     "output_type": "display_data"
    }
   ],
   "source": [
    "plt.figure(figsize=(10, 10))\n",
    "plt.scatter(df_complete['tempo'], df_complete['valence'], c=clusters,alpha=0.25)\n",
    "plt.show()"
   ]
  },
  {
   "cell_type": "code",
   "execution_count": 113,
   "id": "c9705eac-6097-4792-83ea-097a8ce924d7",
   "metadata": {},
   "outputs": [],
   "source": [
    "df_complete['cluster'] = clusters"
   ]
  },
  {
   "cell_type": "code",
   "execution_count": 114,
   "id": "e4193b68-1330-4a5d-a30c-286124e0b610",
   "metadata": {},
   "outputs": [],
   "source": [
    "#drop name\n",
    "df_complete = df_complete.drop(['name'], axis=1)"
   ]
  },
  {
   "cell_type": "code",
   "execution_count": 115,
   "id": "6e6e5c03-f741-44d9-a430-1a1ebfcfe017",
   "metadata": {},
   "outputs": [
    {
     "data": {
      "text/html": [
       "<div>\n",
       "<style scoped>\n",
       "    .dataframe tbody tr th:only-of-type {\n",
       "        vertical-align: middle;\n",
       "    }\n",
       "\n",
       "    .dataframe tbody tr th {\n",
       "        vertical-align: top;\n",
       "    }\n",
       "\n",
       "    .dataframe thead th {\n",
       "        text-align: right;\n",
       "    }\n",
       "</style>\n",
       "<table border=\"1\" class=\"dataframe\">\n",
       "  <thead>\n",
       "    <tr style=\"text-align: right;\">\n",
       "      <th></th>\n",
       "      <th>artist</th>\n",
       "      <th>uri</th>\n",
       "      <th>danceability</th>\n",
       "      <th>energy</th>\n",
       "      <th>key</th>\n",
       "      <th>loudness</th>\n",
       "      <th>mode</th>\n",
       "      <th>speechiness</th>\n",
       "      <th>acousticness</th>\n",
       "      <th>instrumentalness</th>\n",
       "      <th>liveness</th>\n",
       "      <th>valence</th>\n",
       "      <th>tempo</th>\n",
       "      <th>cluster</th>\n",
       "    </tr>\n",
       "  </thead>\n",
       "  <tbody>\n",
       "    <tr>\n",
       "      <th>0</th>\n",
       "      <td>The Muppets</td>\n",
       "      <td>spotify:track:1SJ4ycWow4yz6z4oFz8NAG</td>\n",
       "      <td>0.526</td>\n",
       "      <td>0.413</td>\n",
       "      <td>9</td>\n",
       "      <td>-7.674</td>\n",
       "      <td>1</td>\n",
       "      <td>0.0278</td>\n",
       "      <td>0.42800</td>\n",
       "      <td>0.000000</td>\n",
       "      <td>0.1260</td>\n",
       "      <td>0.211</td>\n",
       "      <td>115.936</td>\n",
       "      <td>1</td>\n",
       "    </tr>\n",
       "    <tr>\n",
       "      <th>1</th>\n",
       "      <td>Israel Kamakawiwo'ole</td>\n",
       "      <td>spotify:track:25U7raB3ZSszayTYClh4hF</td>\n",
       "      <td>0.663</td>\n",
       "      <td>0.168</td>\n",
       "      <td>0</td>\n",
       "      <td>-13.725</td>\n",
       "      <td>1</td>\n",
       "      <td>0.0448</td>\n",
       "      <td>0.92800</td>\n",
       "      <td>0.000057</td>\n",
       "      <td>0.3610</td>\n",
       "      <td>0.678</td>\n",
       "      <td>85.005</td>\n",
       "      <td>1</td>\n",
       "    </tr>\n",
       "    <tr>\n",
       "      <th>2</th>\n",
       "      <td>Joey Ramone</td>\n",
       "      <td>spotify:track:04cdEVbQPb8BJb7593e5fO</td>\n",
       "      <td>0.422</td>\n",
       "      <td>0.878</td>\n",
       "      <td>5</td>\n",
       "      <td>-4.863</td>\n",
       "      <td>1</td>\n",
       "      <td>0.0442</td>\n",
       "      <td>0.00935</td>\n",
       "      <td>0.332000</td>\n",
       "      <td>0.2010</td>\n",
       "      <td>0.496</td>\n",
       "      <td>84.044</td>\n",
       "      <td>2</td>\n",
       "    </tr>\n",
       "    <tr>\n",
       "      <th>3</th>\n",
       "      <td>Asaf Avidan &amp; the Mojos</td>\n",
       "      <td>spotify:track:5HSkycOEtb9iQ7cg1Oyqmu</td>\n",
       "      <td>0.821</td>\n",
       "      <td>0.676</td>\n",
       "      <td>3</td>\n",
       "      <td>-6.366</td>\n",
       "      <td>0</td>\n",
       "      <td>0.0547</td>\n",
       "      <td>0.18700</td>\n",
       "      <td>0.000100</td>\n",
       "      <td>0.0927</td>\n",
       "      <td>0.559</td>\n",
       "      <td>119.012</td>\n",
       "      <td>0</td>\n",
       "    </tr>\n",
       "    <tr>\n",
       "      <th>4</th>\n",
       "      <td>Louis Armstrong</td>\n",
       "      <td>spotify:track:2pp3RfqX5cb1BAnmNi4Nej</td>\n",
       "      <td>0.388</td>\n",
       "      <td>0.327</td>\n",
       "      <td>5</td>\n",
       "      <td>-12.522</td>\n",
       "      <td>1</td>\n",
       "      <td>0.0317</td>\n",
       "      <td>0.73200</td>\n",
       "      <td>0.001030</td>\n",
       "      <td>0.1500</td>\n",
       "      <td>0.222</td>\n",
       "      <td>107.894</td>\n",
       "      <td>1</td>\n",
       "    </tr>\n",
       "    <tr>\n",
       "      <th>...</th>\n",
       "      <td>...</td>\n",
       "      <td>...</td>\n",
       "      <td>...</td>\n",
       "      <td>...</td>\n",
       "      <td>...</td>\n",
       "      <td>...</td>\n",
       "      <td>...</td>\n",
       "      <td>...</td>\n",
       "      <td>...</td>\n",
       "      <td>...</td>\n",
       "      <td>...</td>\n",
       "      <td>...</td>\n",
       "      <td>...</td>\n",
       "      <td>...</td>\n",
       "    </tr>\n",
       "    <tr>\n",
       "      <th>808</th>\n",
       "      <td>Elton John</td>\n",
       "      <td>spotify:track:6zSpb8dQRaw0M1dK8PBwQz</td>\n",
       "      <td>0.796</td>\n",
       "      <td>0.798</td>\n",
       "      <td>1</td>\n",
       "      <td>-6.312</td>\n",
       "      <td>1</td>\n",
       "      <td>0.0317</td>\n",
       "      <td>0.03400</td>\n",
       "      <td>0.000042</td>\n",
       "      <td>0.0952</td>\n",
       "      <td>0.942</td>\n",
       "      <td>116.032</td>\n",
       "      <td>2</td>\n",
       "    </tr>\n",
       "    <tr>\n",
       "      <th>809</th>\n",
       "      <td>MAVV</td>\n",
       "      <td>spotify:track:1A2rlbdSXZWyPXkEm3AXK5</td>\n",
       "      <td>0.635</td>\n",
       "      <td>0.516</td>\n",
       "      <td>3</td>\n",
       "      <td>-8.677</td>\n",
       "      <td>1</td>\n",
       "      <td>0.0341</td>\n",
       "      <td>0.12500</td>\n",
       "      <td>0.000000</td>\n",
       "      <td>0.1200</td>\n",
       "      <td>0.127</td>\n",
       "      <td>114.074</td>\n",
       "      <td>2</td>\n",
       "    </tr>\n",
       "    <tr>\n",
       "      <th>810</th>\n",
       "      <td>Garfunkel and Oates</td>\n",
       "      <td>spotify:track:6B89ADIwxCw60PHZN6Kdp4</td>\n",
       "      <td>0.569</td>\n",
       "      <td>0.367</td>\n",
       "      <td>5</td>\n",
       "      <td>-5.178</td>\n",
       "      <td>1</td>\n",
       "      <td>0.0878</td>\n",
       "      <td>0.86200</td>\n",
       "      <td>0.000155</td>\n",
       "      <td>0.3370</td>\n",
       "      <td>0.823</td>\n",
       "      <td>169.768</td>\n",
       "      <td>3</td>\n",
       "    </tr>\n",
       "    <tr>\n",
       "      <th>811</th>\n",
       "      <td>Shiny Toy Guns</td>\n",
       "      <td>spotify:track:7nXXIXFSyDDPlfzCW9bdAa</td>\n",
       "      <td>0.732</td>\n",
       "      <td>0.764</td>\n",
       "      <td>10</td>\n",
       "      <td>-6.503</td>\n",
       "      <td>0</td>\n",
       "      <td>0.0631</td>\n",
       "      <td>0.16200</td>\n",
       "      <td>0.346000</td>\n",
       "      <td>0.3220</td>\n",
       "      <td>0.685</td>\n",
       "      <td>132.019</td>\n",
       "      <td>0</td>\n",
       "    </tr>\n",
       "    <tr>\n",
       "      <th>812</th>\n",
       "      <td>Gordon Lightfoot</td>\n",
       "      <td>spotify:track:536L9C0N7vhYdibCJx3cI2</td>\n",
       "      <td>0.308</td>\n",
       "      <td>0.376</td>\n",
       "      <td>4</td>\n",
       "      <td>-15.240</td>\n",
       "      <td>1</td>\n",
       "      <td>0.0626</td>\n",
       "      <td>0.11600</td>\n",
       "      <td>0.000003</td>\n",
       "      <td>0.1660</td>\n",
       "      <td>0.158</td>\n",
       "      <td>186.047</td>\n",
       "      <td>1</td>\n",
       "    </tr>\n",
       "  </tbody>\n",
       "</table>\n",
       "<p>813 rows × 14 columns</p>\n",
       "</div>"
      ],
      "text/plain": [
       "                      artist                                   uri  \\\n",
       "0                The Muppets  spotify:track:1SJ4ycWow4yz6z4oFz8NAG   \n",
       "1      Israel Kamakawiwo'ole  spotify:track:25U7raB3ZSszayTYClh4hF   \n",
       "2                Joey Ramone  spotify:track:04cdEVbQPb8BJb7593e5fO   \n",
       "3    Asaf Avidan & the Mojos  spotify:track:5HSkycOEtb9iQ7cg1Oyqmu   \n",
       "4            Louis Armstrong  spotify:track:2pp3RfqX5cb1BAnmNi4Nej   \n",
       "..                       ...                                   ...   \n",
       "808               Elton John  spotify:track:6zSpb8dQRaw0M1dK8PBwQz   \n",
       "809                     MAVV  spotify:track:1A2rlbdSXZWyPXkEm3AXK5   \n",
       "810      Garfunkel and Oates  spotify:track:6B89ADIwxCw60PHZN6Kdp4   \n",
       "811           Shiny Toy Guns  spotify:track:7nXXIXFSyDDPlfzCW9bdAa   \n",
       "812         Gordon Lightfoot  spotify:track:536L9C0N7vhYdibCJx3cI2   \n",
       "\n",
       "     danceability  energy  key  loudness  mode  speechiness  acousticness  \\\n",
       "0           0.526   0.413    9    -7.674     1       0.0278       0.42800   \n",
       "1           0.663   0.168    0   -13.725     1       0.0448       0.92800   \n",
       "2           0.422   0.878    5    -4.863     1       0.0442       0.00935   \n",
       "3           0.821   0.676    3    -6.366     0       0.0547       0.18700   \n",
       "4           0.388   0.327    5   -12.522     1       0.0317       0.73200   \n",
       "..            ...     ...  ...       ...   ...          ...           ...   \n",
       "808         0.796   0.798    1    -6.312     1       0.0317       0.03400   \n",
       "809         0.635   0.516    3    -8.677     1       0.0341       0.12500   \n",
       "810         0.569   0.367    5    -5.178     1       0.0878       0.86200   \n",
       "811         0.732   0.764   10    -6.503     0       0.0631       0.16200   \n",
       "812         0.308   0.376    4   -15.240     1       0.0626       0.11600   \n",
       "\n",
       "     instrumentalness  liveness  valence    tempo  cluster  \n",
       "0            0.000000    0.1260    0.211  115.936        1  \n",
       "1            0.000057    0.3610    0.678   85.005        1  \n",
       "2            0.332000    0.2010    0.496   84.044        2  \n",
       "3            0.000100    0.0927    0.559  119.012        0  \n",
       "4            0.001030    0.1500    0.222  107.894        1  \n",
       "..                ...       ...      ...      ...      ...  \n",
       "808          0.000042    0.0952    0.942  116.032        2  \n",
       "809          0.000000    0.1200    0.127  114.074        2  \n",
       "810          0.000155    0.3370    0.823  169.768        3  \n",
       "811          0.346000    0.3220    0.685  132.019        0  \n",
       "812          0.000003    0.1660    0.158  186.047        1  \n",
       "\n",
       "[813 rows x 14 columns]"
      ]
     },
     "execution_count": 115,
     "metadata": {},
     "output_type": "execute_result"
    }
   ],
   "source": [
    "df_complete"
   ]
  },
  {
   "cell_type": "code",
   "execution_count": 151,
   "id": "7f443bdb-1c37-4b90-881b-0dd745727eb5",
   "metadata": {},
   "outputs": [],
   "source": [
    "topsongs = pd.read_csv('C:\\\\Users\\\\eddie\\\\Desktop\\\\Ironhack\\\\week6\\\\week6 day3\\\\songs_top_100.csv').drop(['Unnamed: 0'],axis=1)"
   ]
  },
  {
   "cell_type": "code",
   "execution_count": 152,
   "id": "5002d40a-b16a-409b-ba04-242901ffbd77",
   "metadata": {},
   "outputs": [
    {
     "data": {
      "text/plain": [
       "100"
      ]
     },
     "execution_count": 152,
     "metadata": {},
     "output_type": "execute_result"
    }
   ],
   "source": [
    "len(topsongs)"
   ]
  },
  {
   "cell_type": "code",
   "execution_count": 153,
   "id": "04abb266-31d7-4148-8bc1-2f6814cf8bb5",
   "metadata": {},
   "outputs": [
    {
     "data": {
      "text/html": [
       "<div>\n",
       "<style scoped>\n",
       "    .dataframe tbody tr th:only-of-type {\n",
       "        vertical-align: middle;\n",
       "    }\n",
       "\n",
       "    .dataframe tbody tr th {\n",
       "        vertical-align: top;\n",
       "    }\n",
       "\n",
       "    .dataframe thead th {\n",
       "        text-align: right;\n",
       "    }\n",
       "</style>\n",
       "<table border=\"1\" class=\"dataframe\">\n",
       "  <thead>\n",
       "    <tr style=\"text-align: right;\">\n",
       "      <th></th>\n",
       "      <th>title</th>\n",
       "      <th>artist</th>\n",
       "    </tr>\n",
       "  </thead>\n",
       "  <tbody>\n",
       "    <tr>\n",
       "      <th>0</th>\n",
       "      <td>All Too Well (Taylor's Version)</td>\n",
       "      <td>Taylor Swift</td>\n",
       "    </tr>\n",
       "    <tr>\n",
       "      <th>1</th>\n",
       "      <td>Easy On Me</td>\n",
       "      <td>Adele</td>\n",
       "    </tr>\n",
       "    <tr>\n",
       "      <th>2</th>\n",
       "      <td>Stay</td>\n",
       "      <td>The Kid LAROI &amp; Justin Bieber</td>\n",
       "    </tr>\n",
       "    <tr>\n",
       "      <th>3</th>\n",
       "      <td>Industry Baby</td>\n",
       "      <td>Lil Nas X &amp; Jack Harlow</td>\n",
       "    </tr>\n",
       "    <tr>\n",
       "      <th>4</th>\n",
       "      <td>Smokin Out The Window</td>\n",
       "      <td>Silk Sonic (Bruno Mars &amp; Anderson .Paak)</td>\n",
       "    </tr>\n",
       "    <tr>\n",
       "      <th>...</th>\n",
       "      <td>...</td>\n",
       "      <td>...</td>\n",
       "    </tr>\n",
       "    <tr>\n",
       "      <th>95</th>\n",
       "      <td>Moth To A Flame</td>\n",
       "      <td>Swedish House Mafia &amp; The Weeknd</td>\n",
       "    </tr>\n",
       "    <tr>\n",
       "      <th>96</th>\n",
       "      <td>'Til You Can't</td>\n",
       "      <td>Cody Johnson</td>\n",
       "    </tr>\n",
       "    <tr>\n",
       "      <th>97</th>\n",
       "      <td>Woman</td>\n",
       "      <td>Doja Cat</td>\n",
       "    </tr>\n",
       "    <tr>\n",
       "      <th>98</th>\n",
       "      <td>Take My Breath</td>\n",
       "      <td>The Weeknd</td>\n",
       "    </tr>\n",
       "    <tr>\n",
       "      <th>99</th>\n",
       "      <td>For Tonight</td>\n",
       "      <td>Giveon</td>\n",
       "    </tr>\n",
       "  </tbody>\n",
       "</table>\n",
       "<p>100 rows × 2 columns</p>\n",
       "</div>"
      ],
      "text/plain": [
       "                              title                                    artist\n",
       "0   All Too Well (Taylor's Version)                              Taylor Swift\n",
       "1                        Easy On Me                                     Adele\n",
       "2                              Stay             The Kid LAROI & Justin Bieber\n",
       "3                     Industry Baby                   Lil Nas X & Jack Harlow\n",
       "4             Smokin Out The Window  Silk Sonic (Bruno Mars & Anderson .Paak)\n",
       "..                              ...                                       ...\n",
       "95                  Moth To A Flame          Swedish House Mafia & The Weeknd\n",
       "96                   'Til You Can't                              Cody Johnson\n",
       "97                            Woman                                  Doja Cat\n",
       "98                   Take My Breath                                The Weeknd\n",
       "99                      For Tonight                                    Giveon\n",
       "\n",
       "[100 rows x 2 columns]"
      ]
     },
     "execution_count": 153,
     "metadata": {},
     "output_type": "execute_result"
    }
   ],
   "source": [
    "topsongs"
   ]
  },
  {
   "cell_type": "code",
   "execution_count": null,
   "id": "a025de0b-63ce-48c0-a8f5-cb47cea021a7",
   "metadata": {},
   "outputs": [],
   "source": [
    "def what_am_i_doing_with_my_life():\n",
    "    song =  str(input(\"Please pick a song or artist: \"))\n",
    "    for i in range(len(topsongs)):\n",
    "        if topsongs['title'][i] == song:\n",
    "            rand_num = randint(0,len(topsongs))\n",
    "            return(print(\"You can also listen to: \\\"\", topsongs['title'][rand_num], \"\\\" by\", topsongs['artist'][rand_num]))\n",
    "        elif topsongs['artist'][i] == song:\n",
    "            rand_num = randint(0,len(topsongs))\n",
    "            return(print(\"You can also to listen to: \\\"\", topsongs['title'][rand_num], \"\\\" by\", topsongs['artist'][rand_num]))\n",
    "    return (\"Not in top 100 List!\")\n",
    "what_am_i_doing_with_my_life()"
   ]
  },
  {
   "cell_type": "code",
   "execution_count": 124,
   "id": "8a743981-e202-4e34-b694-31f5b5b35e6d",
   "metadata": {},
   "outputs": [],
   "source": [
    "def features_api(track, artist):\n",
    "    track_id = sp.search(q='artist:' + artist + ' track:' + track, type='track')\n",
    "    uri = track_id[\"tracks\"][\"items\"][0]['id']\n",
    "    features_api = sp.audio_features(uri)\n",
    "    return features_api"
   ]
  },
  {
   "cell_type": "code",
   "execution_count": 64,
   "id": "da055f96-03a3-4240-b6a5-b5aaaea24069",
   "metadata": {},
   "outputs": [],
   "source": [
    "def eddie_is_cool():\n",
    "    from random import randint\n",
    "    song_choice=input(\"pick song now: \")\n",
    "    if len(song_choice)==0:\n",
    "        print(\"just....why?\")\n",
    "    else: \n",
    "        song_ch=song_choice.lower() \n",
    "        filter_song=topsongs[(topsongs[\"title\"].str.lower()).str.contains(song_ch)]\n",
    "\n",
    "        if len(filter_song) == 0:\n",
    "            print(\"NO\")\n",
    "            random_song2 = randint(0, len(topsongs)-1)\n",
    "            print(\"check this out '\" + df_complete[\"title\"][random_song2] + \"' by \" + topsongs[\"artist\"][random_song2])\n",
    "\n",
    "        else:\n",
    "            print(\"THIS SONG IS LIT\")\n",
    "            random_song = randint(0, len(topsongs)-1)\n",
    "            print(\"you might also enjoy '\" + topsongs[\"title\"][random_song] + \"' by \" + topsongs[\"artist\"][random_song])\n",
    "\n",
    "\n",
    "\n"
   ]
  },
  {
   "cell_type": "code",
   "execution_count": null,
   "id": "ef34efef-fb8b-45e0-ab2f-fc16e096eabf",
   "metadata": {},
   "outputs": [],
   "source": [
    "eddie_is_cool()\n"
   ]
  },
  {
   "cell_type": "code",
   "execution_count": null,
   "id": "ea48c9f7-2296-4a5e-8677-425c15b1b159",
   "metadata": {},
   "outputs": [],
   "source": [
    "print('Welcome Jan, Erin & Fred. This is the GNOD song recommender!')\n",
    "answer = input('Do you want me to recommend a song?(yes/no) ').lower()\n",
    "\n",
    "if answer == 'no':\n",
    "    print('Too bad, you missed out on a great song!')\n",
    "\n",
    "else:\n",
    "\n",
    "    new_song = input(\"Enter song: \").lower()\n",
    "    new_artist = input(\"Enter artist: \").lower()\n",
    "\n",
    "    test_entry = sp.search(q=new_song, type='track')\n",
    "    wrong_entry = test_entry[\"tracks\"][\"total\"] \n",
    "\n",
    "    while wrong_entry == 0:\n",
    "        print(\"Song does not exists, try another\")\n",
    "        new_song = input(\"Enter song: \").lower()\n",
    "        new_artist = input(\"Enter artist: \").lower()\n",
    "        test_entry = sp.search(q=new_song, type='track')\n",
    "        wrong_entry = test_entry[\"tracks\"][\"total\"]\n",
    "\n",
    "    if new_song in list(top100['song_title']):\n",
    "        recommendation_hot = random.choice(list(top100['song_title']))\n",
    "        while recommendation_hot == new_song:\n",
    "                recommendation_hot = random.choice(list(top100['song_title']))\n",
    "                print('Your recommendation:', recommendation_hot)\n",
    "    else:\n",
    "        feature = features(new_song, new_artist)\n",
    "        column = list(feature[0].keys())\n",
    "        values = [list(feature[0].values())]\n",
    "        df_new_song = pd.DataFrame(data = feature, columns = column)\n",
    "        df_new_song = df_new_song.drop(['type','id','uri','track_href','analysis_url','time_signature'],axis=1)\n",
    "        std_new_song = scaler.transform(df_new_song)\n",
    "        new_cluster = kmeans.predict(std_new_song)\n",
    "        df_cluster = cluster_df[cluster_df['cluster'] == list(new_cluster)[0]]\n",
    "        \n",
    "        recommendation = random.choice(list(df_cluster['song_and_artist']))\n",
    "        url = df_cluster['url'][df_cluster['song_and_artist'] == recommendation].values[0]\n",
    "\n",
    "        print('Your recommendation:',recommendation)\n",
    "        print('URL:',url)"
   ]
  },
  {
   "cell_type": "code",
   "execution_count": null,
   "id": "783beddc-bc34-4a26-ba43-7a49e3fa4f9d",
   "metadata": {},
   "outputs": [],
   "source": []
  },
  {
   "cell_type": "code",
   "execution_count": null,
   "id": "304f4256-2192-414c-b38a-69623d9147ab",
   "metadata": {},
   "outputs": [],
   "source": []
  },
  {
   "cell_type": "code",
   "execution_count": null,
   "id": "853bd53c-8457-404b-8e9c-288f0b47a560",
   "metadata": {},
   "outputs": [],
   "source": [
    "#////////////////???????????????????????????????????????????????????????????????????????????????????????????????????????????????????????????????"
   ]
  },
  {
   "cell_type": "code",
   "execution_count": null,
   "id": "fce1b615-3cab-4d6a-befa-d170d153528a",
   "metadata": {},
   "outputs": [],
   "source": [
    "def features_api(track, artist):\n",
    "    track_id = sp.search(q='artist:' + artist + ' track:' + track, type='track')\n",
    "    uri = track_id[\"tracks\"][\"items\"][0]['id']\n",
    "    features_api = sp.audio_features(uri)\n",
    "    return features_api"
   ]
  },
  {
   "cell_type": "code",
   "execution_count": null,
   "id": "1beeb60e-4ca9-4bd1-8379-809bcf652d7c",
   "metadata": {},
   "outputs": [],
   "source": [
    "def what_am_i_doing_with_my_life():\n",
    "    new_song = input(\"song now: \").lower()\n",
    "    new_artist = input(\"artist now: \").lower()\n",
    "        \n",
    "    if new_song in np.array(topsongs['title']):\n",
    "        return random.choice(np.array(topsongs['title']))\n",
    "    else:\n",
    "        print('error')\n",
    "        \n",
    "    print('Your recommendation is:',random.choice(list(df_complete['artist'])))\n",
    "  "
   ]
  },
  {
   "cell_type": "code",
   "execution_count": null,
   "id": "824fd231-e19f-48ed-bb3e-12339ec60d87",
   "metadata": {},
   "outputs": [],
   "source": []
  }
 ],
 "metadata": {
  "kernelspec": {
   "display_name": "Python 3",
   "language": "python",
   "name": "python3"
  },
  "language_info": {
   "codemirror_mode": {
    "name": "ipython",
    "version": 3
   },
   "file_extension": ".py",
   "mimetype": "text/x-python",
   "name": "python",
   "nbconvert_exporter": "python",
   "pygments_lexer": "ipython3",
   "version": "3.8.8"
  }
 },
 "nbformat": 4,
 "nbformat_minor": 5
}
