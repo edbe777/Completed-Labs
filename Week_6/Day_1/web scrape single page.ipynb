{
 "cells": [
  {
   "cell_type": "code",
   "execution_count": 71,
   "id": "1a0c9b67-dc18-491b-9872-581cef5cc332",
   "metadata": {},
   "outputs": [],
   "source": [
    "import pandas as pd\n",
    "import requests\n",
    "import bs4\n",
    "from bs4 import BeautifulSoup "
   ]
  },
  {
   "cell_type": "code",
   "execution_count": 72,
   "id": "516a4229-3152-44d2-bd87-4cb5a72d76b2",
   "metadata": {},
   "outputs": [],
   "source": [
    "url = 'https://www.billboard.com/charts/hot-100'   #top 100"
   ]
  },
  {
   "cell_type": "code",
   "execution_count": 73,
   "id": "90a3e554-a7c4-4d7e-9d89-1f287f9f577b",
   "metadata": {},
   "outputs": [
    {
     "data": {
      "text/plain": [
       "200"
      ]
     },
     "execution_count": 73,
     "metadata": {},
     "output_type": "execute_result"
    }
   ],
   "source": [
    "response = requests.get(url)  #get request\n",
    "response.status_code # 200 status code means OK!"
   ]
  },
  {
   "cell_type": "code",
   "execution_count": 74,
   "id": "cf797089-7a7d-43ca-a721-10baa6fcc000",
   "metadata": {},
   "outputs": [],
   "source": [
    "soup = BeautifulSoup(response.content, \"html.parser\")"
   ]
  },
  {
   "cell_type": "code",
   "execution_count": 75,
   "id": "9827b2ef-f092-4f07-8779-86218036e971",
   "metadata": {},
   "outputs": [],
   "source": [
    "#soup"
   ]
  },
  {
   "cell_type": "code",
   "execution_count": 76,
   "id": "7635c49d-b5e2-4e1e-be4c-0ab9843e150f",
   "metadata": {},
   "outputs": [],
   "source": [
    "#soup.select('div.o-chart-results-list-row-container:nth-child(8) > ul:nth-child(1) > li:nth-child(4) > ul:nth-child(1) > li:nth-child(1) > h3:nth-child(1)')"
   ]
  },
  {
   "cell_type": "code",
   "execution_count": 77,
   "id": "b9639d74-16c0-45f3-bb48-d068256d55ff",
   "metadata": {},
   "outputs": [],
   "source": [
    "# song title \n",
    "# titles = []\n",
    "# for title in soup.select(\"div.o-chart-results-list-row-container:nth-child(8) > ul:nth-child(1) > li:nth-child(4) > ul:nth-child(1) > li:nth-child(1) > h3:nth-child(1)\"):\n",
    "#     print(title.get_text())\n"
   ]
  },
  {
   "cell_type": "code",
   "execution_count": 78,
   "id": "c9c04b68-d5e2-4082-807f-e8c23e5dac5d",
   "metadata": {},
   "outputs": [],
   "source": [
    "#print(soup.select('div.o-chart-results-list-row-container:nth-child(10) > ul:nth-child(1) > li:nth-child(4) > ul:nth-child(1) > li:nth-child(1)')[0].get_text())"
   ]
  },
  {
   "cell_type": "code",
   "execution_count": 79,
   "id": "959735b6-f5b0-4e47-89cd-24b4e3793db6",
   "metadata": {},
   "outputs": [],
   "source": [
    "# artist name\n",
    "#print(soup.select(\"div.o-chart-results-list-row-container:nth-child(8) > ul:nth-child(1) > li:nth-child(4) > ul:nth-child(1) > li:nth-child(1) > span:nth-child(2)\")[0].get_text())"
   ]
  },
  {
   "cell_type": "code",
   "execution_count": 82,
   "id": "3320eb12-ad6a-4dc4-9c2a-0d7fb3c379c0",
   "metadata": {},
   "outputs": [],
   "source": [
    "title = []\n",
    "artist = []\n",
    "\n",
    "#the first two rows dont have useful information\n",
    "for i in range(2,115,1):\n",
    "    start_at= str(i)\n",
    "    selector1 = \"#post-1479786 > div.pmc-paywall > div > div > div > div.chart-results-list.\\/\\/.lrv-u-padding-t-150.lrv-u-padding-t-050\\@mobile-max > div:nth-child(\" + start_at + \") h3\"\n",
    "    # I do this because there are some ads between the songs and I dont want them\n",
    "    if len(soup.select(selector1)) > 0 :\n",
    "        title.append(str.strip(soup.select(selector1)[0].get_text()))\n",
    "        selector2 = \"#post-1479786 > div.pmc-paywall > div > div > div > div.chart-results-list.\\/\\/.lrv-u-padding-t-150.lrv-u-padding-t-050\\@mobile-max > div:nth-child(\" + start_at + \") > ul > li.lrv-u-width-100p > ul > li.o-chart-results-list__item.\\/\\/.lrv-u-flex-grow-1.lrv-u-flex.lrv-u-flex-direction-column.lrv-u-justify-content-center.lrv-u-border-b-1.u-border-b-0\\@mobile-max.lrv-u-border-color-grey-light.lrv-u-border-color-grey-light.lrv-u-padding-l-1\\@mobile-max span\"\n",
    "        artist.append(str.strip(soup.select(selector2)[0].get_text()))\n",
    "        \n",
    "songs = pd.DataFrame({\"title\":title,\n",
    "                       \"artist\":artist\n",
    "                      })"
   ]
  },
  {
   "cell_type": "code",
   "execution_count": 83,
   "id": "321b4b66-b835-4e9d-ad98-da53714554cf",
   "metadata": {},
   "outputs": [
    {
     "data": {
      "text/html": [
       "<div>\n",
       "<style scoped>\n",
       "    .dataframe tbody tr th:only-of-type {\n",
       "        vertical-align: middle;\n",
       "    }\n",
       "\n",
       "    .dataframe tbody tr th {\n",
       "        vertical-align: top;\n",
       "    }\n",
       "\n",
       "    .dataframe thead th {\n",
       "        text-align: right;\n",
       "    }\n",
       "</style>\n",
       "<table border=\"1\" class=\"dataframe\">\n",
       "  <thead>\n",
       "    <tr style=\"text-align: right;\">\n",
       "      <th></th>\n",
       "      <th>title</th>\n",
       "      <th>artist</th>\n",
       "    </tr>\n",
       "  </thead>\n",
       "  <tbody>\n",
       "    <tr>\n",
       "      <th>0</th>\n",
       "      <td>Easy On Me</td>\n",
       "      <td>Adele</td>\n",
       "    </tr>\n",
       "    <tr>\n",
       "      <th>1</th>\n",
       "      <td>Stay</td>\n",
       "      <td>The Kid LAROI &amp; Justin Bieber</td>\n",
       "    </tr>\n",
       "    <tr>\n",
       "      <th>2</th>\n",
       "      <td>Industry Baby</td>\n",
       "      <td>Lil Nas X &amp; Jack Harlow</td>\n",
       "    </tr>\n",
       "    <tr>\n",
       "      <th>3</th>\n",
       "      <td>Bad Habits</td>\n",
       "      <td>Ed Sheeran</td>\n",
       "    </tr>\n",
       "    <tr>\n",
       "      <th>4</th>\n",
       "      <td>Shivers</td>\n",
       "      <td>Ed Sheeran</td>\n",
       "    </tr>\n",
       "    <tr>\n",
       "      <th>...</th>\n",
       "      <td>...</td>\n",
       "      <td>...</td>\n",
       "    </tr>\n",
       "    <tr>\n",
       "      <th>95</th>\n",
       "      <td>Praise God</td>\n",
       "      <td>Kanye West</td>\n",
       "    </tr>\n",
       "    <tr>\n",
       "      <th>96</th>\n",
       "      <td>Super Gremlin</td>\n",
       "      <td>Kodak Black</td>\n",
       "    </tr>\n",
       "    <tr>\n",
       "      <th>97</th>\n",
       "      <td>Poke It Out</td>\n",
       "      <td>Wale Featuring J. Cole</td>\n",
       "    </tr>\n",
       "    <tr>\n",
       "      <th>98</th>\n",
       "      <td>Half Of My Hometown</td>\n",
       "      <td>Kelsea Ballerini Featuring Kenny Chesney</td>\n",
       "    </tr>\n",
       "    <tr>\n",
       "      <th>99</th>\n",
       "      <td>2055</td>\n",
       "      <td>Sleepy Hallow</td>\n",
       "    </tr>\n",
       "  </tbody>\n",
       "</table>\n",
       "<p>100 rows × 2 columns</p>\n",
       "</div>"
      ],
      "text/plain": [
       "                  title                                    artist\n",
       "0            Easy On Me                                     Adele\n",
       "1                  Stay             The Kid LAROI & Justin Bieber\n",
       "2         Industry Baby                   Lil Nas X & Jack Harlow\n",
       "3            Bad Habits                                Ed Sheeran\n",
       "4               Shivers                                Ed Sheeran\n",
       "..                  ...                                       ...\n",
       "95           Praise God                                Kanye West\n",
       "96        Super Gremlin                               Kodak Black\n",
       "97          Poke It Out                    Wale Featuring J. Cole\n",
       "98  Half Of My Hometown  Kelsea Ballerini Featuring Kenny Chesney\n",
       "99                 2055                             Sleepy Hallow\n",
       "\n",
       "[100 rows x 2 columns]"
      ]
     },
     "execution_count": 83,
     "metadata": {},
     "output_type": "execute_result"
    }
   ],
   "source": [
    "songs"
   ]
  },
  {
   "cell_type": "code",
   "execution_count": null,
   "id": "5ae34588-7195-4d9b-825d-5b277ddceb5a",
   "metadata": {},
   "outputs": [],
   "source": []
  }
 ],
 "metadata": {
  "kernelspec": {
   "display_name": "Python 3",
   "language": "python",
   "name": "python3"
  },
  "language_info": {
   "codemirror_mode": {
    "name": "ipython",
    "version": 3
   },
   "file_extension": ".py",
   "mimetype": "text/x-python",
   "name": "python",
   "nbconvert_exporter": "python",
   "pygments_lexer": "ipython3",
   "version": "3.8.8"
  }
 },
 "nbformat": 4,
 "nbformat_minor": 5
}
