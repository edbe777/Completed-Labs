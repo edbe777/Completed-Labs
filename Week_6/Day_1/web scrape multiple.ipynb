{
 "cells": [
  {
   "cell_type": "code",
   "execution_count": 1,
   "id": "7b4c2027-babc-4eea-a930-874a9b1c215d",
   "metadata": {},
   "outputs": [],
   "source": [
    "from bs4 import BeautifulSoup\n",
    "import requests"
   ]
  },
  {
   "cell_type": "code",
   "execution_count": 2,
   "id": "da333cd7-4000-4ad7-88b2-75aa839bc557",
   "metadata": {},
   "outputs": [],
   "source": [
    "url = \"https://playback.fm/charts/top-100-songs/2000\""
   ]
  },
  {
   "cell_type": "code",
   "execution_count": 3,
   "id": "1f6614a3-56ac-405f-a09f-41c040a43cfa",
   "metadata": {},
   "outputs": [
    {
     "data": {
      "text/plain": [
       "200"
      ]
     },
     "execution_count": 3,
     "metadata": {},
     "output_type": "execute_result"
    }
   ],
   "source": [
    "response = requests.get(url)\n",
    "response.status_code # 200 status code means OK!"
   ]
  },
  {
   "cell_type": "code",
   "execution_count": 4,
   "id": "616ba41b-d1bc-43aa-bf4d-761d76db39fb",
   "metadata": {},
   "outputs": [],
   "source": [
    "soup = BeautifulSoup(response.content, \"html.parser\")"
   ]
  },
  {
   "cell_type": "code",
   "execution_count": 5,
   "id": "7f891143-3d54-42a5-a1cb-d6e1b396347a",
   "metadata": {
    "tags": []
   },
   "outputs": [],
   "source": [
    "#soup"
   ]
  },
  {
   "cell_type": "code",
   "execution_count": 6,
   "id": "eb181b81-0fe0-4cfc-9bc1-df314f2e3c96",
   "metadata": {},
   "outputs": [
    {
     "name": "stdout",
     "output_type": "stream",
     "text": [
      "https://playback.fm/charts/top-100-songs/2010\n",
      "https://playback.fm/charts/top-100-songs/2011\n",
      "https://playback.fm/charts/top-100-songs/2012\n",
      "https://playback.fm/charts/top-100-songs/2013\n",
      "https://playback.fm/charts/top-100-songs/2014\n",
      "https://playback.fm/charts/top-100-songs/2015\n",
      "https://playback.fm/charts/top-100-songs/2016\n"
     ]
    }
   ],
   "source": [
    "iterations = range(2010, 2017, 1)\n",
    "\n",
    "for i in iterations:\n",
    "    start_at= str(i)\n",
    "    url = \"https://playback.fm/charts/top-100-songs/\"+ start_at +\"\"\n",
    "    print(url)\n",
    "\n"
   ]
  },
  {
   "cell_type": "code",
   "execution_count": 7,
   "id": "7d9208a8-770d-4a60-8bf1-bc1fc1be8df0",
   "metadata": {},
   "outputs": [
    {
     "name": "stdout",
     "output_type": "stream",
     "text": [
      "https://playback.fm/charts/top-100-songs/2010\n",
      "Status code: 200\n",
      "I will sleep for 1 second/s.\n",
      "https://playback.fm/charts/top-100-songs/2011\n",
      "Status code: 200\n",
      "I will sleep for 4 second/s.\n",
      "https://playback.fm/charts/top-100-songs/2012\n",
      "Status code: 200\n",
      "I will sleep for 2 second/s.\n",
      "https://playback.fm/charts/top-100-songs/2013\n",
      "Status code: 200\n",
      "I will sleep for 3 second/s.\n",
      "https://playback.fm/charts/top-100-songs/2014\n",
      "Status code: 200\n",
      "I will sleep for 2 second/s.\n",
      "https://playback.fm/charts/top-100-songs/2015\n",
      "Status code: 200\n",
      "I will sleep for 4 second/s.\n",
      "https://playback.fm/charts/top-100-songs/2016\n",
      "Status code: 200\n",
      "I will sleep for 4 second/s.\n"
     ]
    }
   ],
   "source": [
    "from time import sleep\n",
    "from random import randint\n",
    "\n",
    "pages = []\n",
    "\n",
    "for i in iterations:\n",
    "    start_at= str(i)\n",
    "    url = \"https://playback.fm/charts/top-100-songs/\"+ start_at +\"\"\n",
    "    print(url)\n",
    "    \n",
    "    response = requests.get(url)\n",
    "    print(\"Status code: \" + str(response.status_code))\n",
    "\n",
    "    pages.append(response)\n",
    "\n",
    "    wait_time = randint(1,4)\n",
    "    print(\"I will sleep for \" + str(wait_time) + \" second/s.\")\n",
    "    sleep(wait_time)"
   ]
  },
  {
   "cell_type": "code",
   "execution_count": 8,
   "id": "daa6f9dd-2dea-445b-a3ec-7f4f553ffe25",
   "metadata": {},
   "outputs": [],
   "source": [
    "#print(BeautifulSoup(pages[0].content, \"html.parser\").prettify())"
   ]
  },
  {
   "cell_type": "code",
   "execution_count": 9,
   "id": "ee4af667-946f-403e-9896-2890060014f2",
   "metadata": {},
   "outputs": [],
   "source": [
    "#parse the first page\n",
    "soup = BeautifulSoup(pages[0].content, \"html.parser\")"
   ]
  },
  {
   "cell_type": "code",
   "execution_count": 10,
   "id": "da7c1d58-b4c7-4177-8ef6-be39f16c0b44",
   "metadata": {},
   "outputs": [],
   "source": [
    "#soup.select(\"#main > div > div.lister.list.detail.sub-list > div > div:nth-of-type(4) > div.lister-item-content > h3 > a\")\n",
    "# #myTable > tbody:nth-child(2) > tr:nth-child(1) > td:nth-child(2) > a:nth-child(2)\n",
    "# #myTable > tbody:nth-child(2) > tr:nth-child(1) > td:nth-child(2) > span:nth-child(1) > a:nth-child(1)\n",
    "# #myTable > tbody:nth-child(2) > tr:nth-child(1) > td:nth-child(2)\n",
    "#myTable > tbody:nth-child(2) > tr:nth-child(3) > td:nth-child(1)\n",
    "##myTable > tbody:nth-child(2) > tr:nth-child(4) > td:nth-child(1)\n",
    "##myTable > tbody:nth-child(2) > tr:nth-child(5) > td:nth-child(1)\n",
    "#soup.select(\"tr:nth-child(1)\")\n",
    "\n",
    "#correct one!\n",
    "#soup.select(\"td:nth-child(2)\")"
   ]
  },
  {
   "cell_type": "code",
   "execution_count": 11,
   "id": "1e0aa398-b2c2-4ef6-9297-d3f87eae4e16",
   "metadata": {},
   "outputs": [
    {
     "name": "stdout",
     "output_type": "stream",
     "text": [
      "\n",
      "Bruno Mars\n",
      "\n"
     ]
    }
   ],
   "source": [
    "##html.birthday.lygorhg.idc0_334 body div.wrappercenter div.wrapperbody.cf div.playlist.chart table#myTable.chartTbl tbody tr td a.artist\n",
    "#soup.select('a.artist')\n",
    "print(soup.select('a.artist')[1].get_text())"
   ]
  },
  {
   "cell_type": "code",
   "execution_count": 12,
   "id": "a08b6f8c-5e14-4c16-97ad-0dca2cff77e7",
   "metadata": {},
   "outputs": [
    {
     "name": "stdout",
     "output_type": "stream",
     "text": [
      "Just the Way You Are\n"
     ]
    }
   ],
   "source": [
    "#print(soup.select(\"td.mobile-hide\"))\n",
    "print(soup.select('td.mobile-hide>a>span.song')[1].get_text())"
   ]
  },
  {
   "cell_type": "code",
   "execution_count": 15,
   "id": "f11d353d-f3a3-4676-9579-a37153a35930",
   "metadata": {},
   "outputs": [
    {
     "name": "stdout",
     "output_type": "stream",
     "text": [
      "698\n",
      "698\n"
     ]
    }
   ],
   "source": [
    "pages_parsed = []\n",
    "songs = []\n",
    "artists = []\n",
    "\n",
    "for i in range(len(pages)):\n",
    "    # parse all pages\n",
    "    pages_parsed.append(BeautifulSoup(pages[i].content, \"html.parser\"))\n",
    "    # select only the info about the movies\n",
    "    songs_html = pages_parsed[i].select(\"td.mobile-hide\")\n",
    "    \n",
    "    #artists_html = pages_parsed[i].select(\"td:nth-child(2)\")\n",
    "    # for movie, store titles and reviews into lists\n",
    "    for j in range(len(songs_html)):\n",
    "        songs.append(songs_html[j].select(\"span.song\")[0].get_text().strip())\n",
    "        artists.append(artists_html[j].select(\"a.artist\")[0].get_text().strip()) \n",
    "\n",
    "          \n",
    "\n",
    "# Checking our output:\n",
    "\n",
    "print(len(songs)) \n",
    "print(len(artists)) "
   ]
  },
  {
   "cell_type": "code",
   "execution_count": null,
   "id": "b30f7c4e-81ad-4c97-9691-505efac787bd",
   "metadata": {},
   "outputs": [],
   "source": []
  },
  {
   "cell_type": "code",
   "execution_count": 16,
   "id": "57422b39-4f5c-4191-bf70-109e93a22d71",
   "metadata": {},
   "outputs": [
    {
     "data": {
      "text/html": [
       "<div>\n",
       "<style scoped>\n",
       "    .dataframe tbody tr th:only-of-type {\n",
       "        vertical-align: middle;\n",
       "    }\n",
       "\n",
       "    .dataframe tbody tr th {\n",
       "        vertical-align: top;\n",
       "    }\n",
       "\n",
       "    .dataframe thead th {\n",
       "        text-align: right;\n",
       "    }\n",
       "</style>\n",
       "<table border=\"1\" class=\"dataframe\">\n",
       "  <thead>\n",
       "    <tr style=\"text-align: right;\">\n",
       "      <th></th>\n",
       "      <th>songs_title</th>\n",
       "      <th>artists</th>\n",
       "    </tr>\n",
       "  </thead>\n",
       "  <tbody>\n",
       "    <tr>\n",
       "      <th>0</th>\n",
       "      <td>Love The Way You Lie</td>\n",
       "      <td>Rihanna</td>\n",
       "    </tr>\n",
       "    <tr>\n",
       "      <th>1</th>\n",
       "      <td>Just the Way You Are</td>\n",
       "      <td>ZAYN</td>\n",
       "    </tr>\n",
       "    <tr>\n",
       "      <th>2</th>\n",
       "      <td>California Gurls</td>\n",
       "      <td>Justin Bieber</td>\n",
       "    </tr>\n",
       "    <tr>\n",
       "      <th>3</th>\n",
       "      <td>Firework</td>\n",
       "      <td>Justin Bieber</td>\n",
       "    </tr>\n",
       "    <tr>\n",
       "      <th>4</th>\n",
       "      <td>Only girl (in the world)</td>\n",
       "      <td>G-Eazy</td>\n",
       "    </tr>\n",
       "    <tr>\n",
       "      <th>...</th>\n",
       "      <td>...</td>\n",
       "      <td>...</td>\n",
       "    </tr>\n",
       "    <tr>\n",
       "      <th>693</th>\n",
       "      <td>Ginza</td>\n",
       "      <td>J Balvin</td>\n",
       "    </tr>\n",
       "    <tr>\n",
       "      <th>694</th>\n",
       "      <td>Take Me To Church</td>\n",
       "      <td>Hozier</td>\n",
       "    </tr>\n",
       "    <tr>\n",
       "      <th>695</th>\n",
       "      <td>Picky</td>\n",
       "      <td>Joey Montana</td>\n",
       "    </tr>\n",
       "    <tr>\n",
       "      <th>696</th>\n",
       "      <td>Down In the DM</td>\n",
       "      <td>Yo Gotti</td>\n",
       "    </tr>\n",
       "    <tr>\n",
       "      <th>697</th>\n",
       "      <td>The Fix</td>\n",
       "      <td>Nelly</td>\n",
       "    </tr>\n",
       "  </tbody>\n",
       "</table>\n",
       "<p>698 rows × 2 columns</p>\n",
       "</div>"
      ],
      "text/plain": [
       "                  songs_title        artists\n",
       "0        Love The Way You Lie        Rihanna\n",
       "1        Just the Way You Are           ZAYN\n",
       "2            California Gurls  Justin Bieber\n",
       "3                    Firework  Justin Bieber\n",
       "4    Only girl (in the world)         G-Eazy\n",
       "..                        ...            ...\n",
       "693                     Ginza       J Balvin\n",
       "694         Take Me To Church         Hozier\n",
       "695                     Picky   Joey Montana\n",
       "696            Down In the DM       Yo Gotti\n",
       "697                   The Fix          Nelly\n",
       "\n",
       "[698 rows x 2 columns]"
      ]
     },
     "execution_count": 16,
     "metadata": {},
     "output_type": "execute_result"
    }
   ],
   "source": [
    "#2013 and 2014 only have 99 songs!!!\n",
    "import pandas as pd\n",
    "top_100_2010_2016 = pd.DataFrame({\"songs_title\":songs,            \n",
    "                       \"artists\":artists,\n",
    "                      })\n",
    "\n",
    "top_100_2010_2016"
   ]
  },
  {
   "cell_type": "code",
   "execution_count": 17,
   "id": "e7466e09-1c2a-45fd-92a1-116e7da39707",
   "metadata": {},
   "outputs": [],
   "source": [
    "#-----------------------------------------practice questions--------------------------------------------------------------------------------"
   ]
  },
  {
   "cell_type": "code",
   "execution_count": 18,
   "id": "bd3b9f33-3c5b-46e2-9bb4-3f250b44a8c7",
   "metadata": {},
   "outputs": [],
   "source": [
    "#Create a Python list with the top ten FBI's Most Wanted names: url = 'https://www.fbi.gov/wanted/topten'"
   ]
  },
  {
   "cell_type": "code",
   "execution_count": 19,
   "id": "8935ca92-dc97-41ae-b7d7-b068101b811d",
   "metadata": {},
   "outputs": [],
   "source": [
    "url = \"https://www.fbi.gov/wanted/topten\""
   ]
  },
  {
   "cell_type": "code",
   "execution_count": 20,
   "id": "76ffc6aa-ceab-4167-ba3a-c4558a20b737",
   "metadata": {},
   "outputs": [
    {
     "data": {
      "text/plain": [
       "200"
      ]
     },
     "execution_count": 20,
     "metadata": {},
     "output_type": "execute_result"
    }
   ],
   "source": [
    "response = requests.get(url)\n",
    "response.status_code # 200 status code means OK!"
   ]
  },
  {
   "cell_type": "code",
   "execution_count": 21,
   "id": "7588e4ce-0b79-4ae4-9ce9-a54c0f8f855d",
   "metadata": {},
   "outputs": [],
   "source": [
    "soup2 = BeautifulSoup(response.content, \"html.parser\")"
   ]
  },
  {
   "cell_type": "code",
   "execution_count": 22,
   "id": "3350dec1-8ae8-49cd-961b-cd9a5a708aff",
   "metadata": {},
   "outputs": [],
   "source": [
    "#soup2 html..... table.wikitable.sortable.jquery-tablesorter tbody tr td"
   ]
  },
  {
   "cell_type": "code",
   "execution_count": 23,
   "id": "83498824-79f0-4d37-9df5-41792e8818c3",
   "metadata": {},
   "outputs": [
    {
     "data": {
      "text/plain": [
       "[<a href=\"https://www.fbi.gov/wanted/topten/rafael-caro-quintero\">RAFAEL CARO-QUINTERO</a>,\n",
       " <a href=\"https://www.fbi.gov/wanted/topten/yulan-adonay-archaga-carias\">YULAN ADONAY ARCHAGA CARIAS</a>,\n",
       " <a href=\"https://www.fbi.gov/wanted/topten/eugene-palmer\">EUGENE PALMER</a>,\n",
       " <a href=\"https://www.fbi.gov/wanted/topten/bhadreshkumar-chetanbhai-patel\">BHADRESHKUMAR CHETANBHAI PATEL</a>,\n",
       " <a href=\"https://www.fbi.gov/wanted/topten/alejandro-castillo\">ALEJANDRO ROSALES CASTILLO</a>,\n",
       " <a href=\"https://www.fbi.gov/wanted/topten/arnoldo-jimenez\">ARNOLDO JIMENEZ</a>,\n",
       " <a href=\"https://www.fbi.gov/wanted/topten/jason-derek-brown\">JASON DEREK BROWN</a>,\n",
       " <a href=\"https://www.fbi.gov/wanted/topten/alexis-flores\">ALEXIS FLORES</a>,\n",
       " <a href=\"https://www.fbi.gov/wanted/topten/jose-rodolfo-villarreal-hernandez\">JOSE RODOLFO VILLARREAL-HERNANDEZ</a>,\n",
       " <a href=\"https://www.fbi.gov/wanted/topten/octaviano-juarez-corro\">OCTAVIANO JUAREZ-CORRO</a>]"
      ]
     },
     "execution_count": 23,
     "metadata": {},
     "output_type": "execute_result"
    }
   ],
   "source": [
    "#html.....castle-grid-block-lg-5.dt-grid li.portal-type-person.castle-grid-block-item h3.title a\n",
    "#table.wikitable:nth-child(15) > tbody:nth-child(3) > tr:nth-child(3) > td:nth-child(2)\n",
    "#table.wikitable:nth-child(15) > tbody:nth-child(3) > tr:nth-child(3) > td:nth-child(2) > a:nth-child(1)\n",
    "#li.portal-type-person:nth-child(1) > h3:nth-child(2)\n",
    "# (\"li.portal-type-person > h3.title\")\n",
    "top_10 = soup2.select(\"li.portal-type-person > h3 > a\")\n",
    "top_10"
   ]
  },
  {
   "cell_type": "code",
   "execution_count": 24,
   "id": "fc575026-da70-4b33-abaa-eab01d90ec22",
   "metadata": {},
   "outputs": [
    {
     "data": {
      "text/plain": [
       "['RAFAEL CARO-QUINTERO',\n",
       " 'YULAN ADONAY ARCHAGA CARIAS',\n",
       " 'EUGENE PALMER',\n",
       " 'BHADRESHKUMAR CHETANBHAI PATEL',\n",
       " 'ALEJANDRO ROSALES CASTILLO',\n",
       " 'ARNOLDO JIMENEZ',\n",
       " 'JASON DEREK BROWN',\n",
       " 'ALEXIS FLORES',\n",
       " 'JOSE RODOLFO VILLARREAL-HERNANDEZ',\n",
       " 'OCTAVIANO JUAREZ-CORRO']"
      ]
     },
     "execution_count": 24,
     "metadata": {},
     "output_type": "execute_result"
    }
   ],
   "source": [
    "final = []\n",
    "for i in top_10:\n",
    "    final.append(i.text)\n",
    "final"
   ]
  },
  {
   "cell_type": "code",
   "execution_count": null,
   "id": "38e60093-0557-4c39-9a3e-4ac8c182435e",
   "metadata": {},
   "outputs": [],
   "source": []
  },
  {
   "cell_type": "code",
   "execution_count": 25,
   "id": "307a36aa-c114-40f5-b71e-7fff48f3f204",
   "metadata": {},
   "outputs": [],
   "source": [
    "#-------------------------more practice------------------------------------------------------------------------"
   ]
  },
  {
   "cell_type": "code",
   "execution_count": 26,
   "id": "c8f64198-6041-4fce-a8b7-cd6defafc31f",
   "metadata": {},
   "outputs": [],
   "source": [
    "#List all language names and number of related articles in the order they appear in wikipedia.org: url = 'https://www.wikipedia.org/'"
   ]
  },
  {
   "cell_type": "code",
   "execution_count": 27,
   "id": "657e2fbf-32cd-4830-9b94-68897c4e51c1",
   "metadata": {},
   "outputs": [
    {
     "data": {
      "text/plain": [
       "200"
      ]
     },
     "execution_count": 27,
     "metadata": {},
     "output_type": "execute_result"
    }
   ],
   "source": [
    "url = \"https://www.wikipedia.org/\"\n",
    "response = requests.get(url)\n",
    "response.status_code # 200 status code means OK!"
   ]
  },
  {
   "cell_type": "code",
   "execution_count": 28,
   "id": "be284ed0-f26b-4419-9109-020ea5562ba8",
   "metadata": {},
   "outputs": [],
   "source": [
    "soup3 = BeautifulSoup(response.content, \"html.parser\")"
   ]
  },
  {
   "cell_type": "code",
   "execution_count": 29,
   "id": "e7ea4243-f07e-41d3-b89e-f1991e7880d2",
   "metadata": {},
   "outputs": [],
   "source": [
    "#soup3"
   ]
  },
  {
   "cell_type": "code",
   "execution_count": 30,
   "id": "26cd3129-f4a2-4787-a901-1c7b38bc14ce",
   "metadata": {},
   "outputs": [],
   "source": [
    "#div.central-featured-lang:nth-child(3)\n",
    "##js-link-box-es > strong:nth-child(1)\n",
    "#html.js-enabled.iifjkda.idc0_334 body#www-wikipedia-org.jsl10n-visible div.central-featured div.central-featured-lang.lang5 a#js-link-box-es.link-box strong\n",
    "\n",
    "all_lang = soup3.select('div.central-featured-lang')[0]\n",
    "#all_lang"
   ]
  },
  {
   "cell_type": "code",
   "execution_count": 58,
   "id": "3c01f269-d80d-4074-b8a6-2c276833145a",
   "metadata": {},
   "outputs": [],
   "source": [
    "# final_lang = []                     \n",
    "# for i in all_lang:\n",
    "#     final_lang.append(i.text)                #error here\n",
    "# final_lang"
   ]
  },
  {
   "cell_type": "code",
   "execution_count": null,
   "id": "2f5d46d6-fd39-4edf-acb6-320fadc123ff",
   "metadata": {},
   "outputs": [],
   "source": []
  },
  {
   "cell_type": "code",
   "execution_count": 32,
   "id": "01590025-8575-44f4-875f-5cd12bc128e2",
   "metadata": {},
   "outputs": [],
   "source": [
    "#--------------------------------even more practice----------------------------------------------------------------------"
   ]
  },
  {
   "cell_type": "code",
   "execution_count": 39,
   "id": "ab8b2e3c-394a-45f1-b820-f5cbb0eb6774",
   "metadata": {},
   "outputs": [],
   "source": [
    "url = \"https://en.wikipedia.org/wiki/List_of_languages_by_number_of_native_speakers\"\n",
    "response = requests.get(url)"
   ]
  },
  {
   "cell_type": "code",
   "execution_count": 40,
   "id": "654b66f5-dc02-46dd-beb9-df4137d844d1",
   "metadata": {},
   "outputs": [],
   "source": [
    "html= response.content"
   ]
  },
  {
   "cell_type": "code",
   "execution_count": 66,
   "id": "618a854d-62b6-4bc9-b862-c93f5da927a4",
   "metadata": {},
   "outputs": [],
   "source": [
    "soup4 = BeautifulSoup(response.content, \"html.parser\")"
   ]
  },
  {
   "cell_type": "code",
   "execution_count": 67,
   "id": "c54492da-35eb-4279-b519-a4781385e17e",
   "metadata": {},
   "outputs": [],
   "source": [
    "#html....mw-parser-output table.wikitable.sortable.jquery-tablesorter tbody tr td a\n",
    "#html....table.wikitable.sortable.jquery-tablesorter tbody tr td\n",
    "#table.wikitable:nth-child(15) > tbody:nth-child(3) > tr:nth-child(3) > td:nth-child(2)\n",
    "#table.wikitable:nth-child(15) > tbody:nth-child(3) > tr:nth-child(1) > td:nth-child(2) > a:nth-child(1)\n",
    "\n",
    "list_languages = soup4.select('table.wikitable > tbody > tr > td > a')\n",
    "#l_soup.select(\"td:nth-child(2) > a\")\n",
    "#list_languages"
   ]
  },
  {
   "cell_type": "code",
   "execution_count": 77,
   "id": "4faf039f-36ed-4de5-bde6-33ec04f38d0f",
   "metadata": {},
   "outputs": [],
   "source": [
    "language_speakers = soup4.select(\"table.wikitable > tbody > tr > td\")\n",
    "#language_speakers"
   ]
  },
  {
   "cell_type": "code",
   "execution_count": 69,
   "id": "c9b66146-1a70-49a7-84e6-da2cffdf5823",
   "metadata": {},
   "outputs": [],
   "source": [
    "actual_speakers =[speaker.text for speaker in language_speakers]"
   ]
  },
  {
   "cell_type": "code",
   "execution_count": 70,
   "id": "3a3334ef-71d6-4c67-a249-4851cde8018d",
   "metadata": {},
   "outputs": [],
   "source": [
    "count = 0 #initialize to zero\n",
    "\n",
    "rank= []\n",
    "lang = []\n",
    "speak = []\n",
    "percent = []\n",
    "family = []\n",
    "branch = []\n",
    "\n",
    "while count < 100:\n",
    "    rank.append(actual_speakers[count][:-1])\n",
    "    count = count + 1\n",
    "    lang.append(actual_speakers[count][:-1])\n",
    "    count = count + 1\n",
    "    speak.append(actual_speakers[count][:-1])\n",
    "    count = count + 1\n",
    "    percent.append(actual_speakers[count][:-1])\n",
    "    count = count + 1\n",
    "    family.append(actual_speakers[count][:-1])\n",
    "    count = count + 1\n",
    "    branch.append(actual_speakers[count][:-1])\n",
    "    count = count + 1"
   ]
  },
  {
   "cell_type": "code",
   "execution_count": 71,
   "id": "d387e20a-ca08-4ca8-9d06-6eec90e45163",
   "metadata": {},
   "outputs": [],
   "source": [
    "final_languages = pd.DataFrame({\"rank\" : rank,\n",
    "                    \"language\": lang,\n",
    "                    \"speakers\": speak,           \n",
    "                    \"percentage\": percent,\n",
    "                    \"language_family\": family,\n",
    "                    \"branch\":branch\n",
    "});"
   ]
  },
  {
   "cell_type": "code",
   "execution_count": 72,
   "id": "9bbdaa77-3439-47a1-b2a8-f5b457791322",
   "metadata": {},
   "outputs": [
    {
     "data": {
      "text/html": [
       "<div>\n",
       "<style scoped>\n",
       "    .dataframe tbody tr th:only-of-type {\n",
       "        vertical-align: middle;\n",
       "    }\n",
       "\n",
       "    .dataframe tbody tr th {\n",
       "        vertical-align: top;\n",
       "    }\n",
       "\n",
       "    .dataframe thead th {\n",
       "        text-align: right;\n",
       "    }\n",
       "</style>\n",
       "<table border=\"1\" class=\"dataframe\">\n",
       "  <thead>\n",
       "    <tr style=\"text-align: right;\">\n",
       "      <th></th>\n",
       "      <th>rank</th>\n",
       "      <th>language</th>\n",
       "      <th>speakers</th>\n",
       "      <th>percentage</th>\n",
       "      <th>language_family</th>\n",
       "      <th>branch</th>\n",
       "    </tr>\n",
       "  </thead>\n",
       "  <tbody>\n",
       "    <tr>\n",
       "      <th>0</th>\n",
       "      <td>1</td>\n",
       "      <td>Mandarin Chinese</td>\n",
       "      <td>918</td>\n",
       "      <td>11.922%</td>\n",
       "      <td>Sino-Tibetan</td>\n",
       "      <td>Sinitic</td>\n",
       "    </tr>\n",
       "    <tr>\n",
       "      <th>1</th>\n",
       "      <td>2</td>\n",
       "      <td>Spanish</td>\n",
       "      <td>480</td>\n",
       "      <td>5.994%</td>\n",
       "      <td>Indo-European</td>\n",
       "      <td>Romance</td>\n",
       "    </tr>\n",
       "    <tr>\n",
       "      <th>2</th>\n",
       "      <td>3</td>\n",
       "      <td>English</td>\n",
       "      <td>379</td>\n",
       "      <td>4.922%</td>\n",
       "      <td>Indo-European</td>\n",
       "      <td>Germanic</td>\n",
       "    </tr>\n",
       "    <tr>\n",
       "      <th>3</th>\n",
       "      <td>4</td>\n",
       "      <td>Hindi (sanskritised Hindustani)[9]</td>\n",
       "      <td>341</td>\n",
       "      <td>4.429%</td>\n",
       "      <td>Indo-European</td>\n",
       "      <td>Indo-Aryan</td>\n",
       "    </tr>\n",
       "    <tr>\n",
       "      <th>4</th>\n",
       "      <td>5</td>\n",
       "      <td>Bengali</td>\n",
       "      <td>300</td>\n",
       "      <td>4.000%</td>\n",
       "      <td>Indo-European</td>\n",
       "      <td>Indo-Aryan</td>\n",
       "    </tr>\n",
       "    <tr>\n",
       "      <th>5</th>\n",
       "      <td>6</td>\n",
       "      <td>Portuguese</td>\n",
       "      <td>221</td>\n",
       "      <td>2.870%</td>\n",
       "      <td>Indo-European</td>\n",
       "      <td>Romance</td>\n",
       "    </tr>\n",
       "    <tr>\n",
       "      <th>6</th>\n",
       "      <td>7</td>\n",
       "      <td>Russian</td>\n",
       "      <td>154</td>\n",
       "      <td>2.000%</td>\n",
       "      <td>Indo-European</td>\n",
       "      <td>Balto-Slavic</td>\n",
       "    </tr>\n",
       "    <tr>\n",
       "      <th>7</th>\n",
       "      <td>8</td>\n",
       "      <td>Japanese</td>\n",
       "      <td>128</td>\n",
       "      <td>1.662%</td>\n",
       "      <td>Japonic</td>\n",
       "      <td>Japanese</td>\n",
       "    </tr>\n",
       "    <tr>\n",
       "      <th>8</th>\n",
       "      <td>9</td>\n",
       "      <td>Western Punjabi[10]</td>\n",
       "      <td>92.7</td>\n",
       "      <td>1.204%</td>\n",
       "      <td>Indo-European</td>\n",
       "      <td>Indo-Aryan</td>\n",
       "    </tr>\n",
       "    <tr>\n",
       "      <th>9</th>\n",
       "      <td>10</td>\n",
       "      <td>Marathi</td>\n",
       "      <td>83.1</td>\n",
       "      <td>1.079%</td>\n",
       "      <td>Indo-European</td>\n",
       "      <td>Indo-Aryan</td>\n",
       "    </tr>\n",
       "    <tr>\n",
       "      <th>10</th>\n",
       "      <td>11</td>\n",
       "      <td>Telugu</td>\n",
       "      <td>82.0</td>\n",
       "      <td>1.065%</td>\n",
       "      <td>Dravidian</td>\n",
       "      <td>South-Central</td>\n",
       "    </tr>\n",
       "    <tr>\n",
       "      <th>11</th>\n",
       "      <td>12</td>\n",
       "      <td>Wu Chinese</td>\n",
       "      <td>81.4</td>\n",
       "      <td>1.057%</td>\n",
       "      <td>Sino-Tibetan</td>\n",
       "      <td>Sinitic</td>\n",
       "    </tr>\n",
       "    <tr>\n",
       "      <th>12</th>\n",
       "      <td>13</td>\n",
       "      <td>Turkish</td>\n",
       "      <td>79.4</td>\n",
       "      <td>1.031%</td>\n",
       "      <td>Turkic</td>\n",
       "      <td>Oghuz</td>\n",
       "    </tr>\n",
       "    <tr>\n",
       "      <th>13</th>\n",
       "      <td>14</td>\n",
       "      <td>Korean</td>\n",
       "      <td>77.3</td>\n",
       "      <td>1.004%</td>\n",
       "      <td>Koreanic</td>\n",
       "      <td>language isolate</td>\n",
       "    </tr>\n",
       "    <tr>\n",
       "      <th>14</th>\n",
       "      <td>15</td>\n",
       "      <td>French</td>\n",
       "      <td>77.2</td>\n",
       "      <td>1.003%</td>\n",
       "      <td>Indo-European</td>\n",
       "      <td>Romance</td>\n",
       "    </tr>\n",
       "    <tr>\n",
       "      <th>15</th>\n",
       "      <td>16</td>\n",
       "      <td>German (only Standard German)</td>\n",
       "      <td>76.1</td>\n",
       "      <td>0.988%</td>\n",
       "      <td>Indo-European</td>\n",
       "      <td>Germanic</td>\n",
       "    </tr>\n",
       "    <tr>\n",
       "      <th>16</th>\n",
       "      <td>17</td>\n",
       "      <td>Vietnamese</td>\n",
       "      <td>76.0</td>\n",
       "      <td>0.987%</td>\n",
       "      <td>Austroasiatic</td>\n",
       "      <td>Vietic</td>\n",
       "    </tr>\n",
       "  </tbody>\n",
       "</table>\n",
       "</div>"
      ],
      "text/plain": [
       "   rank                            language speakers percentage  \\\n",
       "0     1                    Mandarin Chinese      918    11.922%   \n",
       "1     2                             Spanish      480     5.994%   \n",
       "2     3                             English      379     4.922%   \n",
       "3     4  Hindi (sanskritised Hindustani)[9]      341     4.429%   \n",
       "4     5                             Bengali      300     4.000%   \n",
       "5     6                          Portuguese      221     2.870%   \n",
       "6     7                             Russian      154     2.000%   \n",
       "7     8                            Japanese      128     1.662%   \n",
       "8     9                 Western Punjabi[10]     92.7     1.204%   \n",
       "9    10                             Marathi     83.1     1.079%   \n",
       "10   11                              Telugu     82.0     1.065%   \n",
       "11   12                          Wu Chinese     81.4     1.057%   \n",
       "12   13                             Turkish     79.4     1.031%   \n",
       "13   14                              Korean     77.3     1.004%   \n",
       "14   15                              French     77.2     1.003%   \n",
       "15   16       German (only Standard German)     76.1     0.988%   \n",
       "16   17                          Vietnamese     76.0     0.987%   \n",
       "\n",
       "   language_family            branch  \n",
       "0     Sino-Tibetan           Sinitic  \n",
       "1    Indo-European           Romance  \n",
       "2    Indo-European          Germanic  \n",
       "3    Indo-European        Indo-Aryan  \n",
       "4    Indo-European        Indo-Aryan  \n",
       "5    Indo-European           Romance  \n",
       "6    Indo-European      Balto-Slavic  \n",
       "7          Japonic          Japanese  \n",
       "8    Indo-European        Indo-Aryan  \n",
       "9    Indo-European        Indo-Aryan  \n",
       "10       Dravidian     South-Central  \n",
       "11    Sino-Tibetan           Sinitic  \n",
       "12          Turkic             Oghuz  \n",
       "13        Koreanic  language isolate  \n",
       "14   Indo-European           Romance  \n",
       "15   Indo-European          Germanic  \n",
       "16   Austroasiatic            Vietic  "
      ]
     },
     "execution_count": 72,
     "metadata": {},
     "output_type": "execute_result"
    }
   ],
   "source": [
    "final_languages"
   ]
  },
  {
   "cell_type": "code",
   "execution_count": null,
   "id": "b1a00b09-a7db-4534-a531-da993c99d35e",
   "metadata": {},
   "outputs": [],
   "source": []
  }
 ],
 "metadata": {
  "kernelspec": {
   "display_name": "Python 3",
   "language": "python",
   "name": "python3"
  },
  "language_info": {
   "codemirror_mode": {
    "name": "ipython",
    "version": 3
   },
   "file_extension": ".py",
   "mimetype": "text/x-python",
   "name": "python",
   "nbconvert_exporter": "python",
   "pygments_lexer": "ipython3",
   "version": "3.8.8"
  }
 },
 "nbformat": 4,
 "nbformat_minor": 5
}
